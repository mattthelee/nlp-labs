{
 "cells": [
  {
   "cell_type": "code",
   "execution_count": 102,
   "metadata": {},
   "outputs": [],
   "source": [
    "import pandas as pd\n",
    "import glob\n",
    "import math\n",
    "import contractions\n",
    "from nltk.corpus import stopwords\n",
    "from nltk import word_tokenize\n",
    "import keras\n",
    "from keras.preprocessing.sequence import pad_sequences\n",
    "from keras import Sequential\n",
    "from keras.layers import Embedding, LSTM, Dense, Dropout, Input, Conv1D, MaxPooling1D, Flatten, Conv2D, Bidirectional\n",
    "from keras.utils import plot_model, vis_utils\n",
    "import numpy as np\n",
    "from sklearn.preprocessing import LabelEncoder, OneHotEncoder\n",
    "import matplotlib.pyplot as plt\n",
    "from sklearn.metrics import confusion_matrix\n",
    "from sklearn.model_selection import train_test_split\n",
    "import emoji\n",
    "import string\n",
    "from keras.callbacks import ModelCheckpoint\n",
    "\n",
    "# Task 4 improving the models imports\n",
    "import spacy\n",
    "\n"
   ]
  },
  {
   "cell_type": "code",
   "execution_count": 2,
   "metadata": {},
   "outputs": [],
   "source": [
    "# Data has been preprocessed by removing all the \" characters: sed -i 's/\"//g' *.txt\n",
    "# as this caused issues reading the data as a csv file. \n",
    "# Also had to remove a blank line from subtask A 2016 test data \n",
    "# TODO instead change the quote char in the read_csv call\n",
    "\n",
    "# Load the data\n",
    "fileGlob = glob.glob('./task3Data/*.txt')\n",
    "\n",
    "traindf = pd.concat([pd.read_csv(f, sep='\\t', header=None, keep_default_na=False) for f in fileGlob], ignore_index = True)\n",
    "traindf.columns = ['id','topic','label','raw']\n",
    "#traindf = traindf.drop(['date'], axis=1)"
   ]
  },
  {
   "cell_type": "code",
   "execution_count": null,
   "metadata": {},
   "outputs": [],
   "source": []
  },
  {
   "cell_type": "code",
   "execution_count": null,
   "metadata": {},
   "outputs": [],
   "source": []
  },
  {
   "cell_type": "markdown",
   "metadata": {},
   "source": [
    "# Things to try:\n",
    "Convert the text into vector my using a pre-trained system. \n",
    "Convert text into a vector by using a NN to train the embeddings. \n",
    "\n",
    "Looks like i need to handle the weird character replacement that's happening"
   ]
  },
  {
   "cell_type": "code",
   "execution_count": 3,
   "metadata": {},
   "outputs": [],
   "source": [
    "# Need to do some preprocessing on the data to remove stop words, punctuation and probably stem the words too. \n",
    "# Need to handle the /u002c and other unicdoe character artifacts that are happening. \n",
    "# If removing punctuation then may want to simply remove them \n",
    "# but if expanding contractinons will need to convert them first. - a library exists to do this\n",
    "# Need to check to see what's happening with emojis\n",
    "\n"
   ]
  },
  {
   "cell_type": "code",
   "execution_count": 126,
   "metadata": {},
   "outputs": [
    {
     "name": "stderr",
     "output_type": "stream",
     "text": [
      "/home/leem/anaconda3/envs/eenlp/lib/python3.6/site-packages/ipykernel_launcher.py:6: DeprecationWarning: invalid escape sequence '\\_'\n",
      "  \n",
      "/home/leem/anaconda3/envs/eenlp/lib/python3.6/site-packages/ipykernel_launcher.py:6: DeprecationWarning: invalid escape sequence '\\m'\n",
      "  \n",
      "/home/leem/anaconda3/envs/eenlp/lib/python3.6/site-packages/ipykernel_launcher.py:6: DeprecationWarning: invalid escape sequence '\\,'\n",
      "  \n",
      "/home/leem/anaconda3/envs/eenlp/lib/python3.6/site-packages/ipykernel_launcher.py:6: DeprecationWarning: invalid escape sequence '\\o'\n",
      "  \n",
      "/home/leem/anaconda3/envs/eenlp/lib/python3.6/site-packages/ipykernel_launcher.py:6: DeprecationWarning: invalid escape sequence '\\l'\n",
      "  \n"
     ]
    }
   ],
   "source": [
    "def preprocess(tweet, stop_words, target):\n",
    "    # Handle utf8 unicode problems\n",
    "    #print(tweet)\n",
    "    #tweet = emoji.demojize(tweet)\n",
    "    \n",
    "    tweet = tweet.encode('utf8').decode('unicode_escape', 'ignore') \n",
    "    tweet = contractions.fix(tweet)\n",
    "    tweet = tweet.lower()\n",
    "    if target.lower() in tweet:\n",
    "        tweet = tweet.replace(target,\"<TARGETTOKEN>\")\n",
    "        \n",
    "    tweetLine = word_tokenize(tweet)\n",
    "    # remove all tokens that are not alphabetic or stopwords, also lower the words\n",
    "    tweetLine = [word for word in tweetLine if word not in stop_words and word not in string.punctuation]\n",
    "    return tweetLine\n",
    "\n",
    "stop_words = stopwords.words('english')\n",
    "\n",
    "traindf['text'] = traindf.apply(lambda row: preprocess(row['raw'], stop_words, row['topic']),axis=1)\n"
   ]
  },
  {
   "cell_type": "code",
   "execution_count": 4,
   "metadata": {},
   "outputs": [
    {
     "name": "stdout",
     "output_type": "stream",
     "text": [
      "165\n",
      "['TARGETTOKEN', 'systems', 'technical', 'university', 'come', 'visit', 'TARGETTOKEN', 'global', 'training', 'providers', 'TARGETTOKEN', 'stu15', 'TARGETTOKEN', 'training', 'starts', '01/sep', 'http', '//t.co/yntxyrlyod']\n",
      "39\n",
      "['work', 'friday', 'night', 'lt', 'lt', 'lt', 'lt', 'lt', 'TARGETTOKEN', 'bound', 'morning', 'gt', 'gt', 'gt', 'gt', 'gt', 'gt', 'gt', 'gt', 'gt', 'gt', 'gt', 'gt', 'gt', 'gt', 'gt', 'gt', 'gt', 'gt', 'gt', 'gt', 'gt', 'gt', 'gt', 'gt', 'gt', 'gt', 'gt', 'gt']\n"
     ]
    }
   ],
   "source": [
    "# Sanity check to ensure tweets are tweet length\n",
    "maxi = 0\n",
    "for text in traindf.text:\n",
    "    length = len(' '.join(text))\n",
    "    if length > maxi:\n",
    "        maxi = length\n",
    "        sanityCheck = text\n",
    "print(maxi)\n",
    "print(sanityCheck)\n",
    "\n",
    "maxi = 0\n",
    "for text in traindf.text:\n",
    "    length = len(text)\n",
    "    if length > maxi:\n",
    "        maxi = length\n",
    "        sanityCheck = text\n",
    "print(maxi)\n",
    "print(sanityCheck)"
   ]
  },
  {
   "cell_type": "code",
   "execution_count": 5,
   "metadata": {
    "scrolled": false
   },
   "outputs": [
    {
     "name": "stdout",
     "output_type": "stream",
     "text": [
      "I can't stop thinking about the fact that I'm going to be in the presence of Snoop Dogg on Sunday\n",
      "['stop', 'thinking', 'fact', 'going', 'presence', 'TARGETTOKEN', 'sunday']\n",
      "2\n",
      "snoop dogg\n",
      "['stop', 'thinking', 'fact', 'going', 'presence', 'TARGETTOKEN', 'sunday']\n",
      "True\n"
     ]
    }
   ],
   "source": [
    "pd.options.display.max_colwidth = 10000\n",
    "sample = traindf.loc[traindf.id == 641648318754516992]\n",
    "\n",
    "print(sample.raw.item())\n",
    "print(sample.text.item())\n",
    "print(sample.label.item())\n",
    "print(sample.topic.item())\n",
    "sampleLine = preprocess(sample.raw.item(),stop_words, sample.topic.item())\n",
    "print(sampleLine)\n",
    "print(sample.topic.item() in sample.raw.item().lower())"
   ]
  },
  {
   "cell_type": "code",
   "execution_count": null,
   "metadata": {},
   "outputs": [],
   "source": []
  },
  {
   "cell_type": "code",
   "execution_count": 6,
   "metadata": {},
   "outputs": [],
   "source": [
    "# create index-word relationship\n",
    "word2idx = {'<PAD>': 0, '<UNK>' : 1,'TARGETTOKEN' : 2 }\n",
    "idx2word ={}\n",
    "sents_as_ids = []\n",
    "for line in traindf.text:\n",
    "    sentId = []\n",
    "    for word in line:\n",
    "        if word in word2idx:\n",
    "            sentId.append(word2idx[word])\n",
    "            continue\n",
    "        count = len(word2idx)\n",
    "        word2idx[word] = count\n",
    "        idx2word[count] = word\n",
    "        sentId.append(count)\n",
    "    sents_as_ids.append(sentId)\n",
    "    "
   ]
  },
  {
   "cell_type": "code",
   "execution_count": 7,
   "metadata": {},
   "outputs": [],
   "source": [
    "def convertTextToNumSeq(text, word2idx,MAXIMUM_LENGTH):\n",
    "    numSeq = []\n",
    "    for word in text:\n",
    "        if word in word2idx:\n",
    "            numSeq.append(word2idx[word])\n",
    "        else:\n",
    "            # If unseen put in unknown\n",
    "            numSeq.append(1) \n",
    "                \n",
    "    numSeq = pad_sequences([numSeq],MAXIMUM_LENGTH )\n",
    "    return numSeq\n",
    "\n",
    "MAXIMUM_LENGTH = 50 # Motivated because max sequence of words i had was 32\n",
    "\n",
    "traindf['numSeq'] = traindf.apply(lambda row: convertTextToNumSeq(row['text'], word2idx, MAXIMUM_LENGTH),axis=1)"
   ]
  },
  {
   "cell_type": "code",
   "execution_count": 28,
   "metadata": {},
   "outputs": [
    {
     "name": "stdout",
     "output_type": "stream",
     "text": [
      " 0    3248\n",
      " 1    3230\n",
      "-1     850\n",
      " 2     255\n",
      "-2      75\n",
      "Name: label, dtype: int64\n"
     ]
    }
   ],
   "source": [
    "x_train, x_val, y_train, y_val = train_test_split(traindf.numSeq, traindf.label, stratify=traindf.label, random_state =2)\n",
    "labelDist = y_val.value_counts()\n",
    "print(labelDist)\n",
    "x_train = np.array([x for y in x_train for x in y]).reshape(len(x_train),MAXIMUM_LENGTH)\n",
    "x_val = np.array([x for y in x_val for x in y]).reshape(len(x_val),MAXIMUM_LENGTH)\n",
    "\n",
    "\n",
    "labelCount = len(labelDist)\n",
    "#Y data is categorical therefore must be converted to a vector\n",
    "onehot_encoder = OneHotEncoder(sparse=False,categories='auto')\n",
    "y_train = onehot_encoder.fit_transform(np.array(y_train).reshape(len(y_train),1))\n",
    "y_val = onehot_encoder.transform(np.array(y_val).reshape(len(y_val),1))"
   ]
  },
  {
   "cell_type": "code",
   "execution_count": 20,
   "metadata": {},
   "outputs": [
    {
     "name": "stdout",
     "output_type": "stream",
     "text": [
      "_________________________________________________________________\n",
      "Layer (type)                 Output Shape              Param #   \n",
      "=================================================================\n",
      "embedding_1 (Embedding)      (None, 50, 100)           6000000   \n",
      "_________________________________________________________________\n",
      "lstm_1 (LSTM)                (None, 100)               80400     \n",
      "_________________________________________________________________\n",
      "dense_11 (Dense)             (None, 5)                 505       \n",
      "=================================================================\n",
      "Total params: 6,080,905\n",
      "Trainable params: 6,080,905\n",
      "Non-trainable params: 0\n",
      "_________________________________________________________________\n"
     ]
    }
   ],
   "source": [
    "VOCAB_SIZE = 60000\n",
    "\n",
    "EMBED_SIZE = 100\n",
    "model = Sequential()\n",
    "model.add(Embedding(VOCAB_SIZE, EMBED_SIZE,input_length=MAXIMUM_LENGTH))\n",
    "model.add(LSTM(100))\n",
    "\n",
    "model.add(Dense(labelCount, activation='softmax'))\n",
    "model.summary()\n",
    "\n",
    "model.compile(optimizer='adam',\n",
    "              loss='categorical_crossentropy',\n",
    "              metrics=['accuracy'])\n",
    "weightsFilePath=\"task3Weights.best.hdf5\""
   ]
  },
  {
   "cell_type": "code",
   "execution_count": 11,
   "metadata": {},
   "outputs": [
    {
     "name": "stdout",
     "output_type": "stream",
     "text": [
      "Train on 22974 samples, validate on 7658 samples\n",
      "Epoch 1/5\n",
      "22974/22974 [==============================] - 29s 1ms/step - loss: 1.1272 - acc: 0.4759 - val_loss: 1.0289 - val_acc: 0.5504\n",
      "\n",
      "Epoch 00001: val_acc improved from -inf to 0.55040, saving model to task3Weights.best.hdf5\n",
      "Epoch 2/5\n",
      "22974/22974 [==============================] - 29s 1ms/step - loss: 0.8300 - acc: 0.6672 - val_loss: 1.0087 - val_acc: 0.5615\n",
      "\n",
      "Epoch 00002: val_acc improved from 0.55040 to 0.56150, saving model to task3Weights.best.hdf5\n",
      "Epoch 3/5\n",
      "22974/22974 [==============================] - 29s 1ms/step - loss: 0.4665 - acc: 0.8298 - val_loss: 1.2047 - val_acc: 0.5418\n",
      "\n",
      "Epoch 00003: val_acc did not improve from 0.56150\n",
      "Epoch 4/5\n",
      "22974/22974 [==============================] - 29s 1ms/step - loss: 0.2621 - acc: 0.9079 - val_loss: 1.5104 - val_acc: 0.5257\n",
      "\n",
      "Epoch 00004: val_acc did not improve from 0.56150\n",
      "Epoch 5/5\n",
      "22974/22974 [==============================] - 29s 1ms/step - loss: 0.1631 - acc: 0.9434 - val_loss: 1.8075 - val_acc: 0.5108\n",
      "\n",
      "Epoch 00005: val_acc did not improve from 0.56150\n"
     ]
    }
   ],
   "source": [
    "# Save the best weights to a file so we get the model with the best val acc\n",
    "checkpoint = ModelCheckpoint(weightsFilePath, monitor='val_acc', verbose=1, save_best_only=True, mode='max')\n",
    "history = model.fit(x_train,y_train,epochs=5,batch_size=128,validation_data=(x_val, y_val), callbacks=[checkpoint],verbose=1)"
   ]
  },
  {
   "cell_type": "code",
   "execution_count": 12,
   "metadata": {},
   "outputs": [
    {
     "data": {
      "image/png": "[encoded data removed]",
      "text/plain": [
       "<Figure size 432x288 with 1 Axes>"
      ]
     },
     "metadata": {
      "needs_background": "light"
     },
     "output_type": "display_data"
    }
   ],
   "source": [
    "plt.plot(history.history['acc'])\n",
    "plt.plot(history.history['val_acc'])\n",
    "plt.title('Model Accuracies')\n",
    "plt.xlabel('Epoch')\n",
    "plt.ylabel('Accuracy')\n",
    "plt.legend(['Train', 'Val'])\n",
    "plt.show()"
   ]
  },
  {
   "cell_type": "code",
   "execution_count": 13,
   "metadata": {},
   "outputs": [],
   "source": [
    "# With stop word removal,string.punctuation word removal, vocab size 60000, padding at 50, get 0.56 val accuracy \n",
    "# adding in TARGETTOKEN  increased accuracy by less than 1% "
   ]
  },
  {
   "cell_type": "code",
   "execution_count": 35,
   "metadata": {},
   "outputs": [
    {
     "ename": "NameError",
     "evalue": "name 'model' is not defined",
     "output_type": "error",
     "traceback": [
      "\u001b[0;31m---------------------------------------------------------------------------\u001b[0m",
      "\u001b[0;31mNameError\u001b[0m                                 Traceback (most recent call last)",
      "\u001b[0;32m<ipython-input-35-a6c6be46f980>\u001b[0m in \u001b[0;36m<module>\u001b[0;34m\u001b[0m\n\u001b[1;32m      1\u001b[0m \u001b[0;31m# Load the weights from the model with the best val accuracy\u001b[0m\u001b[0;34m\u001b[0m\u001b[0;34m\u001b[0m\u001b[0;34m\u001b[0m\u001b[0m\n\u001b[0;32m----> 2\u001b[0;31m \u001b[0mmodel\u001b[0m\u001b[0;34m.\u001b[0m\u001b[0mload_weights\u001b[0m\u001b[0;34m(\u001b[0m\u001b[0mweightsFilePath\u001b[0m\u001b[0;34m)\u001b[0m\u001b[0;34m\u001b[0m\u001b[0;34m\u001b[0m\u001b[0m\n\u001b[0m\u001b[1;32m      3\u001b[0m \u001b[0;34m\u001b[0m\u001b[0m\n\u001b[1;32m      4\u001b[0m \u001b[0my_pred\u001b[0m \u001b[0;34m=\u001b[0m \u001b[0mmodel\u001b[0m\u001b[0;34m.\u001b[0m\u001b[0mpredict\u001b[0m\u001b[0;34m(\u001b[0m\u001b[0mx_val\u001b[0m\u001b[0;34m)\u001b[0m\u001b[0;34m\u001b[0m\u001b[0;34m\u001b[0m\u001b[0m\n\u001b[1;32m      5\u001b[0m \u001b[0my_pred\u001b[0m \u001b[0;34m=\u001b[0m \u001b[0mnp\u001b[0m\u001b[0;34m.\u001b[0m\u001b[0marray\u001b[0m\u001b[0;34m(\u001b[0m\u001b[0;34m[\u001b[0m\u001b[0;34m[\u001b[0m\u001b[0;36m1\u001b[0m \u001b[0;32mif\u001b[0m \u001b[0mi\u001b[0m \u001b[0;34m==\u001b[0m \u001b[0mmax\u001b[0m\u001b[0;34m(\u001b[0m\u001b[0msc\u001b[0m\u001b[0;34m)\u001b[0m \u001b[0;32melse\u001b[0m \u001b[0;36m0\u001b[0m \u001b[0;32mfor\u001b[0m \u001b[0mi\u001b[0m \u001b[0;32min\u001b[0m \u001b[0msc\u001b[0m\u001b[0;34m]\u001b[0m \u001b[0;32mfor\u001b[0m \u001b[0msc\u001b[0m \u001b[0;32min\u001b[0m \u001b[0my_pred\u001b[0m\u001b[0;34m]\u001b[0m\u001b[0;34m)\u001b[0m\u001b[0;34m\u001b[0m\u001b[0;34m\u001b[0m\u001b[0m\n",
      "\u001b[0;31mNameError\u001b[0m: name 'model' is not defined"
     ]
    }
   ],
   "source": [
    "# Load the weights from the model with the best val accuracy\n",
    "model.load_weights(weightsFilePath)\n",
    "\n",
    "y_pred = model.predict(x_val)\n",
    "y_pred = np.array([[1 if i == max(sc) else 0 for i in sc] for sc in y_pred])\n",
    "y_pred_text = onehot_encoder.inverse_transform(y_pred)\n",
    "y_val_text = onehot_encoder.inverse_transform(y_val)"
   ]
  },
  {
   "cell_type": "code",
   "execution_count": 15,
   "metadata": {},
   "outputs": [],
   "source": [
    "cm = confusion_matrix(y_val_text, y_pred_text)"
   ]
  },
  {
   "cell_type": "code",
   "execution_count": 18,
   "metadata": {},
   "outputs": [],
   "source": [
    "def averageFScore(cm):\n",
    "    (noClasses,_) = cm.shape\n",
    "    fsum = 0\n",
    "    recalls = []\n",
    "    precisions = []\n",
    "    for i in range(noClasses):\n",
    "        correct = cm[i][i]\n",
    "        # if row or col total is zero set to 1 to avoid nans\n",
    "        rowTotal = max(sum(cm[i]),1)\n",
    "        colTotal = max(sum(cm[:,i]),1)\n",
    "        recall = correct / rowTotal\n",
    "        recalls.append(recall)\n",
    "        precision = correct / colTotal\n",
    "        precisions.append(precision)\n",
    "        \n",
    "        # Get denominator, if 0 set to 1 to avoid nans\n",
    "        denominator = precision + recall if precision + recall > 0 else 1\n",
    "        f1 = 2*precision*recall / denominator\n",
    "        fsum += f1\n",
    "    return fsum/noClasses, recalls, precisions"
   ]
  },
  {
   "cell_type": "code",
   "execution_count": 42,
   "metadata": {},
   "outputs": [
    {
     "name": "stdout",
     "output_type": "stream",
     "text": [
      "[[   0   99   58   20    0]\n",
      " [   1 1024 1797  723    0]\n",
      " [   0  782 3414 1998    0]\n",
      " [   0  109  744 1479    0]\n",
      " [   0    6   12  113    0]]\n"
     ]
    }
   ],
   "source": [
    "# Rows are the actual, columns are the predicted. strongly negative,  negative, neutral, positve, strongly positive\n",
    "print(cm)"
   ]
  },
  {
   "cell_type": "code",
   "execution_count": 43,
   "metadata": {},
   "outputs": [
    {
     "name": "stdout",
     "output_type": "stream",
     "text": [
      "0.0\n",
      "0.5069306930693069\n",
      "0.5666390041493776\n",
      "0.34133394876528966\n",
      "0.0\n",
      "Average fscore: 0.27412543884924134\n",
      "testAccuracy 0.4779869133209468\n",
      "Recalls for each class: [0.0, 0.28885754583921014, 0.5511785598966742, 0.6342195540308748, 0.0]\n",
      "Precisions for each class [0.0, 0.5069306930693069, 0.5666390041493776, 0.34133394876528966, 0.0]\n"
     ]
    }
   ],
   "source": [
    "valAccuracy = (cm[0][0] + cm[1][1] + cm[2][2] +cm[3][3] + cm[4][4])/sum(sum(cm))\n",
    "avgfscore, recalls, precisions = averageFScore(cm)\n",
    "print(f\"Average fscore: {avgfscore}\")\n",
    "print(f\"valAccuracy {valAccuracy}\")\n",
    "print(f\"Recalls for each class: {recalls}\")\n",
    "print(f\"Precisions for each class {precisions}\")"
   ]
  },
  {
   "cell_type": "markdown",
   "metadata": {},
   "source": [
    "## Performance on test data"
   ]
  },
  {
   "cell_type": "code",
   "execution_count": 11,
   "metadata": {
    "scrolled": true
   },
   "outputs": [
    {
     "name": "stderr",
     "output_type": "stream",
     "text": [
      "/home/leem/anaconda3/envs/eenlp/lib/python3.6/site-packages/ipykernel_launcher.py:6: DeprecationWarning: invalid escape sequence '\\ '\n",
      "  \n",
      "/home/leem/anaconda3/envs/eenlp/lib/python3.6/site-packages/ipykernel_launcher.py:6: DeprecationWarning: invalid escape sequence '\\o'\n",
      "  \n",
      "/home/leem/anaconda3/envs/eenlp/lib/python3.6/site-packages/ipykernel_launcher.py:6: DeprecationWarning: invalid escape sequence '\\_'\n",
      "  \n",
      "/home/leem/anaconda3/envs/eenlp/lib/python3.6/site-packages/ipykernel_launcher.py:6: DeprecationWarning: invalid escape sequence '\\S'\n",
      "  \n"
     ]
    }
   ],
   "source": [
    "# Load the data\n",
    "testdf = pd.read_csv('./SemEval2017-task4-test/SemEval2017-task4-test.subtask-CE.english.txt', sep='\\t', header=None, keep_default_na=False)\n",
    "testdf.columns = ['id','topic','label','raw']\n",
    "\n",
    "testdf['text'] = testdf.apply(lambda row: preprocess(row['raw'], stop_words, row['topic']),axis=1)\n"
   ]
  },
  {
   "cell_type": "code",
   "execution_count": 107,
   "metadata": {},
   "outputs": [],
   "source": [
    "testdf['numSeq'] = testdf.apply(lambda row: convertTextToNumSeq(row['text'], word2idx, MAXIMUM_LENGTH),axis=1)"
   ]
  },
  {
   "cell_type": "code",
   "execution_count": 108,
   "metadata": {},
   "outputs": [
    {
     "name": "stdout",
     "output_type": "stream",
     "text": [
      " 0    6194\n",
      "-1    3545\n",
      " 1    2332\n",
      "-2     177\n",
      " 2     131\n",
      "Name: label, dtype: int64\n"
     ]
    }
   ],
   "source": [
    "x_test = testdf['numSeq']\n",
    "y_test = testdf['label']\n",
    "\n",
    "# Prelim analysis to indicate class imbalance\n",
    "print(y_test.value_counts())\n",
    "\n",
    "# Onehot encode the y data\n",
    "y_test = onehot_encoder.transform(np.array(y_test).reshape(len(y_test),1))\n",
    "x_test = np.array([x for y in x_test for x in y]).reshape(len(x_test),MAXIMUM_LENGTH)"
   ]
  },
  {
   "cell_type": "code",
   "execution_count": 21,
   "metadata": {},
   "outputs": [],
   "source": [
    "# Get predictions and prepare data for confusion matrix\n",
    "y_testpred = model.predict(x_test)\n",
    "y_testpred = np.array([[1 if i == max(sc) else 0 for i in sc] for sc in y_testpred])\n",
    "y_testpred_text = onehot_encoder.inverse_transform(y_testpred)\n",
    "y_test_text = onehot_encoder.inverse_transform(y_test)"
   ]
  },
  {
   "cell_type": "code",
   "execution_count": 47,
   "metadata": {},
   "outputs": [
    {
     "name": "stdout",
     "output_type": "stream",
     "text": [
      "[[   0   99   58   20    0]\n",
      " [   1 1024 1797  723    0]\n",
      " [   0  782 3414 1998    0]\n",
      " [   0  109  744 1479    0]\n",
      " [   0    6   12  113    0]]\n",
      "Average fscore: 0.27412543884924134\n",
      "testAccuracy 0.4779869133209468\n",
      "Recalls for each class: [0.0, 0.28885754583921014, 0.5511785598966742, 0.6342195540308748, 0.0]\n",
      "Precisions for each class [0.0, 0.5069306930693069, 0.5666390041493776, 0.34133394876528966, 0.0]\n"
     ]
    }
   ],
   "source": [
    "# Create confusion matrix and get some key information from it. \n",
    "cm = confusion_matrix(y_test_text, y_testpred_text, labels=[-2,-1,0,1,2])\n",
    "print(cm)\n",
    "testAccuracy = (cm[0][0] + cm[1][1] + cm[2][2] +cm[3][3] + cm[4][4])/sum(sum(cm))\n",
    "avgfscore, recalls, precisions = averageFScore(cm)\n",
    "print(f\"Average fscore: {avgfscore}\")\n",
    "print(f\"testAccuracy {testAccuracy}\")\n",
    "print(f\"Recalls for each class: {recalls}\")\n",
    "print(f\"Precisions for each class {precisions}\")"
   ]
  },
  {
   "cell_type": "markdown",
   "metadata": {},
   "source": [
    "Test accuracy was 47.8%, the drop compared to other subtasks is expected as there are more classes for this task, therefore the challenge is harder. Again the average fscore is low because of the poor precision and recall for the extreme cases of strongly negative and strongly positive. The test and trainign data have a large class imbalance which makes this problem harder. Future work could improve the model by addressing the class imbalance. "
   ]
  },
  {
   "cell_type": "markdown",
   "metadata": {},
   "source": [
    "# Step 4: Improving the classifier\n",
    "Steps: try training on all the trainign data\n",
    "- try training on the training and then doing an additional epoch on the validation set\n",
    "- try dealing with class imbalance\n",
    "- try calculating loss and accuracy based on the proximity of the classes to each other\n",
    "- try a different model usch as a bi-lstm or a cnn\n",
    "- try other embeddings\n",
    "- try getting other data"
   ]
  },
  {
   "cell_type": "code",
   "execution_count": 132,
   "metadata": {},
   "outputs": [],
   "source": [
    "# Using different embeddings\n",
    "# Spacy embeddings. \n",
    "\n",
    "def spacyEmbeddings(wordList, nlp):\n",
    "    spacyList = []\n",
    "    for word in wordList:\n",
    "        spacyList.append(nlp(word).vector)\n",
    "    return spacyList\n",
    "\n",
    "# Pads the spacy vec to consistent length\n",
    "def padSpacy(spacyList, MAXIMUM_LENGTH):\n",
    "    vecSize = len(spacyList[0])\n",
    "    listLength = len(spacyList)\n",
    "    zeroVec = np.zeros(vecSize)\n",
    "    for i in range(MAXIMUM_LENGTH - listLength):\n",
    "        spacyList.append(zeroVec)\n",
    "    return np.array(spacyList)\n",
    "\n",
    "nlp = spacy.load('en_vectors_web_lg')\n",
    "traindf['spacy'] = traindf.apply(lambda row: spacyEmbeddings(row['text'], nlp),axis=1)\n",
    "\n",
    "# Get average vecotor for NBOW model. N.B. Doing this before the padding to avoid diluting signal\n",
    "traindf['spacyAvg'] = traindf.apply(lambda row: np.average(row['spacy'], axis=0),axis=1)\n",
    "\n",
    "# Trying to use spacy 300 dim vector as a sequence created objects too big for my laptop's memory"
   ]
  },
  {
   "cell_type": "code",
   "execution_count": 133,
   "metadata": {},
   "outputs": [
    {
     "name": "stdout",
     "output_type": "stream",
     "text": [
      " 0    3248\n",
      " 1    3230\n",
      "-1     850\n",
      " 2     255\n",
      "-2      75\n",
      "Name: label, dtype: int64\n",
      "(300,)\n"
     ]
    }
   ],
   "source": [
    "spacy_x_train, spacy_x_val, spacy_y_train, spacy_y_val = train_test_split(traindf.spacyAvg, traindf.label, stratify=traindf.label, random_state =2)\n",
    "labelDist = spacy_y_val.value_counts()\n",
    "print(labelDist)\n",
    "spacy_x_train = np.array([x for y in spacy_x_train for x in y]).reshape(len(spacy_x_train),300)\n",
    "spacy_x_val = np.array([x for y in spacy_x_val for x in y]).reshape(len(spacy_x_val),300)\n",
    "print(spacy_x_train[0].shape)\n",
    "\n",
    "labelCount = len(labelDist)\n",
    "#Y data is categorical therefore must be converted to a vector\n",
    "onehot_encoder = OneHotEncoder(sparse=False,categories='auto')\n",
    "spacy_y_train = onehot_encoder.fit_transform(np.array(spacy_y_train).reshape(len(spacy_y_train),1))\n",
    "spacy_y_val = onehot_encoder.transform(np.array(spacy_y_val).reshape(len(spacy_y_val),1))"
   ]
  },
  {
   "cell_type": "code",
   "execution_count": 134,
   "metadata": {},
   "outputs": [
    {
     "name": "stdout",
     "output_type": "stream",
     "text": [
      "_________________________________________________________________\n",
      "Layer (type)                 Output Shape              Param #   \n",
      "=================================================================\n",
      "dense_97 (Dense)             (None, 64)                19264     \n",
      "_________________________________________________________________\n",
      "dropout_64 (Dropout)         (None, 64)                0         \n",
      "_________________________________________________________________\n",
      "dense_98 (Dense)             (None, 128)               8320      \n",
      "_________________________________________________________________\n",
      "dropout_65 (Dropout)         (None, 128)               0         \n",
      "_________________________________________________________________\n",
      "dense_99 (Dense)             (None, 128)               16512     \n",
      "_________________________________________________________________\n",
      "dropout_66 (Dropout)         (None, 128)               0         \n",
      "_________________________________________________________________\n",
      "dense_100 (Dense)            (None, 64)                8256      \n",
      "_________________________________________________________________\n",
      "dense_101 (Dense)            (None, 5)                 325       \n",
      "=================================================================\n",
      "Total params: 52,677\n",
      "Trainable params: 52,677\n",
      "Non-trainable params: 0\n",
      "_________________________________________________________________\n"
     ]
    }
   ],
   "source": [
    "# This is a NBOW model as it takes the average pacy vector for the sentence and then uses that as an input\n",
    "spacyModel = Sequential()\n",
    "spacyModel.add(Dense(64, activation='relu',input_shape=(300,)))\n",
    "spacyModel.add(Dropout(0.2))\n",
    "spacyModel.add(Dense(128, activation='relu'))\n",
    "spacyModel.add(Dropout(0.2))\n",
    "spacyModel.add(Dense(128, activation='relu'))\n",
    "spacyModel.add(Dropout(0.2))\n",
    "spacyModel.add(Dense(64, activation='relu'))\n",
    "spacyModel.add(Dense(5, activation='softmax'))\n",
    "spacyModel.summary()\n",
    "\n",
    "spacyModel.compile(optimizer='adam',\n",
    "              loss='categorical_crossentropy',\n",
    "              metrics=['accuracy'])\n",
    "# Save the best weights to a file so we get the model with the best val acc\n",
    "spacyWeightsFilePath=\"task3Spacy.best.hdf5\""
   ]
  },
  {
   "cell_type": "code",
   "execution_count": 135,
   "metadata": {},
   "outputs": [
    {
     "name": "stdout",
     "output_type": "stream",
     "text": [
      "Train on 22974 samples, validate on 7658 samples\n",
      "Epoch 1/30\n",
      "22974/22974 [==============================] - 5s 236us/step - loss: 1.0827 - acc: 0.5094 - val_loss: 0.9729 - val_acc: 0.5713\n",
      "\n",
      "Epoch 00001: val_acc improved from -inf to 0.57130, saving model to task3Spacy.best.hdf5\n",
      "Epoch 2/30\n",
      "22974/22974 [==============================] - 1s 40us/step - loss: 0.9662 - acc: 0.5621 - val_loss: 0.9427 - val_acc: 0.5806\n",
      "\n",
      "Epoch 00002: val_acc improved from 0.57130 to 0.58057, saving model to task3Spacy.best.hdf5\n",
      "Epoch 3/30\n",
      "22974/22974 [==============================] - 1s 28us/step - loss: 0.9444 - acc: 0.5772 - val_loss: 0.9459 - val_acc: 0.5832\n",
      "\n",
      "Epoch 00003: val_acc improved from 0.58057 to 0.58318, saving model to task3Spacy.best.hdf5\n",
      "Epoch 4/30\n",
      "22974/22974 [==============================] - 1s 30us/step - loss: 0.9281 - acc: 0.5846 - val_loss: 0.9346 - val_acc: 0.5793\n",
      "\n",
      "Epoch 00004: val_acc did not improve from 0.58318\n",
      "Epoch 5/30\n",
      "22974/22974 [==============================] - 1s 29us/step - loss: 0.9116 - acc: 0.5888 - val_loss: 0.9345 - val_acc: 0.5812\n",
      "\n",
      "Epoch 00005: val_acc did not improve from 0.58318\n",
      "Epoch 6/30\n",
      "22974/22974 [==============================] - 1s 29us/step - loss: 0.9037 - acc: 0.5915 - val_loss: 0.9302 - val_acc: 0.5773\n",
      "\n",
      "Epoch 00006: val_acc did not improve from 0.58318\n",
      "Epoch 7/30\n",
      "22974/22974 [==============================] - 1s 29us/step - loss: 0.8940 - acc: 0.5971 - val_loss: 0.9325 - val_acc: 0.5746\n",
      "\n",
      "Epoch 00007: val_acc did not improve from 0.58318\n",
      "Epoch 8/30\n",
      "22974/22974 [==============================] - 1s 35us/step - loss: 0.8850 - acc: 0.6001 - val_loss: 0.9288 - val_acc: 0.5759\n",
      "\n",
      "Epoch 00008: val_acc did not improve from 0.58318\n",
      "Epoch 9/30\n",
      "22974/22974 [==============================] - 1s 37us/step - loss: 0.8717 - acc: 0.6072 - val_loss: 0.9316 - val_acc: 0.5789\n",
      "\n",
      "Epoch 00009: val_acc did not improve from 0.58318\n",
      "Epoch 10/30\n",
      "22974/22974 [==============================] - 1s 36us/step - loss: 0.8669 - acc: 0.6124 - val_loss: 0.9337 - val_acc: 0.5759\n",
      "\n",
      "Epoch 00010: val_acc did not improve from 0.58318\n",
      "Epoch 11/30\n",
      "22974/22974 [==============================] - 1s 32us/step - loss: 0.8537 - acc: 0.6188 - val_loss: 0.9447 - val_acc: 0.5772\n",
      "\n",
      "Epoch 00011: val_acc did not improve from 0.58318\n",
      "Epoch 12/30\n",
      "22974/22974 [==============================] - 1s 33us/step - loss: 0.8451 - acc: 0.6214 - val_loss: 0.9589 - val_acc: 0.5815\n",
      "\n",
      "Epoch 00012: val_acc did not improve from 0.58318\n",
      "Epoch 13/30\n",
      "22974/22974 [==============================] - 1s 40us/step - loss: 0.8276 - acc: 0.6305 - val_loss: 0.9555 - val_acc: 0.5723\n",
      "\n",
      "Epoch 00013: val_acc did not improve from 0.58318\n",
      "Epoch 14/30\n",
      "22974/22974 [==============================] - 1s 29us/step - loss: 0.8198 - acc: 0.6325 - val_loss: 0.9564 - val_acc: 0.5716\n",
      "\n",
      "Epoch 00014: val_acc did not improve from 0.58318\n",
      "Epoch 15/30\n",
      "22974/22974 [==============================] - 1s 30us/step - loss: 0.8159 - acc: 0.6358 - val_loss: 0.9666 - val_acc: 0.5675\n",
      "\n",
      "Epoch 00015: val_acc did not improve from 0.58318\n",
      "Epoch 16/30\n",
      "22974/22974 [==============================] - 1s 36us/step - loss: 0.8037 - acc: 0.6435 - val_loss: 0.9667 - val_acc: 0.5712\n",
      "\n",
      "Epoch 00016: val_acc did not improve from 0.58318\n",
      "Epoch 17/30\n",
      "22974/22974 [==============================] - 1s 36us/step - loss: 0.7950 - acc: 0.6455 - val_loss: 0.9786 - val_acc: 0.5593\n",
      "\n",
      "Epoch 00017: val_acc did not improve from 0.58318\n",
      "Epoch 18/30\n",
      "22974/22974 [==============================] - 1s 33us/step - loss: 0.7890 - acc: 0.6479 - val_loss: 0.9757 - val_acc: 0.5708\n",
      "\n",
      "Epoch 00018: val_acc did not improve from 0.58318\n",
      "Epoch 19/30\n",
      "22974/22974 [==============================] - 1s 32us/step - loss: 0.7748 - acc: 0.6563 - val_loss: 0.9946 - val_acc: 0.5640\n",
      "\n",
      "Epoch 00019: val_acc did not improve from 0.58318\n",
      "Epoch 20/30\n",
      "22974/22974 [==============================] - 1s 32us/step - loss: 0.7698 - acc: 0.6589 - val_loss: 0.9893 - val_acc: 0.5632\n",
      "\n",
      "Epoch 00020: val_acc did not improve from 0.58318\n",
      "Epoch 21/30\n",
      "22974/22974 [==============================] - 1s 33us/step - loss: 0.7622 - acc: 0.6628 - val_loss: 0.9990 - val_acc: 0.5581\n",
      "\n",
      "Epoch 00021: val_acc did not improve from 0.58318\n",
      "Epoch 22/30\n",
      "22974/22974 [==============================] - 1s 39us/step - loss: 0.7578 - acc: 0.6682 - val_loss: 1.0043 - val_acc: 0.5633\n",
      "\n",
      "Epoch 00022: val_acc did not improve from 0.58318\n",
      "Epoch 23/30\n",
      "22974/22974 [==============================] - 1s 39us/step - loss: 0.7476 - acc: 0.6698 - val_loss: 1.0005 - val_acc: 0.5662\n",
      "\n",
      "Epoch 00023: val_acc did not improve from 0.58318\n",
      "Epoch 24/30\n",
      "22974/22974 [==============================] - 1s 32us/step - loss: 0.7402 - acc: 0.6727 - val_loss: 1.0200 - val_acc: 0.5661\n",
      "\n",
      "Epoch 00024: val_acc did not improve from 0.58318\n",
      "Epoch 25/30\n",
      "22974/22974 [==============================] - 1s 32us/step - loss: 0.7366 - acc: 0.6778 - val_loss: 1.0306 - val_acc: 0.5599\n",
      "\n",
      "Epoch 00025: val_acc did not improve from 0.58318\n",
      "Epoch 26/30\n",
      "22974/22974 [==============================] - 1s 32us/step - loss: 0.7247 - acc: 0.6816 - val_loss: 1.0352 - val_acc: 0.5562\n",
      "\n",
      "Epoch 00026: val_acc did not improve from 0.58318\n",
      "Epoch 27/30\n",
      "22974/22974 [==============================] - 1s 32us/step - loss: 0.7229 - acc: 0.6846 - val_loss: 1.0204 - val_acc: 0.5640\n",
      "\n",
      "Epoch 00027: val_acc did not improve from 0.58318\n",
      "Epoch 28/30\n",
      "22974/22974 [==============================] - 1s 32us/step - loss: 0.7195 - acc: 0.6843 - val_loss: 1.0704 - val_acc: 0.5670\n",
      "\n",
      "Epoch 00028: val_acc did not improve from 0.58318\n",
      "Epoch 29/30\n",
      "22974/22974 [==============================] - 1s 32us/step - loss: 0.7095 - acc: 0.6905 - val_loss: 1.0404 - val_acc: 0.5516\n",
      "\n",
      "Epoch 00029: val_acc did not improve from 0.58318\n",
      "Epoch 30/30\n",
      "22974/22974 [==============================] - 1s 32us/step - loss: 0.7077 - acc: 0.6896 - val_loss: 1.0795 - val_acc: 0.5616\n",
      "\n",
      "Epoch 00030: val_acc did not improve from 0.58318\n"
     ]
    }
   ],
   "source": [
    "spacyCheckpoint = ModelCheckpoint(spacyWeightsFilePath, monitor='val_acc', verbose=1, save_best_only=True, mode='max')\n",
    "spaceyHistory = spacyModel.fit(spacy_x_train, spacy_y_train, epochs=30,batch_size=128,validation_data=(spacy_x_val, spacy_y_val), callbacks=[spacyCheckpoint],verbose=1)"
   ]
  },
  {
   "cell_type": "code",
   "execution_count": 137,
   "metadata": {},
   "outputs": [],
   "source": [
    "spacy_y_test = testdf['label']\n",
    "spacy_y_test = onehot_encoder.transform(np.array(spacy_y_test).reshape(len(spacy_y_test),1))\n",
    "\n",
    "testdf['spacy'] = testdf.apply(lambda row: spacyEmbeddings(row['text'], nlp),axis=1)\n",
    "\n",
    "# Get average vecotor for NBOW model. N.B. Doing this before the padding to avoid diluting signal\n",
    "testdf['spacyAvg'] = testdf.apply(lambda row: np.average(row['spacy'], axis=0),axis=1)\n",
    "\n",
    "spacy_x_test = testdf['spacyAvg']\n",
    "spacy_x_test = np.array([x for y in spacy_x_test for x in y]).reshape(len(spacy_x_test),300)\n",
    "\n"
   ]
  },
  {
   "cell_type": "code",
   "execution_count": 138,
   "metadata": {},
   "outputs": [],
   "source": [
    "# Load the weights from the model with the best val accuracy\n",
    "spacyModel.load_weights(spacyWeightsFilePath)\n",
    "\n",
    "# Get predictions and prepare data for confusion matrix\n",
    "spacy_y_testpred = spacyModel.predict(spacy_x_test)\n",
    "spacy_y_testpred = np.array([[1 if i == max(sc) else 0 for i in sc] for sc in spacy_y_testpred])\n",
    "spacy_y_testpred_text = onehot_encoder.inverse_transform(spacy_y_testpred)\n",
    "spacy_y_test_text = onehot_encoder.inverse_transform(spacy_y_test)"
   ]
  },
  {
   "cell_type": "code",
   "execution_count": 139,
   "metadata": {},
   "outputs": [
    {
     "name": "stdout",
     "output_type": "stream",
     "text": [
      "[[   0  128   45    4    0]\n",
      " [   0 1385 1980  180    0]\n",
      " [   0  684 4797  713    0]\n",
      " [   0   90 1097 1145    0]\n",
      " [   0    2   11  118    0]]\n",
      "Average fscore: 0.3327734799848806\n",
      "testAccuracy 0.5918894902657726\n",
      "Recalls for each class: [0.0, 0.3906911142454161, 0.7744591540200194, 0.49099485420240135, 0.0]\n",
      "Precisions for each class [0.0, 0.6050677151594582, 0.6049180327868853, 0.5300925925925926, 0.0]\n"
     ]
    }
   ],
   "source": [
    "# Create confusion matrix and get some key information from it. \n",
    "cm = confusion_matrix(spacy_y_test_text, spacy_y_testpred_text, labels=[-2,-1,0,1,2])\n",
    "print(cm)\n",
    "testAccuracy = (cm[0][0] + cm[1][1] + cm[2][2] +cm[3][3] + cm[4][4])/sum(sum(cm))\n",
    "avgfscore, recalls, precisions = averageFScore(cm)\n",
    "print(f\"Average fscore: {avgfscore}\")\n",
    "print(f\"testAccuracy {testAccuracy}\")\n",
    "print(f\"Recalls for each class: {recalls}\")\n",
    "print(f\"Precisions for each class {precisions}\")"
   ]
  },
  {
   "cell_type": "markdown",
   "metadata": {},
   "source": [
    "Spacy NBOW method gets 58.3% validation accuracy and 59.2% test accuracy. This performance is similar to the LSTM at validation but outperforms the LSTM for test accuracy and test fscore. I believe the test performance improvement is largely due to the large number of dropout layers, which help defend against overfitting. This has made the Spacy NBOW model more robust than the LSTM. The Spacy NBOW model also takes much less time to train so might be more useful for real world applications that may require fast training/processing. Multiple architectures were experimented with before settling on this architecture, including much deeper networks, much wider networks, networks without dropout."
   ]
  },
  {
   "cell_type": "markdown",
   "metadata": {},
   "source": [
    "## Step 4: Alternative model2: CNN\n",
    "In this I try a CNN model to see if that can improve the accuracy using learnt embeddings"
   ]
  },
  {
   "cell_type": "code",
   "execution_count": 98,
   "metadata": {},
   "outputs": [
    {
     "name": "stdout",
     "output_type": "stream",
     "text": [
      "_________________________________________________________________\n",
      "Layer (type)                 Output Shape              Param #   \n",
      "=================================================================\n",
      "embedding_1 (Embedding)      (None, 50, 100)           6000000   \n",
      "_________________________________________________________________\n",
      "conv1d_16 (Conv1D)           (None, 48, 64)            19264     \n",
      "_________________________________________________________________\n",
      "dropout_52 (Dropout)         (None, 48, 64)            0         \n",
      "_________________________________________________________________\n",
      "max_pooling1d_17 (MaxPooling (None, 16, 64)            0         \n",
      "_________________________________________________________________\n",
      "flatten_13 (Flatten)         (None, 1024)              0         \n",
      "_________________________________________________________________\n",
      "dense_78 (Dense)             (None, 128)               131200    \n",
      "_________________________________________________________________\n",
      "dropout_53 (Dropout)         (None, 128)               0         \n",
      "_________________________________________________________________\n",
      "dense_79 (Dense)             (None, 64)                8256      \n",
      "_________________________________________________________________\n",
      "dense_80 (Dense)             (None, 5)                 325       \n",
      "=================================================================\n",
      "Total params: 6,159,045\n",
      "Trainable params: 159,045\n",
      "Non-trainable params: 6,000,000\n",
      "_________________________________________________________________\n"
     ]
    }
   ],
   "source": [
    "# Perform transfer learning to transfer weights learnt from original model to accelerate learning\n",
    "model.load_weights(weightsFilePath)\n",
    "embeddingLayer = model.get_layer(index=0)\n",
    "embeddingLayer.trainable=False # Massively Reduce number of trainable weights which may help reduce overfitting\n",
    "cnnModel = Sequential()\n",
    "cnnModel.add(embeddingLayer)\n",
    "cnnModel.add(Conv1D(64, 3))\n",
    "cnnModel.add(Dropout(0.5))\n",
    "cnnModel.add(MaxPooling1D(3))\n",
    "cnnModel.add(Flatten())\n",
    "cnnModel.add(Dense(128, activation='relu'))\n",
    "cnnModel.add(Dropout(0.5))\n",
    "cnnModel.add(Dense(64, activation='relu'))\n",
    "cnnModel.add(Dense(5, activation='softmax'))\n",
    "cnnModel.summary()\n",
    "\n",
    "cnnModel.compile(optimizer='adam',\n",
    "              loss='categorical_crossentropy',\n",
    "              metrics=['accuracy'])\n",
    "\n",
    "\n",
    "\n",
    "# Save the best weights to a file so we get the model with the best val acc\n",
    "cnnWeightsFilePath=\"task3CNN.best.hdf5\""
   ]
  },
  {
   "cell_type": "code",
   "execution_count": 99,
   "metadata": {},
   "outputs": [
    {
     "name": "stdout",
     "output_type": "stream",
     "text": [
      "Train on 22974 samples, validate on 7658 samples\n",
      "Epoch 1/20\n",
      "22974/22974 [==============================] - 5s 199us/step - loss: 0.7192 - acc: 0.7354 - val_loss: 1.1024 - val_acc: 0.5569\n",
      "\n",
      "Epoch 00001: val_acc improved from -inf to 0.55693, saving model to task3CNN.best.hdf5\n",
      "Epoch 2/20\n",
      "22974/22974 [==============================] - 2s 89us/step - loss: 0.4884 - acc: 0.8336 - val_loss: 1.1838 - val_acc: 0.5437\n",
      "\n",
      "Epoch 00002: val_acc did not improve from 0.55693\n",
      "Epoch 3/20\n",
      "22974/22974 [==============================] - 2s 89us/step - loss: 0.4490 - acc: 0.8423 - val_loss: 1.1553 - val_acc: 0.5526\n",
      "\n",
      "Epoch 00003: val_acc did not improve from 0.55693\n",
      "Epoch 4/20\n",
      "22974/22974 [==============================] - 2s 90us/step - loss: 0.4242 - acc: 0.8491 - val_loss: 1.1402 - val_acc: 0.5477\n",
      "\n",
      "Epoch 00004: val_acc did not improve from 0.55693\n",
      "Epoch 5/20\n",
      "22974/22974 [==============================] - 2s 92us/step - loss: 0.4076 - acc: 0.8581 - val_loss: 1.2775 - val_acc: 0.5424\n",
      "\n",
      "Epoch 00005: val_acc did not improve from 0.55693\n",
      "Epoch 6/20\n",
      "22974/22974 [==============================] - 2s 89us/step - loss: 0.3916 - acc: 0.8609 - val_loss: 1.2816 - val_acc: 0.5464\n",
      "\n",
      "Epoch 00006: val_acc did not improve from 0.55693\n",
      "Epoch 7/20\n",
      "22974/22974 [==============================] - 2s 88us/step - loss: 0.3788 - acc: 0.8658 - val_loss: 1.3029 - val_acc: 0.5475\n",
      "\n",
      "Epoch 00007: val_acc did not improve from 0.55693\n",
      "Epoch 8/20\n",
      "22974/22974 [==============================] - 2s 94us/step - loss: 0.3733 - acc: 0.8684 - val_loss: 1.3202 - val_acc: 0.5482\n",
      "\n",
      "Epoch 00008: val_acc did not improve from 0.55693\n",
      "Epoch 9/20\n",
      "22974/22974 [==============================] - 2s 91us/step - loss: 0.3643 - acc: 0.8710 - val_loss: 1.3849 - val_acc: 0.5543\n",
      "\n",
      "Epoch 00009: val_acc did not improve from 0.55693\n",
      "Epoch 10/20\n",
      "22974/22974 [==============================] - 2s 89us/step - loss: 0.3586 - acc: 0.8742 - val_loss: 1.3823 - val_acc: 0.5424\n",
      "\n",
      "Epoch 00010: val_acc did not improve from 0.55693\n",
      "Epoch 11/20\n",
      "22974/22974 [==============================] - 2s 92us/step - loss: 0.3511 - acc: 0.8759 - val_loss: 1.4137 - val_acc: 0.5370\n",
      "\n",
      "Epoch 00011: val_acc did not improve from 0.55693\n",
      "Epoch 12/20\n",
      "22974/22974 [==============================] - 2s 89us/step - loss: 0.3438 - acc: 0.8776 - val_loss: 1.4122 - val_acc: 0.5491\n",
      "\n",
      "Epoch 00012: val_acc did not improve from 0.55693\n",
      "Epoch 13/20\n",
      "22974/22974 [==============================] - 2s 87us/step - loss: 0.3421 - acc: 0.8769 - val_loss: 1.4743 - val_acc: 0.5409\n",
      "\n",
      "Epoch 00013: val_acc did not improve from 0.55693\n",
      "Epoch 14/20\n",
      "22974/22974 [==============================] - 2s 91us/step - loss: 0.3337 - acc: 0.8807 - val_loss: 1.5137 - val_acc: 0.5414\n",
      "\n",
      "Epoch 00014: val_acc did not improve from 0.55693\n",
      "Epoch 15/20\n",
      "22974/22974 [==============================] - 2s 88us/step - loss: 0.3316 - acc: 0.8803 - val_loss: 1.5033 - val_acc: 0.5477\n",
      "\n",
      "Epoch 00015: val_acc did not improve from 0.55693\n",
      "Epoch 16/20\n",
      "22974/22974 [==============================] - 2s 86us/step - loss: 0.3272 - acc: 0.8826 - val_loss: 1.5383 - val_acc: 0.5236\n",
      "\n",
      "Epoch 00016: val_acc did not improve from 0.55693\n",
      "Epoch 17/20\n",
      "22974/22974 [==============================] - 2s 89us/step - loss: 0.3209 - acc: 0.8852 - val_loss: 1.6372 - val_acc: 0.5313\n",
      "\n",
      "Epoch 00017: val_acc did not improve from 0.55693\n",
      "Epoch 18/20\n",
      "22974/22974 [==============================] - 2s 89us/step - loss: 0.3149 - acc: 0.8862 - val_loss: 1.5701 - val_acc: 0.5346\n",
      "\n",
      "Epoch 00018: val_acc did not improve from 0.55693\n",
      "Epoch 19/20\n",
      "22974/22974 [==============================] - 2s 89us/step - loss: 0.3169 - acc: 0.8870 - val_loss: 1.6158 - val_acc: 0.5333\n",
      "\n",
      "Epoch 00019: val_acc did not improve from 0.55693\n",
      "Epoch 20/20\n",
      "22974/22974 [==============================] - 2s 92us/step - loss: 0.3090 - acc: 0.8887 - val_loss: 1.5771 - val_acc: 0.5358\n",
      "\n",
      "Epoch 00020: val_acc did not improve from 0.55693\n"
     ]
    }
   ],
   "source": [
    "cnnCheckpoint = ModelCheckpoint(cnnWeightsFilePath, monitor='val_acc', verbose=1, save_best_only=True, mode='max')\n",
    "cnnHistory = cnnModel.fit(x_train, y_train, epochs=20,batch_size=128,validation_data=(x_val, y_val), callbacks=[cnnCheckpoint],verbose=1)"
   ]
  },
  {
   "cell_type": "markdown",
   "metadata": {},
   "source": [
    "Main issue with the CNN has been overfitting, Adding dropout layers and maxpooling has not helped. Architectures that used multiple conv layers to reduce the trainable dimensions also did not help. There is a ~20% diff between training and val accuracies from the start and that only increases as training continues. Experiments with different architectures and with non-trainable vs trainable embeddings did not yield signifcant improvements. The best validation accuracy was 55.7%. This is not much lower than the LSTM and is much faster to train, the overfitting remains its main challenge. "
   ]
  },
  {
   "cell_type": "markdown",
   "metadata": {},
   "source": [
    "## Step4: Model 3: Bidirectional LSTM"
   ]
  },
  {
   "cell_type": "code",
   "execution_count": 103,
   "metadata": {},
   "outputs": [
    {
     "name": "stdout",
     "output_type": "stream",
     "text": [
      "_________________________________________________________________\n",
      "Layer (type)                 Output Shape              Param #   \n",
      "=================================================================\n",
      "embedding_3 (Embedding)      (None, 50, 100)           6000000   \n",
      "_________________________________________________________________\n",
      "bidirectional_1 (Bidirection (None, 256)               234496    \n",
      "_________________________________________________________________\n",
      "dropout_54 (Dropout)         (None, 256)               0         \n",
      "_________________________________________________________________\n",
      "dense_81 (Dense)             (None, 5)                 1285      \n",
      "=================================================================\n",
      "Total params: 6,235,781\n",
      "Trainable params: 6,235,781\n",
      "Non-trainable params: 0\n",
      "_________________________________________________________________\n"
     ]
    }
   ],
   "source": [
    "bilstmModel = Sequential()\n",
    "bilstmModel.add(Embedding(VOCAB_SIZE, EMBED_SIZE,input_length=MAXIMUM_LENGTH))\n",
    "bilstmModel.add(Bidirectional(LSTM(128)))\n",
    "bilstmModel.add(Dropout(0.5))\n",
    "bilstmModel.add(Dense(labelCount, activation='softmax'))\n",
    "bilstmModel.summary()\n",
    "\n",
    "bilstmModel.compile(optimizer='adam',\n",
    "              loss='categorical_crossentropy',\n",
    "              metrics=['accuracy'])\n",
    "bilstmWeightsFilePath=\"task3bilstm.best.hdf5\"\n",
    "\n"
   ]
  },
  {
   "cell_type": "code",
   "execution_count": 104,
   "metadata": {},
   "outputs": [
    {
     "name": "stdout",
     "output_type": "stream",
     "text": [
      "Train on 22974 samples, validate on 7658 samples\n",
      "Epoch 1/5\n",
      "22974/22974 [==============================] - 37s 2ms/step - loss: 1.1134 - acc: 0.4895 - val_loss: 0.9889 - val_acc: 0.5652\n",
      "\n",
      "Epoch 00001: val_acc improved from -inf to 0.56516, saving model to task3bilstm.best.hdf5\n",
      "Epoch 2/5\n",
      "22974/22974 [==============================] - 32s 1ms/step - loss: 0.8131 - acc: 0.6768 - val_loss: 1.0127 - val_acc: 0.5602\n",
      "\n",
      "Epoch 00002: val_acc did not improve from 0.56516\n",
      "Epoch 3/5\n",
      "22974/22974 [==============================] - 33s 1ms/step - loss: 0.4912 - acc: 0.8221 - val_loss: 1.1658 - val_acc: 0.5410\n",
      "\n",
      "Epoch 00003: val_acc did not improve from 0.56516\n",
      "Epoch 4/5\n",
      "22974/22974 [==============================] - 32s 1ms/step - loss: 0.2957 - acc: 0.8960 - val_loss: 1.5823 - val_acc: 0.5290\n",
      "\n",
      "Epoch 00004: val_acc did not improve from 0.56516\n",
      "Epoch 5/5\n",
      "22974/22974 [==============================] - 32s 1ms/step - loss: 0.1950 - acc: 0.9311 - val_loss: 1.8731 - val_acc: 0.5141\n",
      "\n",
      "Epoch 00005: val_acc did not improve from 0.56516\n"
     ]
    }
   ],
   "source": [
    "# Save the best weights to a file so we get the model with the best val acc\n",
    "bilstmCheckpoint = ModelCheckpoint(bilstmWeightsFilePath, monitor='val_acc', verbose=1, save_best_only=True, mode='max')\n",
    "bilstmHistory = bilstmModel.fit(x_train,y_train,epochs=5,batch_size=128,validation_data=(x_val, y_val), callbacks=[bilstmCheckpoint],verbose=1)"
   ]
  },
  {
   "cell_type": "code",
   "execution_count": 111,
   "metadata": {},
   "outputs": [],
   "source": [
    "# Load the weights from the model with the best val accuracy\n",
    "bilstmModel.load_weights(bilstmWeightsFilePath)\n",
    "\n",
    "bilstm_y_test_pred = bilstmModel.predict(x_test)\n",
    "bilstm_y_test_pred = np.array([[1 if i == max(sc) else 0 for i in sc] for sc in bilstm_y_test_pred])\n",
    "bilstm_y_test_pred_text = onehot_encoder.inverse_transform(bilstm_y_test_pred)\n",
    "y_test_text = onehot_encoder.inverse_transform(y_test)"
   ]
  },
  {
   "cell_type": "code",
   "execution_count": 112,
   "metadata": {},
   "outputs": [
    {
     "name": "stdout",
     "output_type": "stream",
     "text": [
      "[[   0   38  115   24    0]\n",
      " [   0  423 2585  537    0]\n",
      " [   0  389 4494 1311    0]\n",
      " [   0   18 1092 1222    0]\n",
      " [   0    0   21  110    0]]\n",
      "Average fscore: 0.2505999266948812\n",
      "testAccuracy 0.495920510542047\n",
      "Recalls for each class: [0.0, 0.11932299012693935, 0.7255408459799806, 0.5240137221269296, 0.0]\n",
      "Precisions for each class [0.0, 0.4873271889400922, 0.5409895269050199, 0.381398252184769, 0.0]\n"
     ]
    }
   ],
   "source": [
    "# Create confusion matrix and get some key information from it. \n",
    "cm = confusion_matrix(y_test_text, bilstm_y_test_pred_text, labels=[-2,-1,0,1,2])\n",
    "print(cm)\n",
    "testAccuracy = (cm[0][0] + cm[1][1] + cm[2][2] +cm[3][3] + cm[4][4])/sum(sum(cm))\n",
    "avgfscore, recalls, precisions = averageFScore(cm)\n",
    "print(f\"Average fscore: {avgfscore}\")\n",
    "print(f\"testAccuracy {testAccuracy}\")\n",
    "print(f\"Recalls for each class: {recalls}\")\n",
    "print(f\"Precisions for each class {precisions}\")"
   ]
  },
  {
   "cell_type": "markdown",
   "metadata": {},
   "source": [
    "The bidirectional LSTM makes only a small improvement on the LSTM. It has a validation accuracy of 56.5% but a test accuracy of 49.6%. The NBOW remains the strongest model despite it using only the average word vector, meaning it ignores the sequences of words. "
   ]
  },
  {
   "cell_type": "code",
   "execution_count": null,
   "metadata": {},
   "outputs": [],
   "source": []
  }
 ],
 "metadata": {
  "kernelspec": {
   "display_name": "eenlp",
   "language": "python",
   "name": "myenv"
  },
  "language_info": {
   "codemirror_mode": {
    "name": "ipython",
    "version": 3
   },
   "file_extension": ".py",
   "mimetype": "text/x-python",
   "name": "python",
   "nbconvert_exporter": "python",
   "pygments_lexer": "ipython3",
   "version": "3.6.7"
  }
 },
 "nbformat": 4,
 "nbformat_minor": 2
}
