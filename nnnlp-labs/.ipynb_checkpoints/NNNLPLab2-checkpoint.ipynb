{
 "cells": [
  {
   "cell_type": "code",
   "execution_count": 33,
   "metadata": {},
   "outputs": [],
   "source": [
    "from nltk.corpus import gutenberg\n",
    "import pandas as pd\n",
    "from nltk.corpus import stopwords\n",
    "import string\n",
    "import re\n",
    "from keras.preprocessing.sequence import skipgrams\n",
    "from keras.layers import Dot, Input\n",
    "from keras.layers.core import Dense, Reshape\n",
    "from keras.layers.embeddings import Embedding\n",
    "from keras.models import Model\n",
    "from keras.utils import plot_model\n",
    "import numpy as np\n",
    "from sklearn.metrics.pairwise import cosine_similarity\n",
    "from sklearn.manifold import TSNE\n",
    "import matplotlib.pyplot as plt"
   ]
  },
  {
   "cell_type": "code",
   "execution_count": 2,
   "metadata": {},
   "outputs": [],
   "source": [
    "\n",
    "\n",
    "def strip(line, stop_words):\n",
    "    strippedLine = []\n",
    "    for word in line:\n",
    "        strippedWord = word.lower()\n",
    "        if strippedWord.isdigit() or strippedWord in stop_words or strippedWord == '' or strippedWord == ' ' or strippedWord in string.punctuation or not strippedWord.isalnum():\n",
    "            continue\n",
    "        strippedLine.append(strippedWord)\n",
    "    return strippedLine"
   ]
  },
  {
   "cell_type": "code",
   "execution_count": 3,
   "metadata": {},
   "outputs": [
    {
     "name": "stdout",
     "output_type": "stream",
     "text": [
      "Length of austen should be 16498: 16498\n",
      "Length of New Austen should be 13927: 13923\n",
      "Processed line: ['therefore', 'succession', 'norland', 'estate', 'really', 'important', 'sisters', 'fortune', 'independent', 'might', 'arise', 'father', 'inheriting', 'property', 'could', 'small']\n"
     ]
    }
   ],
   "source": [
    "\n",
    "austen = gutenberg.sents('austen-sense.txt') + gutenberg.sents('austen-emma.txt') + gutenberg.sents('austen-persuasion.txt')\n",
    "print(f\"Length of austen should be 16498: {len(austen)}\")\n",
    "stop_words = stopwords.words('english')\n",
    "newAusten = []\n",
    "for line in austen:\n",
    "    strippedLine = strip(line,stop_words)\n",
    "    if len(strippedLine) > 2:\n",
    "        newAusten.append(strippedLine)\n",
    "print(f\"Length of New Austen should be 13927: {len(newAusten)}\")\n",
    "print('Processed line:', newAusten[10])\n"
   ]
  },
  {
   "cell_type": "code",
   "execution_count": 23,
   "metadata": {},
   "outputs": [],
   "source": [
    "# create index-word relationship\n",
    "word2idx = {'<PADDINGTOKEN>': 0}\n",
    "idx2word ={}# {0:'<PADDINGTOKEN>'}\n",
    "sents_as_ids = []\n",
    "for line in newAusten:\n",
    "    sentId = []\n",
    "    for word in line:\n",
    "        if word in word2idx:\n",
    "            sentId.append(word2idx[word])\n",
    "            continue\n",
    "        count = len(word2idx)\n",
    "        word2idx[word] = count\n",
    "        idx2word[count] = word\n",
    "        sentId.append(count)\n",
    "    sents_as_ids.append(sentId)\n",
    "    \n",
    "        \n",
    "vocab_size = len(word2idx)\n",
    "embed_size = 100"
   ]
  },
  {
   "cell_type": "code",
   "execution_count": 24,
   "metadata": {},
   "outputs": [
    {
     "name": "stdout",
     "output_type": "stream",
     "text": [
      "10093\n",
      "\n",
      "Sample word2idx:  [('<PADDINGTOKEN>', 0), ('sense', 1), ('sensibility', 2), ('jane', 3), ('austen', 4), ('family', 5), ('dashwood', 6), ('long', 7), ('settled', 8), ('sussex', 9)]\n",
      "\n",
      "Sample idx2word: [(1, 'sense'), (2, 'sensibility'), (3, 'jane'), (4, 'austen'), (5, 'family'), (6, 'dashwood'), (7, 'long'), (8, 'settled'), (9, 'sussex'), (10, 'estate')]\n",
      "\n",
      "Sample normalized corpus: [['anne', 'tenderness', 'full', 'worth', 'captain', 'wentworth', 'affection'], ['profession', 'could', 'ever', 'make', 'friends', 'wish', 'tenderness', 'less', 'dread', 'future', 'war', 'could', 'dim', 'sunshine'], ['gloried', 'sailor', 'wife', 'must', 'pay', 'tax', 'quick', 'alarm', 'belonging', 'profession', 'possible', 'distinguished', 'domestic', 'virtues', 'national', 'importance']]\n",
      "\n",
      "Above sentence as a list of ids: [[3572, 2691, 1542, 597, 6196, 9017, 186], [3016, 81, 344, 233, 1055, 568, 2691, 534, 3985, 428, 6622, 81, 9603, 1927], [5139, 8960, 127, 312, 686, 5110, 1763, 1858, 683, 3016, 496, 856, 876, 1008, 10092, 2172]]\n"
     ]
    }
   ],
   "source": [
    "print(vocab_size)\n",
    "print('\\nSample word2idx: ', list(word2idx.items())[:10])\n",
    "print('\\nSample idx2word:', list(idx2word.items())[:10])\n",
    "print('\\nSample normalized corpus:', newAusten[-3:])\n",
    "print('\\nAbove sentence as a list of ids:' , sents_as_ids[-3:])"
   ]
  },
  {
   "cell_type": "code",
   "execution_count": 6,
   "metadata": {},
   "outputs": [],
   "source": [
    "skip_grams = [skipgrams(sent, vocabulary_size=vocab_size, window_size=5) for sent in\n",
    "sents_as_ids]"
   ]
  },
  {
   "cell_type": "code",
   "execution_count": 7,
   "metadata": {},
   "outputs": [
    {
     "name": "stdout",
     "output_type": "stream",
     "text": [
      "(austen (4), ejaculation, (5238)) -> 0\n",
      "(austen (4), drinks, (9640)) -> 0\n",
      "(jane (3), glass, (4297)) -> 0\n",
      "(sense (1), lawns, (8930)) -> 0\n",
      "(sense (1), practicable, (5068)) -> 0\n",
      "(sense (1), sensibility, (2)) -> 1\n",
      "(sense (1), austen, (4)) -> 1\n",
      "(jane (3), met, (1656)) -> 0\n",
      "(sensibility (2), austen, (4)) -> 1\n",
      "(austen (4), sense, (1)) -> 1\n",
      "(sensibility (2), leant, (2618)) -> 0\n",
      "(sensibility (2), jane, (3)) -> 1\n",
      "(austen (4), sensibility, (2)) -> 1\n",
      "(jane (3), brisk, (7790)) -> 0\n",
      "(austen (4), endeavor, (1206)) -> 0\n",
      "(sense (1), planning, (5106)) -> 0\n",
      "(sensibility (2), sense, (1)) -> 1\n",
      "(jane (3), austen, (4)) -> 1\n",
      "(jane (3), sense, (1)) -> 1\n",
      "(jane (3), sensibility, (2)) -> 1\n",
      "(sensibility (2), jest, (2192)) -> 0\n",
      "(sensibility (2), regretted, (4183)) -> 0\n",
      "(sense (1), jane, (3)) -> 1\n",
      "(austen (4), jane, (3)) -> 1\n"
     ]
    }
   ],
   "source": [
    "pairs, labels = skip_grams[0][0], skip_grams[0][1]\n",
    "# This shows whether the two words occur together in the context window(size of which is set above) \n",
    "# 1 if they co-occur 0 \n",
    "# We get all the times that a word occurs from the first sentence co-occurs with something \n",
    "# and only a handful (negative sampling) of the words it does not co-occur with \n",
    "for i in range(len(pairs)):\n",
    "    print('({:s} ({:d}), {:s}, ({:d})) -> {:d}'.format(idx2word[pairs[i][0]], pairs[i][0],idx2word[pairs[i][1]], pairs[i][1],labels[i]))"
   ]
  },
  {
   "cell_type": "code",
   "execution_count": 14,
   "metadata": {},
   "outputs": [
    {
     "name": "stdout",
     "output_type": "stream",
     "text": [
      "__________________________________________________________________________________________________\n",
      "Layer (type)                    Output Shape         Param #     Connected to                     \n",
      "==================================================================================================\n",
      "input_3 (InputLayer)            (None, 1)            0                                            \n",
      "__________________________________________________________________________________________________\n",
      "input_4 (InputLayer)            (None, 1)            0                                            \n",
      "__________________________________________________________________________________________________\n",
      "target_embed_layer (Embedding)  (None, 1, 100)       1009300     input_3[0][0]                    \n",
      "__________________________________________________________________________________________________\n",
      "context_embed_layer (Embedding) (None, 1, 100)       1009300     input_4[0][0]                    \n",
      "__________________________________________________________________________________________________\n",
      "reshape_3 (Reshape)             (None, 100)          0           target_embed_layer[0][0]         \n",
      "__________________________________________________________________________________________________\n",
      "reshape_4 (Reshape)             (None, 100)          0           context_embed_layer[0][0]        \n",
      "__________________________________________________________________________________________________\n",
      "dot_2 (Dot)                     (None, 1)            0           reshape_3[0][0]                  \n",
      "                                                                 reshape_4[0][0]                  \n",
      "__________________________________________________________________________________________________\n",
      "dense_2 (Dense)                 (None, 1)            2           dot_2[0][0]                      \n",
      "==================================================================================================\n",
      "Total params: 2,018,602\n",
      "Trainable params: 2,018,602\n",
      "Non-trainable params: 0\n",
      "__________________________________________________________________________________________________\n"
     ]
    }
   ],
   "source": [
    "# Building our own skipgram Neural Network\n",
    "# This will  predict whether the target word and the context word are co-occuring\n",
    "\n",
    "# First we build the input pipeline for the target word\n",
    "\n",
    "# Set the input\n",
    "target_word = Input((1,), dtype='int32')\n",
    "\n",
    "# Keras takes all the words in the vocabulary and gives them a unique vector\n",
    "# we therefore have to give it the dimensionality of the vector we want it to use \n",
    "# and tell it how many words it needs to give unique vectors to. \n",
    "# The glorot uniform initialises the vector randomly but uniquely\n",
    "target_embedding = Embedding(vocab_size, embed_size, name='target_embed_layer', \\\n",
    "embeddings_initializer='glorot_uniform', \\\n",
    "input_length=1)(target_word)\n",
    "# Output of this is weird: a list of 100 sublists, each sublist of length 1\n",
    "# This reshape changes it into a single list of length 100\n",
    "target_input = Reshape((embed_size, ))(target_embedding)\n",
    "\n",
    "# repeat the same for the context word\n",
    "context_word = Input((1,), dtype='int32')\n",
    "context_embedding = Embedding(vocab_size, embed_size, name='context_embed_layer', \\\n",
    "embeddings_initializer='glorot_uniform', \\\n",
    "input_length=1)(context_word)\n",
    "context_input = Reshape((embed_size, ))(context_embedding)\n",
    "\n",
    "# We merge the inputs and perform a dot product on them\n",
    "# The similarity of the two vectors is given by this dot product\n",
    "merged_inputs = Dot(axes=-1, normalize=False)([target_input, context_input])\n",
    "\n",
    "# Single sigmoid converts the similarity into a 1 or a 0\n",
    "label = Dense(1,activation='sigmoid')(merged_inputs)\n",
    "model = Model(inputs=[target_word, context_word], outputs=[label])\n",
    "model.compile(loss='mean_squared_error', optimizer='rmsprop')\n",
    "model.summary()\n",
    "# Later we will train this model by having it predict the answers from the cell above. \n",
    "# This training will result in tweaks to the weights for the vectors, \n",
    "# which is what we will use as the vector for the given word\n"
   ]
  },
  {
   "cell_type": "code",
   "execution_count": 15,
   "metadata": {},
   "outputs": [],
   "source": [
    "plot_model(model, to_file='skipgram_keras', show_shapes=True, show_layer_names=True,\n",
    "rankdir='TB')"
   ]
  },
  {
   "cell_type": "code",
   "execution_count": 16,
   "metadata": {},
   "outputs": [
    {
     "name": "stdout",
     "output_type": "stream",
     "text": [
      "Processed 0 sentences\n",
      "Processed 5000 sentences\n",
      "Processed 10000 sentences\n",
      "Processed all 13922 sentences\n",
      "Epoch: 1 Loss: 2396.977760001784 \n",
      "\n",
      "Processed 0 sentences\n",
      "Processed 5000 sentences\n",
      "Processed 10000 sentences\n",
      "Processed all 13922 sentences\n",
      "Epoch: 2 Loss: 1954.6710619442165 \n",
      "\n",
      "Processed 0 sentences\n",
      "Processed 5000 sentences\n",
      "Processed 10000 sentences\n",
      "Processed all 13922 sentences\n",
      "Epoch: 3 Loss: 1871.6263317374978 \n",
      "\n",
      "Processed 0 sentences\n",
      "Processed 5000 sentences\n",
      "Processed 10000 sentences\n",
      "Processed all 13922 sentences\n",
      "Epoch: 4 Loss: 1825.7556481537176 \n",
      "\n",
      "Processed 0 sentences\n",
      "Processed 5000 sentences\n",
      "Processed 10000 sentences\n",
      "Processed all 13922 sentences\n",
      "Epoch: 5 Loss: 1798.9235008921823 \n",
      "\n"
     ]
    }
   ],
   "source": [
    "for epoch in range(1, 6):\n",
    "    epoch_loss = 0\n",
    "    # in each epoch, train all the sentences, one per iteration=> batch_size = num_sents\n",
    "    for i, sent_examples in enumerate(skip_grams):\n",
    "        target_wds = np.array([pair[0] for pair in sent_examples[0]], dtype='int32')\n",
    "        context_wds = np.array([pair[1] for pair in sent_examples[0]], dtype='int32')\n",
    "        labels = np.array(sent_examples[1], dtype='int32')\n",
    "        X = [target_wds, context_wds]\n",
    "        Y = labels\n",
    "        if i % 5000 == 0: # after 5000 sentences i.e. 5000 iterations\n",
    "            print('Processed %d sentences' %i)\n",
    "        epoch_loss += model.train_on_batch(X, Y)\n",
    "    print('Processed all %d sentences' %i)\n",
    "    print('Epoch:', epoch, 'Loss:', epoch_loss, '\\n')"
   ]
  },
  {
   "cell_type": "code",
   "execution_count": 18,
   "metadata": {},
   "outputs": [],
   "source": [
    "word_embeddings = model.get_layer('target_embed_layer').get_weights()[0][1:]"
   ]
  },
  {
   "cell_type": "code",
   "execution_count": 25,
   "metadata": {},
   "outputs": [
    {
     "name": "stdout",
     "output_type": "stream",
     "text": [
      "(10092, 100)\n",
      "                   0         1         2         3         4         5   \\\n",
      "sense       -0.001084 -0.066353  0.038939  0.021097 -0.022524  0.030358   \n",
      "sensibility  0.012814 -0.032552  0.038743  0.055339 -0.008709  0.018282   \n",
      "jane         0.099786 -0.124480  0.130756  0.119516  0.088197  0.069323   \n",
      "austen      -0.024667 -0.025035  0.019697  0.022740  0.007494  0.003639   \n",
      "family      -0.103326 -0.002972  0.020895  0.069439  0.082916 -0.025580   \n",
      "dashwood    -0.020593  0.141517 -0.045119 -0.172370 -0.042152  0.052631   \n",
      "long        -0.066915 -0.037633  0.021187  0.014731  0.013799  0.000634   \n",
      "settled     -0.037701 -0.065464  0.024844 -0.019833  0.065074  0.026816   \n",
      "sussex      -0.023759  0.012934  0.002093  0.029238 -0.035988 -0.007293   \n",
      "estate      -0.002285 -0.008195 -0.035244 -0.015423  0.038440  0.003667   \n",
      "\n",
      "                   6         7         8         9     ...           90  \\\n",
      "sense       -0.029475 -0.046294  0.050228  0.019342    ...    -0.021118   \n",
      "sensibility  0.014689 -0.015992  0.018370 -0.011911    ...    -0.035816   \n",
      "jane         0.055639  0.027724 -0.008243 -0.063519    ...     0.002776   \n",
      "austen      -0.008317  0.053408  0.002439  0.026707    ...    -0.020019   \n",
      "family      -0.019989  0.064897 -0.034408  0.010574    ...    -0.077218   \n",
      "dashwood    -0.047305  0.112658 -0.075136  0.063603    ...    -0.091049   \n",
      "long        -0.040654  0.061606 -0.053981 -0.053666    ...    -0.045269   \n",
      "settled     -0.003740 -0.037212 -0.074220  0.058587    ...    -0.024055   \n",
      "sussex      -0.022169 -0.006741  0.010664  0.018150    ...    -0.023505   \n",
      "estate      -0.008617 -0.018534  0.025515 -0.005993    ...    -0.033192   \n",
      "\n",
      "                   91        92        93        94        95        96  \\\n",
      "sense        0.094045 -0.002933  0.019546 -0.000623  0.050223 -0.123167   \n",
      "sensibility -0.036459 -0.033479 -0.015477  0.010218  0.028614  0.013972   \n",
      "jane         0.069003 -0.035415  0.041496  0.076702 -0.057789  0.010065   \n",
      "austen       0.003780  0.008212 -0.035154  0.019634  0.017693  0.007398   \n",
      "family      -0.153229 -0.073118  0.027066 -0.090021 -0.064816 -0.037218   \n",
      "dashwood    -0.058262  0.017419 -0.040379  0.079441  0.028957 -0.117964   \n",
      "long        -0.084075 -0.072316  0.089547 -0.015563 -0.067827  0.027418   \n",
      "settled     -0.043596  0.104259 -0.000164  0.000377 -0.018848 -0.064137   \n",
      "sussex      -0.000843 -0.015777 -0.025129 -0.005939 -0.000985  0.008288   \n",
      "estate      -0.016566 -0.031028 -0.033607 -0.059717  0.009051  0.034528   \n",
      "\n",
      "                   97        98        99  \n",
      "sense       -0.043907  0.042260 -0.037579  \n",
      "sensibility  0.013773 -0.015909 -0.017801  \n",
      "jane         0.066004 -0.035652  0.044436  \n",
      "austen      -0.048957  0.005098 -0.043928  \n",
      "family       0.092247  0.039721 -0.015879  \n",
      "dashwood     0.016287  0.098992  0.041802  \n",
      "long         0.015819 -0.040691 -0.020413  \n",
      "settled     -0.045730  0.022042  0.009517  \n",
      "sussex      -0.003121 -0.015534 -0.042412  \n",
      "estate      -0.011170 -0.044412  0.036432  \n",
      "\n",
      "[10 rows x 100 columns]\n"
     ]
    }
   ],
   "source": [
    "print(word_embeddings.shape)\n",
    "print(pd.DataFrame(word_embeddings, index=idx2word.values()).head(10))"
   ]
  },
  {
   "cell_type": "code",
   "execution_count": 28,
   "metadata": {},
   "outputs": [
    {
     "name": "stdout",
     "output_type": "stream",
     "text": [
      "(10092, 10092)\n"
     ]
    }
   ],
   "source": [
    "similarity_matrix = cosine_similarity(word_embeddings)\n",
    "print(similarity_matrix.shape)"
   ]
  },
  {
   "cell_type": "code",
   "execution_count": 31,
   "metadata": {},
   "outputs": [
    {
     "name": "stdout",
     "output_type": "stream",
     "text": [
      "{'man': ['satisfied', 'woman', 'hope', 'changes', 'spot'], 'love': ['first', 'learning', 'charles', 'throat', 'suit'], 'hatred': ['picturesque', 'supposition', 'betide', 'pressingly', 'inhabiting'], 'woman': ['deal', 'amiable', 'would', 'purpose', 'charles'], 'wisdom': ['partake', 'martha', '24th', 'pillow', 'dismounted'], 'kindness': ['wriggles', 'like', 'comfortably', 'wentworth', 'feeding'], 'god': ['supplied', 'hotter', 'seeking', 'regularity', 'painting'], 'folly': ['places', 'conscientiously', 'mutual', 'rude', 'terribly'], 'fool': ['disobedient', 'accuse', 'wandered', 'doat', 'rewarded']}\n"
     ]
    }
   ],
   "source": [
    "search_terms = ['man', 'love', 'hatred', 'woman', 'wisdom', 'kindness', 'god', 'man', 'folly', 'fool']\n",
    "similar_words = {term: [idx2word[idx] \\\n",
    "for idx in (-1 * similarity_matrix[word2idx[term]-1]).argsort()[1:6] + 1] \\\n",
    "for term in search_terms}\n",
    "print(similar_words)"
   ]
  },
  {
   "cell_type": "code",
   "execution_count": 35,
   "metadata": {},
   "outputs": [
    {
     "data": {
      "image/png": "[encoded data removed]",
      "text/plain": [
       "<Figure size 1008x576 with 1 Axes>"
      ]
     },
     "metadata": {
      "needs_background": "light"
     },
     "output_type": "display_data"
    }
   ],
   "source": [
    "tsne = TSNE(perplexity=3, n_components=2, init='pca', n_iter=5000, method='exact')\n",
    "np.set_printoptions(suppress=True)\n",
    "plot_only = 50\n",
    "T = tsne.fit_transform(word_embeddings[:plot_only, :])\n",
    "labels = [idx2word[i+1] for i in range(plot_only)]\n",
    "plt.figure(figsize=(14, 8))\n",
    "plt.scatter(T[:, 0], T[:, 1])\n",
    "for label, x, y in zip(labels, T[:, 0], T[:, 1]):\n",
    "    plt.annotate(label, xy=(x+1, y+1), xytext=(0, 0), textcoords='offset points', ha='right',va='bottom')"
   ]
  },
  {
   "cell_type": "code",
   "execution_count": null,
   "metadata": {},
   "outputs": [],
   "source": []
  }
 ],
 "metadata": {
  "kernelspec": {
   "display_name": "eenlp",
   "language": "python",
   "name": "myenv"
  },
  "language_info": {
   "codemirror_mode": {
    "name": "ipython",
    "version": 3
   },
   "file_extension": ".py",
   "mimetype": "text/x-python",
   "name": "python",
   "nbconvert_exporter": "python",
   "pygments_lexer": "ipython3",
   "version": "3.6.7"
  }
 },
 "nbformat": 4,
 "nbformat_minor": 2
}
