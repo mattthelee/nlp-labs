{
 "cells": [
  {
   "cell_type": "code",
   "execution_count": 1,
   "metadata": {},
   "outputs": [
    {
     "name": "stderr",
     "output_type": "stream",
     "text": [
      "/home/leem/anaconda3/envs/eenlp/lib/python3.6/importlib/_bootstrap.py:219: RuntimeWarning: numpy.dtype size changed, may indicate binary incompatibility. Expected 96, got 88\n",
      "  return f(*args, **kwds)\n",
      "/home/leem/anaconda3/envs/eenlp/lib/python3.6/importlib/_bootstrap.py:219: RuntimeWarning: numpy.dtype size changed, may indicate binary incompatibility. Expected 96, got 88\n",
      "  return f(*args, **kwds)\n",
      "Using TensorFlow backend.\n"
     ]
    }
   ],
   "source": [
    "import pandas as pd\n",
    "import glob\n",
    "import math\n",
    "import contractions\n",
    "from nltk.corpus import stopwords\n",
    "from nltk import word_tokenize\n",
    "import keras\n",
    "from keras.preprocessing.sequence import pad_sequences\n",
    "from keras import Sequential\n",
    "from keras.layers import Embedding, LSTM, Dense, Dropout\n",
    "from keras.utils import plot_model, vis_utils\n",
    "import numpy as np\n",
    "from sklearn.preprocessing import LabelEncoder, OneHotEncoder\n",
    "import matplotlib.pyplot as plt\n",
    "from sklearn.metrics import confusion_matrix\n",
    "from sklearn.model_selection import train_test_split\n",
    "import emoji\n",
    "import string\n",
    "from keras.callbacks import ModelCheckpoint\n",
    "\n"
   ]
  },
  {
   "cell_type": "code",
   "execution_count": 2,
   "metadata": {},
   "outputs": [],
   "source": [
    "# Data has been preprocessed by removing all the \" characters: sed -i 's/\"//g' *.txt\n",
    "# as this caused issues reading the data as a csv file. \n",
    "# Also had to remove a blank line from subtask A 2016 test data \n",
    "# TODO instead change the quote char in the read_csv call\n",
    "\n",
    "# Load the data\n",
    "fileGlob = glob.glob('./task2Data/*A.arabic.txt')\n",
    "\n",
    "traindf = pd.concat([pd.read_csv(f, sep='\\t', header=None, keep_default_na=False) for f in fileGlob], ignore_index = True)\n",
    "traindf.columns = ['id','label','raw']\n",
    "#traindf = traindf.drop(['date'], axis=1)"
   ]
  },
  {
   "cell_type": "code",
   "execution_count": null,
   "metadata": {},
   "outputs": [],
   "source": []
  },
  {
   "cell_type": "code",
   "execution_count": null,
   "metadata": {},
   "outputs": [],
   "source": []
  },
  {
   "cell_type": "markdown",
   "metadata": {},
   "source": [
    "# Things to try:\n",
    "Convert the text into vector my using a pre-trained system. \n",
    "Convert text into a vector by using a NN to train the embeddings. \n",
    "\n",
    "Looks like i need to handle the weird character replacement that's happening"
   ]
  },
  {
   "cell_type": "code",
   "execution_count": 3,
   "metadata": {},
   "outputs": [],
   "source": [
    "# Need to do some preprocessing on the data to remove stop words, punctuation and probably stem the words too. \n",
    "# Need to handle the /u002c and other unicdoe character artifacts that are happening. \n",
    "# If removing punctuation then may want to simply remove them \n",
    "# but if expanding contractinons will need to convert them first. - a library exists to do this\n",
    "# Need to check to see what's happening with emojis\n",
    "\n"
   ]
  },
  {
   "cell_type": "code",
   "execution_count": 4,
   "metadata": {},
   "outputs": [],
   "source": [
    "def preprocess(tweet, stop_words):\n",
    "    # Handle utf8 unicode problems\n",
    "    #print(tweet)\n",
    "    tweet = emoji.demojize(tweet)\n",
    "    tweet = tweet.encode('utf8').decode('unicode_escape', 'ignore') \n",
    "    #tweet = contractions.fix(tweet)\n",
    "    tweetLine = word_tokenize(tweet)\n",
    "    # remove all tokens that are not alphabetic or stopwords, also lower the words\n",
    "    tweetLine = [word.lower() for word in tweetLine if word not in stop_words and word not in string.punctuation]\n",
    "    return tweetLine\n",
    "\n",
    "stop_words = stopwords.words('arabic')\n",
    "\n",
    "traindf['text'] = traindf.apply(lambda row: preprocess(row['raw'], stop_words),axis=1)\n"
   ]
  },
  {
   "cell_type": "code",
   "execution_count": 5,
   "metadata": {},
   "outputs": [
    {
     "name": "stdout",
     "output_type": "stream",
     "text": [
      "2678\n",
      "['shihanh010', 'ø¨ù\\x88ø´', 'ù\\x88ø§ù\\x84ø§', 'ø§ù\\x88ø¨ø§ù', 'ø§', 'face_with_tears_of_joy', ':face_with_tears_of_joy', ':face_with_tears_of_joy', ':face_with_tears_of_joy', ':face_with_tears_of_joy', ':face_with_tears_of_joy', ':face_with_tears_of_joy', ':face_with_tears_of_joy', ':face_with_tears_of_joy', ':face_with_tears_of_joy', ':face_with_tears_of_joy', ':face_with_tears_of_joy', ':face_with_tears_of_joy', ':face_with_tears_of_joy', ':face_with_tears_of_joy', ':face_with_tears_of_joy', ':face_with_tears_of_joy', ':face_with_tears_of_joy', ':face_with_tears_of_joy', ':face_with_tears_of_joy', ':face_with_tears_of_joy', ':face_with_tears_of_joy', ':face_with_tears_of_joy', ':face_with_tears_of_joy', ':face_with_tears_of_joy', ':face_with_tears_of_joy', ':face_with_tears_of_joy', ':face_with_tears_of_joy', ':face_with_tears_of_joy', ':face_with_tears_of_joy', ':face_with_tears_of_joy', ':face_with_tears_of_joy', ':face_with_tears_of_joy', ':face_with_tears_of_joy', ':face_with_tears_of_joy', ':face_with_tears_of_joy', ':face_with_tears_of_joy', ':face_with_tears_of_joy', ':face_with_tears_of_joy', ':face_with_tears_of_joy', ':face_with_tears_of_joy', ':face_with_tears_of_joy', ':face_with_tears_of_joy', ':face_with_tears_of_joy', ':face_with_tears_of_joy', ':face_with_tears_of_joy', ':face_with_tears_of_joy', ':face_with_tears_of_joy', ':face_with_tears_of_joy', ':face_with_tears_of_joy', ':face_with_tears_of_joy', ':face_with_tears_of_joy', ':face_with_tears_of_joy', ':face_with_tears_of_joy', ':face_with_tears_of_joy', ':face_with_tears_of_joy', ':face_with_tears_of_joy', ':face_with_tears_of_joy', ':face_with_tears_of_joy', ':face_with_tears_of_joy', ':face_with_tears_of_joy', ':face_with_tears_of_joy', ':face_with_tears_of_joy', ':face_with_tears_of_joy', ':face_with_tears_of_joy', ':face_with_tears_of_joy', ':face_with_tears_of_joy', ':face_with_tears_of_joy', ':face_with_tears_of_joy', ':face_with_tears_of_joy', ':face_with_tears_of_joy', ':face_with_tears_of_joy', ':face_with_tears_of_joy', ':face_with_tears_of_joy', ':face_with_tears_of_joy', ':face_with_tears_of_joy', ':face_with_tears_of_joy', ':face_with_tears_of_joy', ':face_with_tears_of_joy', ':face_with_tears_of_joy', ':face_with_tears_of_joy', ':face_with_tears_of_joy', ':face_with_tears_of_joy', ':face_with_tears_of_joy', ':face_with_tears_of_joy', ':face_with_tears_of_joy', ':face_with_tears_of_joy', ':face_with_tears_of_joy', ':face_with_tears_of_joy', ':face_with_tears_of_joy', ':face_with_tears_of_joy', ':face_with_tears_of_joy', ':face_with_tears_of_joy', ':face_with_tears_of_joy', ':face_with_tears_of_joy', ':face_with_tears_of_joy', ':face_with_tears_of_joy', ':face_with_tears_of_joy', ':face_with_tears_of_joy', ':face_with_tears_of_joy', ':face_with_tears_of_joy', ':face_with_tears_of_joy', ':face_with_tears_of_joy', ':face_with_tears_of_joy', ':face_with_tears_of_joy', ':face_with_tears_of_joy', ':face_with_tears_of_joy', ':face_with_tears_of_joy', ':face_with_tears_of_joy', ':face_with_tears_of_joy']\n",
      "140\n",
      "['ïº\\x87ïº', '«', 'ïº\\x8d', 'ï', '»', '§ï', '»', '\\x84ï', '»', '\\x96', 'ïº\\x8dï', '»', '\\x9fïº°ï', '»', '\\x8bï', '»', '´ï', '»', '¢', 'ï', '»', '\\x93ï', '»', '¼', 'ïº\\x97ïº', 'ïº\\x92ï', '»', 'ªù\\x8f', 'ï', '»', '\\x93ïº¨ï', '»', '´ïº®ù\\x8c', 'ï', '»', '£ï', '»', '¦', 'ïº\\x87ïº\\x9fïº\\x8eïº\\x91ïº\\x98ï', '»', 'ª', 'ïº\\x8dï', '»', '\\x9fï', '»', '\\x8cïº´ï', '»', '´ïº®ï', '»', '±ï', '»', '\\xadï', '»', '»', 'ïº\\x97ïº®ï', '»', '\\x9bï', '»', '¦', 'ï', '»', '\\x8bï', '»', 'ï', '»', '°', 'ïº\\x87ï', '»', '³ïº®ïº\\x8dï', '»', '¥', 'ï', '»', '³ï', '»', '®ï', '»', '£ïº\\x8eù\\x8b', 'ï', '»', '\\xadï', '»', '»', 'ïº\\x97ï', '»', '®ï', '»', '§ï', '»', '²', 'ïº\\x91ï', '»', 'ï', '»', '´ïº®', 'ïº\\x83ï', '»', '\\xad', 'ïº\\x9fï', '»', '®ï', '»', '¥', 'ï', '»', '\\x9bï', '»', '´ïº®ï', '»', '±ïº\\x83ïº\\xadï', '»', '¯', 'ïº\\x8dï', '»', '\\x9fï', '»', '¤ïº¨ï', '»', 'ï', '»', '®ï', '»', '\\x89', 'ï', '»', '\\x93ï', '»', '²', 'ïº\\x8dï', '»', '\\x9fïº\\x98ï', '»', 'ï', '»', '\\x94ïº\\x8eïº¯', 'ï', '»', '³ï', '»', '¬ïº¬']\n"
     ]
    }
   ],
   "source": [
    "# Sanity check to ensure tweets are tweet length\n",
    "maxi = 0\n",
    "for text in traindf.text:\n",
    "    length = len(' '.join(text))\n",
    "    if length > maxi:\n",
    "        maxi = length\n",
    "        sanityCheck = text\n",
    "print(maxi)\n",
    "print(sanityCheck)\n",
    "\n",
    "maxi = 0\n",
    "for text in traindf.text:\n",
    "    length = len(text)\n",
    "    if length > maxi:\n",
    "        maxi = length\n",
    "        sanityCheck = text\n",
    "print(maxi)\n",
    "print(sanityCheck)"
   ]
  },
  {
   "cell_type": "code",
   "execution_count": 6,
   "metadata": {
    "scrolled": false
   },
   "outputs": [
    {
     "name": "stdout",
     "output_type": "stream",
     "text": [
      "1021    @shihanh010 بوش والا اوباما😂😂😂😂😂😂😂😂😂😂😂😂😂😂😂😂😂😂😂😂😂😂😂😂😂😂😂😂😂😂😂😂😂😂😂😂😂😂😂😂😂😂😂😂😂😂😂😂😂😂😂😂😂😂😂😂😂😂😂😂😂😂😂😂😂😂😂😂😂😂😂😂😂😂😂😂😂😂😂😂😂😂😂😂😂😂😂😂😂😂😂😂😂😂😂😂😂😂😂😂😂😂😂😂😂😂😂😂😂😂\n",
      "Name: raw, dtype: object\n",
      "1021    [shihanh010, ø¨ùø´, ùø§ùø§, ø§ùø¨ø§ù, ø§, face_with_tears_of_joy, :face_with_tears_of_joy, :face_with_tears_of_joy, :face_with_tears_of_joy, :face_with_tears_of_joy, :face_with_tears_of_joy, :face_with_tears_of_joy, :face_with_tears_of_joy, :face_with_tears_of_joy, :face_with_tears_of_joy, :face_with_tears_of_joy, :face_with_tears_of_joy, :face_with_tears_of_joy, :face_with_tears_of_joy, :face_with_tears_of_joy, :face_with_tears_of_joy, :face_with_tears_of_joy, :face_with_tears_of_joy, :face_with_tears_of_joy, :face_with_tears_of_joy, :face_with_tears_of_joy, :face_with_tears_of_joy, :face_with_tears_of_joy, :face_with_tears_of_joy, :face_with_tears_of_joy, :face_with_tears_of_joy, :face_with_tears_of_joy, :face_with_tears_of_joy, :face_with_tears_of_joy, :face_with_tears_of_joy, :face_with_tears_of_joy, :face_with_tears_of_joy, :face_with_tears_of_joy, :face_with_tears_of_joy, :face_with_tears_of_joy, :face_with_tears_of_joy, :face_with_tears_of_joy, :face_with_tears_of_joy, :face_with_tears_of_joy, :face_with_tears_of_joy, :face_with_tears_of_joy, :face_with_tears_of_joy, :face_with_tears_of_joy, :face_with_tears_of_joy, :face_with_tears_of_joy, :face_with_tears_of_joy, :face_with_tears_of_joy, :face_with_tears_of_joy, :face_with_tears_of_joy, :face_with_tears_of_joy, :face_with_tears_of_joy, :face_with_tears_of_joy, :face_with_tears_of_joy, :face_with_tears_of_joy, :face_with_tears_of_joy, :face_with_tears_of_joy, :face_with_tears_of_joy, :face_with_tears_of_joy, :face_with_tears_of_joy, :face_with_tears_of_joy, :face_with_tears_of_joy, :face_with_tears_of_joy, :face_with_tears_of_joy, :face_with_tears_of_joy, :face_with_tears_of_joy, :face_with_tears_of_joy, :face_with_tears_of_joy, :face_with_tears_of_joy, :face_with_tears_of_joy, :face_with_tears_of_joy, :face_with_tears_of_joy, :face_with_tears_of_joy, :face_with_tears_of_joy, :face_with_tears_of_joy, :face_with_tears_of_joy, :face_with_tears_of_joy, :face_with_tears_of_joy, :face_with_tears_of_joy, :face_with_tears_of_joy, :face_with_tears_of_joy, :face_with_tears_of_joy, :face_with_tears_of_joy, :face_with_tears_of_joy, :face_with_tears_of_joy, :face_with_tears_of_joy, :face_with_tears_of_joy, :face_with_tears_of_joy, :face_with_tears_of_joy, :face_with_tears_of_joy, :face_with_tears_of_joy, :face_with_tears_of_joy, :face_with_tears_of_joy, :face_with_tears_of_joy, :face_with_tears_of_joy, :face_with_tears_of_joy, ...]\n",
      "Name: text, dtype: object\n",
      "1021    neutral\n",
      "Name: label, dtype: object\n"
     ]
    }
   ],
   "source": [
    "pd.options.display.max_colwidth = 10000\n",
    "sample = traindf.loc[traindf.id == 785620354970574848]\n",
    "\n",
    "print(sample.raw)\n",
    "print(sample.text)\n",
    "print(sample.label)\n"
   ]
  },
  {
   "cell_type": "code",
   "execution_count": 7,
   "metadata": {},
   "outputs": [
    {
     "name": "stdout",
     "output_type": "stream",
     "text": [
      "['1021', '@', 'shihanh010', 'Ø¨Ù\\x88Ø´', 'Ù\\x88Ø§Ù\\x84Ø§', 'Ø§Ù\\x88Ø¨Ø§Ù', 'Ø§', ':', 'face_with_tears_of_joy', ':', ':face_with_tears_of_joy', ':', ':face_with_tears_of_joy', ':', ':face_with_tears_of_joy', ':', ':face_with_tears_of_joy', ':', ':face_with_tears_of_joy', ':', ':face_with_tears_of_joy', ':', ':face_with_tears_of_joy', ':', ':face_with_tears_of_joy', ':', ':face_with_tears_of_joy', ':', ':face_with_tears_of_joy', ':', ':face_with_tears_of_joy', ':', ':face_with_tears_of_joy', ':', ':face_with_tears_of_joy', ':', ':face_with_tears_of_joy', ':', ':face_with_tears_of_joy', ':', ':face_with_tears_of_joy', ':', ':face_with_tears_of_joy', ':', ':face_with_tears_of_joy', ':', ':face_with_tears_of_joy', ':', ':face_with_tears_of_joy', ':', ':face_with_tears_of_joy', ':', ':face_with_tears_of_joy', ':', ':face_with_tears_of_joy', ':', ':face_with_tears_of_joy', ':', ':face_with_tears_of_joy', ':', ':face_with_tears_of_joy', ':', ':face_with_tears_of_joy', ':', ':face_with_tears_of_joy', ':', ':face_with_tears_of_joy', ':', ':face_with_tears_of_joy', ':', ':face_with_tears_of_joy', ':', ':face_with_tears_of_joy', ':', ':face_with_tears_of_joy', ':', ':face_with_tears_of_joy', ':', ':face_with_tears_of_joy', ':', ':face_with_tears_of_joy', ':', ':face_with_tears_of_joy', ':', ':face_with_tears_of_joy', ':', ':face_with_tears_of_joy', ':', ':face_with_tears_of_joy', ':', ':face_with_tears_of_joy', ':', ':face_with_tears_of_joy', ':', ':face_with_tears_of_joy', ':', ':face_with_tears_of_joy', ':', ':face_with_tears_of_joy', ':', ':face_with_tears_of_joy', ':', ':face_with_tears_of_joy', ':', ':face_with_tears_of_joy', ':', ':face_with_tears_of_joy', ':', ':face_with_tears_of_joy', ':', ':face_with_tears_of_joy', ':', ':face_with_tears_of_joy', ':', ':face_with_tears_of_joy', ':', ':face_with_tears_of_joy', ':', ':face_with_tears_of_joy', ':', ':face_with_tears_of_joy', ':', ':face_with_tears_of_joy', ':', ':face_with_tears_of_joy', ':', ':face_with_tears_of_joy', ':', ':face_with_tears_of_joy', ':', ':face_with_tears_of_joy', ':', ':face_with_tears_of_joy', ':', ':face_with_tears_of_joy', ':', ':face_with_tears_of_joy', ':', ':face_with_tears_of_joy', ':', ':face_with_tears_of_joy', ':', ':face_with_tears_of_joy', ':', ':face_with_tears_of_joy', ':', ':face_with_tears_of_joy', ':', ':face_with_tears_of_joy', ':', ':face_with_tears_of_joy', ':', ':face_with_tears_of_joy', ':', ':face_with_tears_of_joy', ':', ':face_with_tears_of_joy', ':', ':face_with_tears_of_joy', ':', ':face_with_tears_of_joy', ':', ':face_with_tears_of_joy', ':', ':face_with_tears_of_joy', ':', ':face_with_tears_of_joy', ':', ':face_with_tears_of_joy', ':', ':face_with_tears_of_joy', ':', ':face_with_tears_of_joy', ':', ':face_with_tears_of_joy', ':', ':face_with_tears_of_joy', ':', ':face_with_tears_of_joy', ':', ':face_with_tears_of_joy', ':', ':face_with_tears_of_joy', ':', ':face_with_tears_of_joy', ':', ':face_with_tears_of_joy', ':', ':face_with_tears_of_joy', ':', ':face_with_tears_of_joy', ':', ':face_with_tears_of_joy', ':', ':face_with_tears_of_joy', ':', ':face_with_tears_of_joy', ':', ':face_with_tears_of_joy', ':', ':face_with_tears_of_joy', ':', ':face_with_tears_of_joy', ':', ':face_with_tears_of_joy', ':', ':face_with_tears_of_joy', ':', ':face_with_tears_of_joy', ':', ':face_with_tears_of_joy', ':', ':face_with_tears_of_joy', ':', ':face_with_tears_of_joy', ':', ':face_with_tears_of_joy', ':', ':face_with_tears_of_joy', ':', ':face_with_tears_of_joy', ':', ':face_with_tears_of_joy', ':', ':face_with_tears_of_joy', ':', ':face_with_tears_of_joy', ':']\n"
     ]
    }
   ],
   "source": [
    "tweet = sample.raw.to_string()\n",
    "tweet = emoji.demojize(tweet)\n",
    "tweet = tweet.encode('utf8').decode('unicode_escape', 'ignore') \n",
    "tweetLine = word_tokenize(tweet)\n",
    "print(tweetLine)"
   ]
  },
  {
   "cell_type": "code",
   "execution_count": 8,
   "metadata": {},
   "outputs": [],
   "source": [
    "# create index-word relationship\n",
    "word2idx = {'<PAD>': 0, '<UNK>' : 1, }\n",
    "idx2word ={}\n",
    "sents_as_ids = []\n",
    "for line in traindf.text:\n",
    "    sentId = []\n",
    "    for word in line:\n",
    "        if word in word2idx:\n",
    "            sentId.append(word2idx[word])\n",
    "            continue\n",
    "        count = len(word2idx)\n",
    "        word2idx[word] = count\n",
    "        idx2word[count] = word\n",
    "        sentId.append(count)\n",
    "    sents_as_ids.append(sentId)\n",
    "    "
   ]
  },
  {
   "cell_type": "code",
   "execution_count": 9,
   "metadata": {},
   "outputs": [],
   "source": [
    "def convertTextToNumSeq(text, word2idx,MAXIMUM_LENGTH):\n",
    "    numSeq = []\n",
    "    for word in text:\n",
    "        if word in word2idx:\n",
    "            numSeq.append(word2idx[word])\n",
    "        else:\n",
    "            # If unseen put in unknown\n",
    "            numSeq.append(1) \n",
    "                \n",
    "    numSeq = pad_sequences([numSeq],MAXIMUM_LENGTH )\n",
    "    return numSeq\n",
    "\n",
    "MAXIMUM_LENGTH = 50 # Motivated because max sequence of words i had was 32\n",
    "\n",
    "traindf['numSeq'] = traindf.apply(lambda row: convertTextToNumSeq(row['text'], word2idx, MAXIMUM_LENGTH),axis=1)"
   ]
  },
  {
   "cell_type": "code",
   "execution_count": 10,
   "metadata": {},
   "outputs": [
    {
     "name": "stdout",
     "output_type": "stream",
     "text": [
      "neutral     368\n",
      "negative    285\n",
      "positive    186\n",
      "Name: label, dtype: int64\n"
     ]
    }
   ],
   "source": [
    "x_train, x_val, y_train, y_val = train_test_split(traindf.numSeq, traindf.label, stratify=traindf.label, random_state =2)\n",
    "print(y_val.value_counts())\n",
    "x_train = np.array([x for y in x_train for x in y]).reshape(len(x_train),MAXIMUM_LENGTH)\n",
    "x_val = np.array([x for y in x_val for x in y]).reshape(len(x_val),MAXIMUM_LENGTH)\n",
    "\n",
    "#Y data is categorical therefore must be converted to a vector\n",
    "onehot_encoder = OneHotEncoder(sparse=False,categories='auto')\n",
    "y_train = onehot_encoder.fit_transform(np.array(y_train).reshape(len(y_train),1))\n",
    "y_val = onehot_encoder.transform(np.array(y_val).reshape(len(y_val),1))"
   ]
  },
  {
   "cell_type": "code",
   "execution_count": 11,
   "metadata": {},
   "outputs": [
    {
     "name": "stdout",
     "output_type": "stream",
     "text": [
      "_________________________________________________________________\n",
      "Layer (type)                 Output Shape              Param #   \n",
      "=================================================================\n",
      "embedding_1 (Embedding)      (None, 50, 100)           3000000   \n",
      "_________________________________________________________________\n",
      "lstm_1 (LSTM)                (None, 100)               80400     \n",
      "_________________________________________________________________\n",
      "dense_1 (Dense)              (None, 3)                 303       \n",
      "=================================================================\n",
      "Total params: 3,080,703\n",
      "Trainable params: 3,080,703\n",
      "Non-trainable params: 0\n",
      "_________________________________________________________________\n"
     ]
    }
   ],
   "source": [
    "VOCAB_SIZE = 30000\n",
    "\n",
    "EMBED_SIZE = 100\n",
    "model = Sequential()\n",
    "model.add(Embedding(VOCAB_SIZE, EMBED_SIZE,input_length=MAXIMUM_LENGTH))\n",
    "model.add(LSTM(100))\n",
    "\n",
    "model.add(Dense(3, activation='softmax'))\n",
    "model.summary()\n",
    "\n",
    "model.compile(optimizer='adam',\n",
    "              loss='categorical_crossentropy',\n",
    "              metrics=['accuracy'])"
   ]
  },
  {
   "cell_type": "code",
   "execution_count": 12,
   "metadata": {},
   "outputs": [
    {
     "name": "stdout",
     "output_type": "stream",
     "text": [
      "Train on 2516 samples, validate on 839 samples\n",
      "Epoch 1/5\n",
      "2516/2516 [==============================] - 3s 1ms/step - loss: 1.0723 - acc: 0.4356 - val_loss: 1.0561 - val_acc: 0.4410\n",
      "\n",
      "Epoch 00001: val_acc improved from -inf to 0.44100, saving model to task2Weights.best.hdf5\n",
      "Epoch 2/5\n",
      "2516/2516 [==============================] - 2s 876us/step - loss: 0.9980 - acc: 0.5505 - val_loss: 1.0348 - val_acc: 0.4720\n",
      "\n",
      "Epoch 00002: val_acc improved from 0.44100 to 0.47199, saving model to task2Weights.best.hdf5\n",
      "Epoch 3/5\n",
      "2516/2516 [==============================] - 2s 892us/step - loss: 0.7206 - acc: 0.6737 - val_loss: 1.0496 - val_acc: 0.5578\n",
      "\n",
      "Epoch 00003: val_acc improved from 0.47199 to 0.55781, saving model to task2Weights.best.hdf5\n",
      "Epoch 4/5\n",
      "2516/2516 [==============================] - 2s 884us/step - loss: 0.3077 - acc: 0.9173 - val_loss: 1.2029 - val_acc: 0.5316\n",
      "\n",
      "Epoch 00004: val_acc did not improve from 0.55781\n",
      "Epoch 5/5\n",
      "2516/2516 [==============================] - 2s 888us/step - loss: 0.1375 - acc: 0.9801 - val_loss: 1.2949 - val_acc: 0.4887\n",
      "\n",
      "Epoch 00005: val_acc did not improve from 0.55781\n"
     ]
    }
   ],
   "source": [
    "# Save the best weights to a file so we get the model with the best val acc\n",
    "weightsFilePath=\"task2Weights.best.hdf5\"\n",
    "checkpoint = ModelCheckpoint(weightsFilePath, monitor='val_acc', verbose=1, save_best_only=True, mode='max')\n",
    "\n",
    "history = model.fit(x_train,y_train,epochs=5,batch_size=128,validation_data=(x_val, y_val),callbacks=[checkpoint],verbose=1)"
   ]
  },
  {
   "cell_type": "code",
   "execution_count": 13,
   "metadata": {},
   "outputs": [
    {
     "data": {
      "image/png": "[encoded data removed]",
      "text/plain": [
       "<Figure size 432x288 with 1 Axes>"
      ]
     },
     "metadata": {
      "needs_background": "light"
     },
     "output_type": "display_data"
    }
   ],
   "source": [
    "plt.plot(history.history['acc'])\n",
    "plt.plot(history.history['val_acc'])\n",
    "plt.title('Model Accuracies')\n",
    "plt.xlabel('Epoch')\n",
    "plt.ylabel('Accuracy')\n",
    "plt.legend(['Train', 'Val'])\n",
    "plt.show()"
   ]
  },
  {
   "cell_type": "code",
   "execution_count": 14,
   "metadata": {},
   "outputs": [],
   "source": [
    "# With stop word removal, demojizing, string.punctuation word remova, vocab size 30000, padding at 50, get 0.56 val accuracy \n",
    "# decresing vocab size to 5000 causes bad results and strange effects\n",
    "# adding dropout 0.1 between embedding and lstm made it worse by 2%"
   ]
  },
  {
   "cell_type": "code",
   "execution_count": 15,
   "metadata": {},
   "outputs": [],
   "source": [
    "# Load the weights from the model with the best val accuracy\n",
    "model.load_weights(weightsFilePath)\n",
    "y_pred = model.predict(x_val)\n",
    "y_pred = np.array([[1 if i == max(sc) else 0 for i in sc] for sc in y_pred])\n",
    "y_pred_text = onehot_encoder.inverse_transform(y_pred)\n",
    "y_val_text = onehot_encoder.inverse_transform(y_val)"
   ]
  },
  {
   "cell_type": "code",
   "execution_count": 16,
   "metadata": {},
   "outputs": [],
   "source": [
    "cm = confusion_matrix(y_val_text, y_pred_text)"
   ]
  },
  {
   "cell_type": "code",
   "execution_count": null,
   "metadata": {},
   "outputs": [],
   "source": []
  },
  {
   "cell_type": "code",
   "execution_count": 17,
   "metadata": {},
   "outputs": [
    {
     "name": "stdout",
     "output_type": "stream",
     "text": [
      "[[160 124   1]\n",
      " [ 69 294   5]\n",
      " [ 25 147  14]]\n",
      "0.5614035087719298 0.7989130434782609 0.07526881720430108\n"
     ]
    }
   ],
   "source": [
    "# Rows are the actual, columns are the predicted.  negative, neutral, positve\n",
    "print(cm)\n",
    "recall1 = cm[0][0] / (cm[0][0] + cm[0][1] + cm[0][2])\n",
    "recall2 = cm[1][1] / (cm[1][0] + cm[1][1] + cm[1][2])\n",
    "recall3 = cm[2][2] / (cm[2][0] + cm[2][1] + cm[2][2])\n",
    "print(recall1,recall2,recall3)"
   ]
  },
  {
   "cell_type": "code",
   "execution_count": 18,
   "metadata": {},
   "outputs": [
    {
     "data": {
      "text/plain": [
       "0.5578069129916567"
      ]
     },
     "execution_count": 18,
     "metadata": {},
     "output_type": "execute_result"
    }
   ],
   "source": [
    "(cm[0][0] + cm[1][1] + cm[2][2])/sum(sum(cm))"
   ]
  },
  {
   "cell_type": "markdown",
   "metadata": {},
   "source": [
    "## Performance on Test Data\n"
   ]
  },
  {
   "cell_type": "code",
   "execution_count": 19,
   "metadata": {},
   "outputs": [],
   "source": [
    "# Load the data\n",
    "testdf = pd.read_csv('./SemEval2017-task4-test/SemEval2017-task4-test.subtask-A.arabic.txt', sep='\\t', header=None, keep_default_na=False)\n",
    "testdf.columns = ['id','label','raw']\n",
    "\n",
    "testdf['text'] = testdf.apply(lambda row: preprocess(row['raw'], stop_words),axis=1)\n",
    "testdf['numSeq'] = testdf.apply(lambda row: convertTextToNumSeq(row['text'], word2idx, MAXIMUM_LENGTH),axis=1)\n",
    "\n"
   ]
  },
  {
   "cell_type": "code",
   "execution_count": 20,
   "metadata": {},
   "outputs": [
    {
     "name": "stdout",
     "output_type": "stream",
     "text": [
      "neutral     2363\n",
      "negative    2221\n",
      "positive    1514\n",
      "Name: label, dtype: int64\n"
     ]
    }
   ],
   "source": [
    "x_test = testdf['numSeq']\n",
    "y_test = testdf['label']\n",
    "\n",
    "# Prelim analysis to indicate class imbalance\n",
    "print(y_test.value_counts())\n",
    "\n",
    "# Onehot encode the y data\n",
    "y_test = onehot_encoder.transform(np.array(y_test).reshape(len(y_test),1))\n",
    "x_test = np.array([x for y in x_test for x in y]).reshape(len(x_test),MAXIMUM_LENGTH)"
   ]
  },
  {
   "cell_type": "code",
   "execution_count": 21,
   "metadata": {},
   "outputs": [],
   "source": [
    "# Get predictions and prepare data for confusion matrix\n",
    "y_testpred = model.predict(x_test)\n",
    "y_testpred = np.array([[1 if i == max(sc) else 0 for i in sc] for sc in y_testpred])\n",
    "y_testpred_text = onehot_encoder.inverse_transform(y_testpred)\n",
    "y_test_text = onehot_encoder.inverse_transform(y_test)"
   ]
  },
  {
   "cell_type": "code",
   "execution_count": 23,
   "metadata": {},
   "outputs": [],
   "source": [
    "def averageFScore(cm):\n",
    "    (noClasses,_) = cm.shape\n",
    "    fsum = 0\n",
    "    for i in range(noClasses):\n",
    "        correct = cm[i][i]\n",
    "        rowTotal = sum(cm[i])\n",
    "        colTotal = sum(cm[:,i])\n",
    "        recall = correct / rowTotal\n",
    "        precision = correct / colTotal\n",
    "        denominator = precision + recall if precision + recall > 0 else 1\n",
    "        f1 = 2*precision*recall / denominator\n",
    "        fsum += f1\n",
    "    return fsum/noClasses"
   ]
  },
  {
   "cell_type": "code",
   "execution_count": 24,
   "metadata": {},
   "outputs": [
    {
     "name": "stdout",
     "output_type": "stream",
     "text": [
      "[[ 926 1288    7]\n",
      " [ 461 1891   11]\n",
      " [ 275 1226   13]]\n",
      "Test Accuracy: 0.46408658576582484\n",
      "Negative, neutral, positive recall: 0.41692931112111664,0.8002539145154465,0.008586525759577279\n",
      "Average fscore: 0.3508618122549789\n"
     ]
    }
   ],
   "source": [
    "# Create confusion matrix and get some key information from it. \n",
    "cm = confusion_matrix(y_test_text, y_testpred_text, labels=['negative','neutral','positive'])\n",
    "\n",
    "print(cm)\n",
    "testAccuracy = (cm[0][0] + cm[1][1] + cm[2][2])/sum(sum(cm))\n",
    "print(f\"Test Accuracy: {testAccuracy}\")\n",
    "recall1 = cm[0][0] / (cm[0][0] + cm[0][1] + cm[0][2])\n",
    "recall2 = cm[1][1] / (cm[1][0] + cm[1][1] + cm[1][2])\n",
    "recall3 = cm[2][2] / (cm[2][0] + cm[2][1] + cm[2][2])\n",
    "print(f\"Negative, neutral, positive recall: {recall1},{recall2},{recall3}\")\n",
    "print(f\"Average fscore: {averageFScore(cm)}\")"
   ]
  },
  {
   "cell_type": "markdown",
   "metadata": {},
   "source": [
    "Confusion matrix shows prediction in columns of negative, neutral and positive. Groundtruth are in rows of negative, neutral and positive. \n",
    "Test accuracy is 46.4%. We can see from the confusion matrix that the classifier particularly struggles to classify when the text is neutral, its recall of positive samples is 0.85%. Therefore to help improve this model we could try concentrating on features that help to classify positive text. The fact that the model is worse than guessing when the data is positive is concerning and suggests there is a lot of room for improvement. We would expect that the neutral class is the hardest to classify though as it's most similar to the two other classes. Both the training and test data have a class imbalance. Future work could try addressing this class imbalance. I think large difference between the neutral and the positive recalls shows the model struggles to distiguish between them and has placed its decision boundary to get more of the neutral cases right. The positive class si the smallest in both the test and the training data, which may explain why the model has done this. If we wanted to identify neutral tweets then this model would be very useful but most applications would want to classify the negative or the positive tweets, so the future work may want to incentivise the model to improve recall on negative and positive classes, either by balancing the data or creating a custom loss function. "
   ]
  },
  {
   "cell_type": "markdown",
   "metadata": {},
   "source": [
    "TODO: Need to check whether i should be running the test data against a model that has been trained on all the training data. If so: Also need to work out how many epochs that model would have to be trained for.\n",
    "\n",
    "If not: Then i need to run the test data against the training model that has been trained for the number of epochs that gave the highest validation accuracy. \n",
    "\n",
    "Should also try using a CNN on the arabic data rather than LSTM because the CNN should require much less data to optimise than the CNN. The lack of arabic data is a real challenge for this model. "
   ]
  }
 ],
 "metadata": {
  "kernelspec": {
   "display_name": "eenlp",
   "language": "python",
   "name": "myenv"
  },
  "language_info": {
   "codemirror_mode": {
    "name": "ipython",
    "version": 3
   },
   "file_extension": ".py",
   "mimetype": "text/x-python",
   "name": "python",
   "nbconvert_exporter": "python",
   "pygments_lexer": "ipython3",
   "version": "3.6.7"
  }
 },
 "nbformat": 4,
 "nbformat_minor": 2
}
