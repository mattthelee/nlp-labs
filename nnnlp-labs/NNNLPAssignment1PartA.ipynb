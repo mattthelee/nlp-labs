{
 "cells": [
  {
   "cell_type": "markdown",
   "metadata": {},
   "source": [
    "# Assignment 1 Part A\n",
    "Part A involved the processing of data from Jane Austen novels and generating word embeddings from them. "
   ]
  },
  {
   "cell_type": "code",
   "execution_count": 1,
   "metadata": {},
   "outputs": [
    {
     "name": "stderr",
     "output_type": "stream",
     "text": [
      "/home/leem/anaconda3/envs/eenlp/lib/python3.6/importlib/_bootstrap.py:219: RuntimeWarning: numpy.dtype size changed, may indicate binary incompatibility. Expected 96, got 88\n",
      "  return f(*args, **kwds)\n",
      "/home/leem/anaconda3/envs/eenlp/lib/python3.6/importlib/_bootstrap.py:219: RuntimeWarning: numpy.dtype size changed, may indicate binary incompatibility. Expected 96, got 88\n",
      "  return f(*args, **kwds)\n",
      "Using TensorFlow backend.\n"
     ]
    }
   ],
   "source": [
    "from nltk.corpus import gutenberg\n",
    "import pandas as pd\n",
    "from nltk.corpus import stopwords\n",
    "import string\n",
    "import re\n",
    "from keras.preprocessing.sequence import skipgrams\n",
    "from keras.layers import Dot, Input\n",
    "from keras.layers.core import Dense, Reshape\n",
    "from keras.layers.embeddings import Embedding\n",
    "from keras.models import Model\n",
    "from keras.utils import plot_model\n",
    "import numpy as np\n",
    "from sklearn.metrics.pairwise import cosine_similarity\n",
    "from sklearn.manifold import TSNE\n",
    "import matplotlib.pyplot as plt"
   ]
  },
  {
   "cell_type": "markdown",
   "metadata": {},
   "source": [
    "# Preprocessing the training corpus\n",
    "In this section I took the Austen text and removed stop words, non-alphanumeric words, spaces and blank words. It also removes sentences shorter than 2 words as the context for a word can't be found if there are no other words in the sentence."
   ]
  },
  {
   "cell_type": "code",
   "execution_count": 2,
   "metadata": {},
   "outputs": [],
   "source": [
    "def strip(line, stop_words):\n",
    "    # Takes in a list of words and nltk stop words.\n",
    "    strippedLine = []\n",
    "    for word in line:\n",
    "        strippedWord = word.lower()\n",
    "        # Only appends words to strippedLine if not in stop words, not blank, not punctuation and is alphanumeric\n",
    "        if strippedWord.isdigit() or strippedWord in stop_words or strippedWord == '' or strippedWord == ' ' or strippedWord in string.punctuation or not strippedWord.isalnum():\n",
    "            continue\n",
    "        strippedLine.append(strippedWord)\n",
    "    return strippedLine"
   ]
  },
  {
   "cell_type": "code",
   "execution_count": 3,
   "metadata": {},
   "outputs": [
    {
     "name": "stdout",
     "output_type": "stream",
     "text": [
      "Length of austen should be 16498: 16498\n"
     ]
    }
   ],
   "source": [
    "# Load austen text in \n",
    "austen = gutenberg.sents('austen-sense.txt') + gutenberg.sents('austen-emma.txt') + gutenberg.sents('austen-persuasion.txt')\n",
    "print(f\"Length of austen should be 16498: {len(austen)}\")\n",
    "stop_words = stopwords.words('english')\n",
    "newAusten = []\n",
    "\n",
    "# For each line in austen perform the word strip\n",
    "for line in austen:\n",
    "    strippedLine = strip(line,stop_words)\n",
    "    # If word is shorter than 2 words, skip it. \n",
    "    if len(strippedLine) > 2:\n",
    "        newAusten.append(strippedLine)\n",
    "\n"
   ]
  },
  {
   "cell_type": "markdown",
   "metadata": {},
   "source": [
    "## Sanity check for Part A Q1:\n",
    "My preprocessing has cut 4 more sentences, which should not make a significant difference and the processed line also passes the sanity check. "
   ]
  },
  {
   "cell_type": "code",
   "execution_count": 4,
   "metadata": {},
   "outputs": [
    {
     "name": "stdout",
     "output_type": "stream",
     "text": [
      "Length of New Austen should be around 13927: 13923\n",
      "Processed line: ['therefore', 'succession', 'norland', 'estate', 'really', 'important', 'sisters', 'fortune', 'independent', 'might', 'arise', 'father', 'inheriting', 'property', 'could', 'small']\n"
     ]
    }
   ],
   "source": [
    "print(f\"Length of New Austen should be around 13927: {len(newAusten)}\") \n",
    "print('Processed line:', newAusten[10])"
   ]
  },
  {
   "cell_type": "markdown",
   "metadata": {},
   "source": [
    "# Creating the corpus vocabulary and preparing the dataset\n",
    "In this section we created a mapping from word to number and back and used this mapping to convert all the sequences of words into sequences of numbers."
   ]
  },
  {
   "cell_type": "code",
   "execution_count": 5,
   "metadata": {},
   "outputs": [],
   "source": [
    "# create index-word relationship\n",
    "word2idx = {'<PADDINGTOKEN>': 0}\n",
    "idx2word = {0:'<PADDINGTOKEN>'}\n",
    "sents_as_ids = []\n",
    "\n",
    "# For each line in preprocessed text\n",
    "for line in newAusten:\n",
    "    sentId = []\n",
    "    # For each word in line, iif we have seen it before then add the id to the id sentence\n",
    "    for word in line:\n",
    "        if word in word2idx:\n",
    "            sentId.append(word2idx[word])\n",
    "            continue\n",
    "        # If we haven't seen the word  before then we need to assign it an id and add that to dictionaries\n",
    "        count = len(word2idx)\n",
    "        word2idx[word] = count\n",
    "        idx2word[count] = word\n",
    "        sentId.append(count)\n",
    "    sents_as_ids.append(sentId)\n",
    "    \n",
    "# Set vocab size and embed size\n",
    "vocab_size = len(word2idx)\n",
    "embed_size = 100"
   ]
  },
  {
   "cell_type": "markdown",
   "metadata": {},
   "source": [
    "## Sanity check for Part A Q2:"
   ]
  },
  {
   "cell_type": "code",
   "execution_count": 6,
   "metadata": {},
   "outputs": [
    {
     "name": "stdout",
     "output_type": "stream",
     "text": [
      "10093\n",
      "\n",
      "Sample word2idx:  [('<PADDINGTOKEN>', 0), ('sense', 1), ('sensibility', 2), ('jane', 3), ('austen', 4), ('family', 5), ('dashwood', 6), ('long', 7), ('settled', 8), ('sussex', 9)]\n",
      "\n",
      "Sample idx2word: [(0, '<PADDINGTOKEN>'), (1, 'sense'), (2, 'sensibility'), (3, 'jane'), (4, 'austen'), (5, 'family'), (6, 'dashwood'), (7, 'long'), (8, 'settled'), (9, 'sussex')]\n",
      "\n",
      "Sample normalized corpus: [['sense', 'sensibility', 'jane', 'austen'], ['family', 'dashwood', 'long', 'settled', 'sussex'], ['estate', 'large', 'residence', 'norland', 'park', 'centre', 'property', 'many', 'generations', 'lived', 'respectable', 'manner', 'engage', 'general', 'good', 'opinion', 'surrounding', 'acquaintance']]\n",
      "\n",
      "Above sentences as a list of ids: [[1, 2, 3, 4], [5, 6, 7, 8, 9], [10, 11, 12, 13, 14, 15, 16, 17, 18, 19, 20, 21, 22, 23, 24, 25, 26, 27]]\n"
     ]
    }
   ],
   "source": [
    "print(vocab_size)\n",
    "print('\\nSample word2idx: ', list(word2idx.items())[:10])\n",
    "print('\\nSample idx2word:', list(idx2word.items())[:10])\n",
    "print('\\nSample normalized corpus:', newAusten[:3])\n",
    "print('\\nAbove sentences as a list of ids:' , sents_as_ids[:3])"
   ]
  },
  {
   "cell_type": "markdown",
   "metadata": {},
   "source": [
    "# Generating training instances"
   ]
  },
  {
   "cell_type": "code",
   "execution_count": 7,
   "metadata": {},
   "outputs": [],
   "source": [
    "skip_grams = [skipgrams(sent, vocabulary_size=vocab_size, window_size=5) for sent in\n",
    "sents_as_ids]"
   ]
  },
  {
   "cell_type": "code",
   "execution_count": 8,
   "metadata": {},
   "outputs": [
    {
     "name": "stdout",
     "output_type": "stream",
     "text": [
      "(sensibility (2), influence, (2010)) -> 0\n",
      "(austen (4), replacing, (6762)) -> 0\n",
      "(austen (4), dispersed, (2964)) -> 0\n",
      "(austen (4), possesses, (3140)) -> 0\n",
      "(sense (1), much, (135)) -> 0\n",
      "(sensibility (2), sense, (1)) -> 1\n",
      "(sense (1), sensibility, (2)) -> 1\n",
      "(sense (1), austen, (4)) -> 1\n",
      "(jane (3), lowness, (3863)) -> 0\n",
      "(sensibility (2), austen, (4)) -> 1\n",
      "(sensibility (2), stayed, (4461)) -> 0\n",
      "(jane (3), retrenchment, (8909)) -> 0\n",
      "(austen (4), sensibility, (2)) -> 1\n",
      "(austen (4), jane, (3)) -> 1\n",
      "(sense (1), jane, (3)) -> 1\n",
      "(sense (1), strawberries, (8268)) -> 0\n",
      "(jane (3), sense, (1)) -> 1\n",
      "(sensibility (2), jane, (3)) -> 1\n",
      "(jane (3), austen, (4)) -> 1\n",
      "(sensibility (2), impolite, (7865)) -> 0\n",
      "(jane (3), sensibility, (2)) -> 1\n",
      "(sense (1), foregoing, (5542)) -> 0\n",
      "(jane (3), moss, (3131)) -> 0\n",
      "(austen (4), sense, (1)) -> 1\n"
     ]
    }
   ],
   "source": [
    "pairs, labels = skip_grams[0][0], skip_grams[0][1]\n",
    "# This shows whether the two words occur together in the context window(size of which is set above) \n",
    "# 1 if they co-occur 0 \n",
    "# We get all the times that a word occurs from the first sentence co-occurs with something \n",
    "# and only a handful (negative sampling) of the words it does not co-occur with \n",
    "for i in range(len(pairs)):\n",
    "    print('({:s} ({:d}), {:s}, ({:d})) -> {:d}'.format(idx2word[pairs[i][0]], pairs[i][0],idx2word[pairs[i][1]], pairs[i][1],labels[i]))"
   ]
  },
  {
   "cell_type": "markdown",
   "metadata": {},
   "source": [
    "# Building the Skip-gram Neural Network Architecture\n",
    "In this section we take the sentences that have been converted into sequences of numbers and train an NN to produce embeddings for these words. "
   ]
  },
  {
   "cell_type": "code",
   "execution_count": 9,
   "metadata": {},
   "outputs": [],
   "source": [
    "# Building our own skipgram Neural Network\n",
    "# This will  predict whether the target word and the context word are co-occuring\n",
    "\n",
    "# First we build the input pipeline for the target word\n",
    "\n",
    "# Set the input\n",
    "target_word = Input((1,), dtype='int32')\n",
    "\n",
    "# Keras takes all the words in the vocabulary and gives them a unique vector\n",
    "# we therefore have to give it the dimensionality of the vector we want it to use \n",
    "# and tell it how many words it needs to give unique vectors to. \n",
    "# The glorot uniform initialises the vector randomly but uniquely\n",
    "target_embedding = Embedding(vocab_size, embed_size, name='target_embed_layer', \\\n",
    "embeddings_initializer='glorot_uniform', \\\n",
    "input_length=1)(target_word)\n",
    "# Output of this is weird: a list of 100 sublists, each sublist of length 1\n",
    "# This reshape changes it into a single list of length 100\n",
    "target_input = Reshape((embed_size, ))(target_embedding)\n",
    "\n",
    "# repeat the same for the context word\n",
    "context_word = Input((1,), dtype='int32')\n",
    "context_embedding = Embedding(vocab_size, embed_size, name='context_embed_layer', \\\n",
    "embeddings_initializer='glorot_uniform', \\\n",
    "input_length=1)(context_word)\n",
    "context_input = Reshape((embed_size, ))(context_embedding)\n",
    "\n",
    "# We merge the inputs and perform a dot product on them\n",
    "# The similarity of the two vectors is given by this dot product\n",
    "merged_inputs = Dot(axes=-1, normalize=False)([target_input, context_input])\n",
    "\n",
    "# Single sigmoid converts the similarity into a 1 or a 0\n",
    "label = Dense(1,activation='sigmoid')(merged_inputs)\n",
    "model = Model(inputs=[target_word, context_word], outputs=[label])\n",
    "model.compile(loss='mean_squared_error', optimizer='rmsprop')\n",
    "\n",
    "# Later we will train this model by having it predict the answers from the cell above. \n",
    "# This training will result in tweaks to the weights for the vectors, \n",
    "# which is what we will use as the vector for the given word\n"
   ]
  },
  {
   "cell_type": "markdown",
   "metadata": {},
   "source": [
    "## Part A Q2 Sanity Check:"
   ]
  },
  {
   "cell_type": "code",
   "execution_count": 10,
   "metadata": {},
   "outputs": [
    {
     "name": "stdout",
     "output_type": "stream",
     "text": [
      "__________________________________________________________________________________________________\n",
      "Layer (type)                    Output Shape         Param #     Connected to                     \n",
      "==================================================================================================\n",
      "input_1 (InputLayer)            (None, 1)            0                                            \n",
      "__________________________________________________________________________________________________\n",
      "input_2 (InputLayer)            (None, 1)            0                                            \n",
      "__________________________________________________________________________________________________\n",
      "target_embed_layer (Embedding)  (None, 1, 100)       1009300     input_1[0][0]                    \n",
      "__________________________________________________________________________________________________\n",
      "context_embed_layer (Embedding) (None, 1, 100)       1009300     input_2[0][0]                    \n",
      "__________________________________________________________________________________________________\n",
      "reshape_1 (Reshape)             (None, 100)          0           target_embed_layer[0][0]         \n",
      "__________________________________________________________________________________________________\n",
      "reshape_2 (Reshape)             (None, 100)          0           context_embed_layer[0][0]        \n",
      "__________________________________________________________________________________________________\n",
      "dot_1 (Dot)                     (None, 1)            0           reshape_1[0][0]                  \n",
      "                                                                 reshape_2[0][0]                  \n",
      "__________________________________________________________________________________________________\n",
      "dense_1 (Dense)                 (None, 1)            2           dot_1[0][0]                      \n",
      "==================================================================================================\n",
      "Total params: 2,018,602\n",
      "Trainable params: 2,018,602\n",
      "Non-trainable params: 0\n",
      "__________________________________________________________________________________________________\n"
     ]
    }
   ],
   "source": [
    "model.summary()"
   ]
  },
  {
   "cell_type": "code",
   "execution_count": 11,
   "metadata": {},
   "outputs": [],
   "source": [
    "plot_model(model, to_file='skipgram_keras', show_shapes=True, show_layer_names=True,\n",
    "rankdir='TB')"
   ]
  },
  {
   "cell_type": "code",
   "execution_count": 12,
   "metadata": {},
   "outputs": [
    {
     "name": "stdout",
     "output_type": "stream",
     "text": [
      "Processed 0 sentences\n",
      "Processed 5000 sentences\n",
      "Processed 10000 sentences\n",
      "Processed all 13922 sentences\n",
      "Epoch: 1 Loss: 2443.424441647716 \n",
      "\n",
      "Processed 0 sentences\n",
      "Processed 5000 sentences\n",
      "Processed 10000 sentences\n",
      "Processed all 13922 sentences\n",
      "Epoch: 2 Loss: 1976.6649280525744 \n",
      "\n",
      "Processed 0 sentences\n",
      "Processed 5000 sentences\n",
      "Processed 10000 sentences\n",
      "Processed all 13922 sentences\n",
      "Epoch: 3 Loss: 1889.210235319566 \n",
      "\n",
      "Processed 0 sentences\n",
      "Processed 5000 sentences\n",
      "Processed 10000 sentences\n",
      "Processed all 13922 sentences\n",
      "Epoch: 4 Loss: 1844.923446359462 \n",
      "\n",
      "Processed 0 sentences\n",
      "Processed 5000 sentences\n",
      "Processed 10000 sentences\n",
      "Processed all 13922 sentences\n",
      "Epoch: 5 Loss: 1824.12899619143 \n",
      "\n"
     ]
    }
   ],
   "source": [
    "for epoch in range(1, 6):\n",
    "    epoch_loss = 0\n",
    "    # in each epoch, train all the sentences, one per iteration=> batch_size = num_sents\n",
    "    for i, sent_examples in enumerate(skip_grams):\n",
    "        target_wds = np.array([pair[0] for pair in sent_examples[0]], dtype='int32')\n",
    "        context_wds = np.array([pair[1] for pair in sent_examples[0]], dtype='int32')\n",
    "        labels = np.array(sent_examples[1], dtype='int32')\n",
    "        X = [target_wds, context_wds]\n",
    "        Y = labels\n",
    "        if i % 5000 == 0: # after 5000 sentences i.e. 5000 iterations\n",
    "            print('Processed %d sentences' %i)\n",
    "        epoch_loss += model.train_on_batch(X, Y)\n",
    "    print('Processed all %d sentences' %i)\n",
    "    print('Epoch:', epoch, 'Loss:', epoch_loss, '\\n')"
   ]
  },
  {
   "cell_type": "markdown",
   "metadata": {},
   "source": [
    "# Answers to Part A Q4:\n",
    "### What would the inputs and outputs to the model be?\n",
    "The inputs would be vectors of dimension equal to the vocab size. In the case of McCormick's tutorial that's a 1000 dimension vector. The vector is a one-hot encoding of the word. The dimension corresponding to the word it's encoding = 1 and all others = 0. \n",
    "The output of the model = number of neurons in output layer, which in the tutorial is 300. This therefore outputs a 300 dimension vector, which is the skipgram representation of the original word. \n",
    "### How would you use the Keras framework to create this architecture?\n",
    "In the below keras code, i create one layer to do the onehot encoding first and then the 300 neuron hidden layer. Alternatively you could handle the onehot encoding differently. Softmax is used as the activation function for the 300 dim input layer as we want values of the vector dimensions to be bound. \n",
    "model = Sequential()\n",
    "model.add(OneHot(VOCAB_SIZE,1))\n",
    "model.add(Dense(300, activation='softmax))\n",
    "###  Can you think of reasons why this model is considered to be inefficient?\n",
    "It takes in an extremely sparse vector as an input, which means its a large vector without much information. This results in a model with 2million parameters.  It's easier for us to generate random 300 dimension vectors for each word to begin with and then have the model optimise this as this uses fewer parameters. "
   ]
  },
  {
   "cell_type": "markdown",
   "metadata": {},
   "source": [
    "# Part A Q5: "
   ]
  },
  {
   "cell_type": "code",
   "execution_count": 36,
   "metadata": {},
   "outputs": [],
   "source": [
    "# Get the word embeddings by getting the weights of the embed layer\n",
    "word_embeddings = model.get_layer('target_embed_layer').get_weights()[0]"
   ]
  },
  {
   "cell_type": "code",
   "execution_count": 37,
   "metadata": {},
   "outputs": [
    {
     "name": "stdout",
     "output_type": "stream",
     "text": [
      "(10093, 100)\n",
      "(10093, 100)\n",
      "                      0         1         2         3         4         5   \\\n",
      "<PADDINGTOKEN> -0.012631  0.002863  0.000215  0.010280  0.000045 -0.016784   \n",
      "sense          -0.000619  0.038049 -0.005977  0.025992 -0.042562 -0.007328   \n",
      "sensibility    -0.029605  0.023099  0.028955 -0.016231  0.013143  0.012611   \n",
      "jane            0.089862 -0.060235 -0.002126 -0.040743  0.026437  0.048125   \n",
      "austen         -0.030632  0.029559 -0.013486 -0.004962  0.011429 -0.016096   \n",
      "family          0.054916  0.011609 -0.059308 -0.043058 -0.053189 -0.017252   \n",
      "dashwood       -0.119744  0.057427  0.050500  0.127728 -0.035849 -0.058869   \n",
      "long            0.030773 -0.065037  0.051264 -0.077794 -0.011770  0.066154   \n",
      "settled         0.006896  0.000058  0.022398  0.019979  0.015494  0.004329   \n",
      "sussex          0.001971  0.022248  0.012762  0.001522  0.009328 -0.001340   \n",
      "\n",
      "                      6         7         8         9     ...           90  \\\n",
      "<PADDINGTOKEN>  0.008239 -0.010170 -0.006967  0.004614    ...    -0.005656   \n",
      "sense           0.067207 -0.028670  0.025992 -0.022349    ...    -0.005699   \n",
      "sensibility    -0.016643  0.003828 -0.020750 -0.027749    ...     0.016283   \n",
      "jane            0.025978  0.060258 -0.010569  0.020425    ...     0.009399   \n",
      "austen         -0.018472 -0.008167 -0.001543 -0.008770    ...    -0.010754   \n",
      "family          0.026191  0.062957  0.023158  0.041907    ...    -0.044630   \n",
      "dashwood       -0.081411 -0.060508  0.088379 -0.025852    ...     0.148048   \n",
      "long           -0.015797 -0.032967  0.043411 -0.016497    ...    -0.054728   \n",
      "settled         0.046280  0.026432  0.061060  0.013738    ...    -0.043379   \n",
      "sussex          0.021201  0.006222  0.032372  0.030046    ...    -0.005056   \n",
      "\n",
      "                      91        92        93        94        95        96  \\\n",
      "<PADDINGTOKEN>  0.021552  0.005213  0.013453 -0.007344 -0.022000 -0.002814   \n",
      "sense           0.029485  0.039048  0.058068 -0.004346 -0.023183  0.026581   \n",
      "sensibility     0.018614  0.034115  0.011237  0.021965 -0.000832 -0.005592   \n",
      "jane           -0.016462  0.022459  0.007042  0.002513 -0.005921  0.031455   \n",
      "austen         -0.011830  0.037871  0.022545 -0.006363 -0.007401  0.017164   \n",
      "family          0.056881  0.011266  0.034756  0.050200 -0.050615 -0.045447   \n",
      "dashwood        0.062166  0.063053  0.041215  0.033120  0.021551  0.072270   \n",
      "long            0.064302  0.046070  0.038334 -0.005920 -0.007846  0.010608   \n",
      "settled        -0.008967  0.029589  0.000501 -0.009808  0.050250  0.012789   \n",
      "sussex          0.022331  0.032169  0.004883 -0.002220 -0.016610 -0.001925   \n",
      "\n",
      "                      97        98        99  \n",
      "<PADDINGTOKEN> -0.010370 -0.002065  0.005263  \n",
      "sense          -0.016616 -0.019747  0.051443  \n",
      "sensibility    -0.001118 -0.042678  0.030914  \n",
      "jane           -0.049220 -0.001032 -0.078810  \n",
      "austen         -0.008366 -0.017149  0.019910  \n",
      "family         -0.103842  0.043124  0.082689  \n",
      "dashwood       -0.080065 -0.076315  0.080303  \n",
      "long            0.004741  0.048483 -0.046177  \n",
      "settled        -0.002464 -0.052938  0.030819  \n",
      "sussex          0.028435 -0.028794  0.037077  \n",
      "\n",
      "[10 rows x 100 columns]\n"
     ]
    }
   ],
   "source": [
    "print(word_embeddings.shape)\n",
    "print(test.shape)\n",
    "print(pd.DataFrame(word_embeddings, index=idx2word.values()).head(10))"
   ]
  },
  {
   "cell_type": "code",
   "execution_count": 38,
   "metadata": {},
   "outputs": [
    {
     "name": "stdout",
     "output_type": "stream",
     "text": [
      "(10093, 10093)\n"
     ]
    }
   ],
   "source": [
    "# Find the similarity of evey word with every other word by doing dot product. \n",
    "similarity_matrix = cosine_similarity(word_embeddings)\n",
    "print(similarity_matrix.shape)"
   ]
  },
  {
   "cell_type": "code",
   "execution_count": 39,
   "metadata": {},
   "outputs": [
    {
     "name": "stdout",
     "output_type": "stream",
     "text": [
      "man ['meets', 'willoughbys', 'disgusting', 'grandmamma', 'intimated']\n",
      "miss ['guests', 'satisfaction', 'celebrated', 'declarations', 'fainter']\n",
      "sister ['wording', 'risen', 'friendliness', 'overpower', 'greatcoat']\n",
      "woman ['rapturously', 'variations', 'struggle', 'swoon', 'accounted']\n",
      "lady ['arise', 'temper', 'specious', 'introduced', 'baronight']\n",
      "kindness ['chaperon', 'refreshed', 'cheeks', 'detached', 'captivating']\n",
      "god ['original', 'presence', 'stanza', 'emulate', 'hatred']\n",
      "folly ['band', 'committed', 'fairfax', 'satisfactory', 'accomplish']\n",
      "fool ['handed', 'leg', 'provide', 'hazle', 'appeal']\n"
     ]
    }
   ],
   "source": [
    "# Set some particular words to compare\n",
    "search_terms = ['man', 'miss', 'sister', 'woman', 'lady', 'kindness', 'god', 'man', 'folly', 'fool']\n",
    "# Find the closest 5 words to each search word\n",
    "similar_words = {term: [idx2word[idx] \\\n",
    "for idx in (-1 * similarity_matrix[word2idx[term]-1]).argsort()[1:6] + 1] \\\n",
    "for term in search_terms}\n",
    "\n",
    "for word in similar_words.keys():\n",
    "    print(word,similar_words[word])"
   ]
  },
  {
   "cell_type": "markdown",
   "metadata": {},
   "source": [
    "# Part A Q6: Visualising the word embeddings"
   ]
  },
  {
   "cell_type": "code",
   "execution_count": 40,
   "metadata": {},
   "outputs": [
    {
     "data": {
      "image/png": "[encoded data removed]",
      "text/plain": [
       "<Figure size 1008x576 with 1 Axes>"
      ]
     },
     "metadata": {
      "needs_background": "light"
     },
     "output_type": "display_data"
    }
   ],
   "source": [
    "# Reduce dimensionality down to 2 dimensions so our puny human minds can comprehend it\n",
    "tsne = TSNE(perplexity=3, n_components=2, init='pca', n_iter=5000, method='exact')\n",
    "np.set_printoptions(suppress=True)\n",
    "plot_only = 50\n",
    "\n",
    "# Perform dim reduction on first 50 only\n",
    "T = tsne.fit_transform(word_embeddings[:plot_only, :])\n",
    "labels = [idx2word[i+1] for i in range(plot_only)]\n",
    "plt.figure(figsize=(14, 8))\n",
    "plt.scatter(T[:, 0], T[:, 1])\n",
    "for label, x, y in zip(labels, T[:, 0], T[:, 1]):\n",
    "    plt.annotate(label, xy=(x+1, y+1), xytext=(0, 0), textcoords='offset points', ha='right',va='bottom')"
   ]
  },
  {
   "cell_type": "code",
   "execution_count": null,
   "metadata": {},
   "outputs": [],
   "source": []
  }
 ],
 "metadata": {
  "kernelspec": {
   "display_name": "eenlp",
   "language": "python",
   "name": "myenv"
  },
  "language_info": {
   "codemirror_mode": {
    "name": "ipython",
    "version": 3
   },
   "file_extension": ".py",
   "mimetype": "text/x-python",
   "name": "python",
   "nbconvert_exporter": "python",
   "pygments_lexer": "ipython3",
   "version": "3.6.7"
  }
 },
 "nbformat": 4,
 "nbformat_minor": 2
}
