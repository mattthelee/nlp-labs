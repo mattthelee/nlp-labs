{
 "cells": [
  {
   "cell_type": "code",
   "execution_count": 2,
   "metadata": {},
   "outputs": [
    {
     "name": "stderr",
     "output_type": "stream",
     "text": [
      "/home/leem/anaconda3/envs/eenlp/lib/python3.6/importlib/_bootstrap.py:219: RuntimeWarning: numpy.dtype size changed, may indicate binary incompatibility. Expected 96, got 88\n",
      "  return f(*args, **kwds)\n",
      "/home/leem/anaconda3/envs/eenlp/lib/python3.6/importlib/_bootstrap.py:219: RuntimeWarning: numpy.dtype size changed, may indicate binary incompatibility. Expected 96, got 88\n",
      "  return f(*args, **kwds)\n",
      "Using TensorFlow backend.\n"
     ]
    }
   ],
   "source": [
    "from nltk.corpus import gutenberg\n",
    "import pandas as pd\n",
    "from nltk.corpus import stopwords\n",
    "import string\n",
    "import re\n",
    "from keras.preprocessing.sequence import skipgrams\n",
    "from keras.layers import Dot, Input\n",
    "from keras.layers.core import Dense, Reshape\n",
    "from keras.layers.embeddings import Embedding\n",
    "from keras.models import Model\n",
    "from keras.utils import plot_model\n",
    "import numpy as np\n",
    "from sklearn.metrics.pairwise import cosine_similarity\n",
    "from sklearn.manifold import TSNE\n",
    "import matplotlib.pyplot as plt"
   ]
  },
  {
   "cell_type": "code",
   "execution_count": 3,
   "metadata": {},
   "outputs": [],
   "source": [
    "\n",
    "\n",
    "def strip(line, stop_words):\n",
    "    strippedLine = []\n",
    "    for word in line:\n",
    "        strippedWord = word.lower()\n",
    "        if strippedWord.isdigit() or strippedWord in stop_words or strippedWord == '' or strippedWord == ' ' or strippedWord in string.punctuation or not strippedWord.isalnum():\n",
    "            continue\n",
    "        strippedLine.append(strippedWord)\n",
    "    return strippedLine"
   ]
  },
  {
   "cell_type": "code",
   "execution_count": 4,
   "metadata": {},
   "outputs": [
    {
     "name": "stdout",
     "output_type": "stream",
     "text": [
      "Length of austen should be 16498: 16498\n",
      "Length of New Austen should be 13927: 13923\n",
      "Processed line: ['therefore', 'succession', 'norland', 'estate', 'really', 'important', 'sisters', 'fortune', 'independent', 'might', 'arise', 'father', 'inheriting', 'property', 'could', 'small']\n"
     ]
    }
   ],
   "source": [
    "\n",
    "austen = gutenberg.sents('austen-sense.txt') + gutenberg.sents('austen-emma.txt') + gutenberg.sents('austen-persuasion.txt')\n",
    "print(f\"Length of austen should be 16498: {len(austen)}\")\n",
    "stop_words = stopwords.words('english')\n",
    "newAusten = []\n",
    "for line in austen:\n",
    "    strippedLine = strip(line,stop_words)\n",
    "    if len(strippedLine) > 2:\n",
    "        newAusten.append(strippedLine)\n",
    "print(f\"Length of New Austen should be 13927: {len(newAusten)}\")\n",
    "print('Processed line:', newAusten[10])\n"
   ]
  },
  {
   "cell_type": "code",
   "execution_count": 5,
   "metadata": {},
   "outputs": [],
   "source": [
    "# create index-word relationship\n",
    "word2idx = {'<PADDINGTOKEN>': 0}\n",
    "idx2word ={}# {0:'<PADDINGTOKEN>'}\n",
    "sents_as_ids = []\n",
    "for line in newAusten:\n",
    "    sentId = []\n",
    "    for word in line:\n",
    "        if word in word2idx:\n",
    "            sentId.append(word2idx[word])\n",
    "            continue\n",
    "        count = len(word2idx)\n",
    "        word2idx[word] = count\n",
    "        idx2word[count] = word\n",
    "        sentId.append(count)\n",
    "    sents_as_ids.append(sentId)\n",
    "    \n",
    "        \n",
    "vocab_size = len(word2idx)\n",
    "embed_size = 100"
   ]
  },
  {
   "cell_type": "code",
   "execution_count": 7,
   "metadata": {},
   "outputs": [
    {
     "name": "stdout",
     "output_type": "stream",
     "text": [
      "10093\n",
      "\n",
      "Sample word2idx:  [('<PADDINGTOKEN>', 0), ('sense', 1), ('sensibility', 2), ('jane', 3), ('austen', 4), ('family', 5), ('dashwood', 6), ('long', 7), ('settled', 8), ('sussex', 9)]\n",
      "\n",
      "Sample idx2word: [(1, 'sense'), (2, 'sensibility'), (3, 'jane'), (4, 'austen'), (5, 'family'), (6, 'dashwood'), (7, 'long'), (8, 'settled'), (9, 'sussex'), (10, 'estate')]\n",
      "\n",
      "Sample normalized corpus: [['anne', 'tenderness', 'full', 'worth', 'captain', 'wentworth', 'affection'], ['profession', 'could', 'ever', 'make', 'friends', 'wish', 'tenderness', 'less', 'dread', 'future', 'war', 'could', 'dim', 'sunshine'], ['gloried', 'sailor', 'wife', 'must', 'pay', 'tax', 'quick', 'alarm', 'belonging', 'profession', 'possible', 'distinguished', 'domestic', 'virtues', 'national', 'importance']]\n",
      "\n",
      "Above sentence as a list of ids: [[3572, 2691, 1542, 597, 6196, 9017, 186], [3016, 81, 344, 233, 1055, 568, 2691, 534, 3985, 428, 6622, 81, 9603, 1927], [5139, 8960, 127, 312, 686, 5110, 1763, 1858, 683, 3016, 496, 856, 876, 1008, 10092, 2172]]\n"
     ]
    }
   ],
   "source": [
    "print(vocab_size)\n",
    "print('\\nSample word2idx: ', list(word2idx.items())[:10])\n",
    "print('\\nSample idx2word:', list(idx2word.items())[:10])\n",
    "print('\\nSample normalized corpus:', newAusten[-3:])\n",
    "print('\\nAbove sentence as a list of ids:' , sents_as_ids[-3:])"
   ]
  },
  {
   "cell_type": "code",
   "execution_count": 6,
   "metadata": {},
   "outputs": [],
   "source": [
    "skip_grams = [skipgrams(sent, vocabulary_size=vocab_size, window_size=5) for sent in\n",
    "sents_as_ids]"
   ]
  },
  {
   "cell_type": "code",
   "execution_count": 7,
   "metadata": {},
   "outputs": [
    {
     "name": "stdout",
     "output_type": "stream",
     "text": [
      "(austen (4), sense, (1)) -> 1\n",
      "(austen (4), sensibility, (2)) -> 1\n",
      "(sense (1), reigns, (6681)) -> 0\n",
      "(sense (1), jane, (3)) -> 1\n",
      "(jane (3), unite, (6029)) -> 0\n",
      "(sensibility (2), manoeuvred, (9802)) -> 0\n",
      "(jane (3), austen, (4)) -> 1\n",
      "(sensibility (2), austen, (4)) -> 1\n",
      "(austen (4), marshal, (9792)) -> 0\n",
      "(jane (3), sense, (1)) -> 1\n",
      "(austen (4), boatmen, (9510)) -> 0\n",
      "(jane (3), puddle, (7496)) -> 0\n",
      "(sense (1), emergence, (5484)) -> 0\n",
      "(jane (3), pass, (2729)) -> 0\n",
      "(austen (4), jane, (3)) -> 1\n",
      "(jane (3), sensibility, (2)) -> 1\n",
      "(sensibility (2), wakefield, (6352)) -> 0\n",
      "(sensibility (2), sense, (1)) -> 1\n",
      "(sense (1), sensibility, (2)) -> 1\n",
      "(sense (1), austen, (4)) -> 1\n",
      "(sense (1), tomorrow, (2019)) -> 0\n",
      "(sensibility (2), intermission, (2655)) -> 0\n",
      "(austen (4), gracious, (4676)) -> 0\n",
      "(sensibility (2), jane, (3)) -> 1\n"
     ]
    }
   ],
   "source": [
    "pairs, labels = skip_grams[0][0], skip_grams[0][1]\n",
    "# This shows whether the two words occur together in the context window(size of which is set above) \n",
    "# 1 if they co-occur 0 \n",
    "# We get all the times that a word occurs from the first sentence co-occurs with something \n",
    "# and only a handful (negative sampling) of the words it does not co-occur with \n",
    "for i in range(len(pairs)):\n",
    "    print('({:s} ({:d}), {:s}, ({:d})) -> {:d}'.format(idx2word[pairs[i][0]], pairs[i][0],idx2word[pairs[i][1]], pairs[i][1],labels[i]))"
   ]
  },
  {
   "cell_type": "code",
   "execution_count": 8,
   "metadata": {},
   "outputs": [
    {
     "name": "stdout",
     "output_type": "stream",
     "text": [
      "__________________________________________________________________________________________________\n",
      "Layer (type)                    Output Shape         Param #     Connected to                     \n",
      "==================================================================================================\n",
      "input_1 (InputLayer)            (None, 1)            0                                            \n",
      "__________________________________________________________________________________________________\n",
      "input_2 (InputLayer)            (None, 1)            0                                            \n",
      "__________________________________________________________________________________________________\n",
      "target_embed_layer (Embedding)  (None, 1, 100)       1009300     input_1[0][0]                    \n",
      "__________________________________________________________________________________________________\n",
      "context_embed_layer (Embedding) (None, 1, 100)       1009300     input_2[0][0]                    \n",
      "__________________________________________________________________________________________________\n",
      "reshape_1 (Reshape)             (None, 100)          0           target_embed_layer[0][0]         \n",
      "__________________________________________________________________________________________________\n",
      "reshape_2 (Reshape)             (None, 100)          0           context_embed_layer[0][0]        \n",
      "__________________________________________________________________________________________________\n",
      "dot_1 (Dot)                     (None, 1)            0           reshape_1[0][0]                  \n",
      "                                                                 reshape_2[0][0]                  \n",
      "__________________________________________________________________________________________________\n",
      "dense_1 (Dense)                 (None, 1)            2           dot_1[0][0]                      \n",
      "==================================================================================================\n",
      "Total params: 2,018,602\n",
      "Trainable params: 2,018,602\n",
      "Non-trainable params: 0\n",
      "__________________________________________________________________________________________________\n"
     ]
    }
   ],
   "source": [
    "# Building our own skipgram Neural Network\n",
    "# This will  predict whether the target word and the context word are co-occuring\n",
    "\n",
    "# First we build the input pipeline for the target word\n",
    "\n",
    "# Set the input\n",
    "target_word = Input((1,), dtype='int32')\n",
    "\n",
    "# Keras takes all the words in the vocabulary and gives them a unique vector\n",
    "# we therefore have to give it the dimensionality of the vector we want it to use \n",
    "# and tell it how many words it needs to give unique vectors to. \n",
    "# The glorot uniform initialises the vector randomly but uniquely\n",
    "target_embedding = Embedding(vocab_size, embed_size, name='target_embed_layer', \\\n",
    "embeddings_initializer='glorot_uniform', \\\n",
    "input_length=1)(target_word)\n",
    "# Output of this is weird: a list of 100 sublists, each sublist of length 1\n",
    "# This reshape changes it into a single list of length 100\n",
    "target_input = Reshape((embed_size, ))(target_embedding)\n",
    "\n",
    "# repeat the same for the context word\n",
    "context_word = Input((1,), dtype='int32')\n",
    "context_embedding = Embedding(vocab_size, embed_size, name='context_embed_layer', \\\n",
    "embeddings_initializer='glorot_uniform', \\\n",
    "input_length=1)(context_word)\n",
    "context_input = Reshape((embed_size, ))(context_embedding)\n",
    "\n",
    "# We merge the inputs and perform a dot product on them\n",
    "# The similarity of the two vectors is given by this dot product\n",
    "merged_inputs = Dot(axes=-1, normalize=False)([target_input, context_input])\n",
    "\n",
    "# Single sigmoid converts the similarity into a 1 or a 0\n",
    "label = Dense(1,activation='sigmoid')(merged_inputs)\n",
    "model = Model(inputs=[target_word, context_word], outputs=[label])\n",
    "model.compile(loss='mean_squared_error', optimizer='rmsprop')\n",
    "model.summary()\n",
    "# Later we will train this model by having it predict the answers from the cell above. \n",
    "# This training will result in tweaks to the weights for the vectors, \n",
    "# which is what we will use as the vector for the given word\n"
   ]
  },
  {
   "cell_type": "code",
   "execution_count": 9,
   "metadata": {},
   "outputs": [],
   "source": [
    "plot_model(model, to_file='skipgram_keras', show_shapes=True, show_layer_names=True,\n",
    "rankdir='TB')"
   ]
  },
  {
   "cell_type": "code",
   "execution_count": 10,
   "metadata": {},
   "outputs": [
    {
     "name": "stdout",
     "output_type": "stream",
     "text": [
      "Processed 0 sentences\n",
      "Processed 5000 sentences\n",
      "Processed 10000 sentences\n",
      "Processed all 13922 sentences\n",
      "Epoch: 1 Loss: 2403.2733463170007 \n",
      "\n",
      "Processed 0 sentences\n",
      "Processed 5000 sentences\n",
      "Processed 10000 sentences\n",
      "Processed all 13922 sentences\n",
      "Epoch: 2 Loss: 1957.9075756347738 \n",
      "\n",
      "Processed 0 sentences\n",
      "Processed 5000 sentences\n",
      "Processed 10000 sentences\n",
      "Processed all 13922 sentences\n",
      "Epoch: 3 Loss: 1874.1934328575153 \n",
      "\n",
      "Processed 0 sentences\n",
      "Processed 5000 sentences\n",
      "Processed 10000 sentences\n",
      "Processed all 13922 sentences\n",
      "Epoch: 4 Loss: 1830.2467180904932 \n",
      "\n",
      "Processed 0 sentences\n",
      "Processed 5000 sentences\n",
      "Processed 10000 sentences\n",
      "Processed all 13922 sentences\n",
      "Epoch: 5 Loss: 1808.9655332275433 \n",
      "\n"
     ]
    }
   ],
   "source": [
    "for epoch in range(1, 6):\n",
    "    epoch_loss = 0\n",
    "    # in each epoch, train all the sentences, one per iteration=> batch_size = num_sents\n",
    "    for i, sent_examples in enumerate(skip_grams):\n",
    "        target_wds = np.array([pair[0] for pair in sent_examples[0]], dtype='int32')\n",
    "        context_wds = np.array([pair[1] for pair in sent_examples[0]], dtype='int32')\n",
    "        labels = np.array(sent_examples[1], dtype='int32')\n",
    "        X = [target_wds, context_wds]\n",
    "        Y = labels\n",
    "        if i % 5000 == 0: # after 5000 sentences i.e. 5000 iterations\n",
    "            print('Processed %d sentences' %i)\n",
    "        epoch_loss += model.train_on_batch(X, Y)\n",
    "    print('Processed all %d sentences' %i)\n",
    "    print('Epoch:', epoch, 'Loss:', epoch_loss, '\\n')"
   ]
  },
  {
   "cell_type": "code",
   "execution_count": 11,
   "metadata": {},
   "outputs": [],
   "source": [
    "word_embeddings = model.get_layer('target_embed_layer').get_weights()[0][1:]"
   ]
  },
  {
   "cell_type": "code",
   "execution_count": 12,
   "metadata": {},
   "outputs": [
    {
     "name": "stdout",
     "output_type": "stream",
     "text": [
      "(10092, 100)\n",
      "                   0         1         2         3         4         5   \\\n",
      "sense       -0.039759 -0.045699 -0.000175  0.033901  0.093555 -0.007127   \n",
      "sensibility -0.035315 -0.020067 -0.009030  0.029456  0.019182  0.010299   \n",
      "jane         0.019947  0.030676  0.003850  0.023361  0.019471  0.032823   \n",
      "austen       0.009172  0.008131  0.009094 -0.001739  0.013814  0.018217   \n",
      "family       0.044237  0.048352 -0.050794  0.047894  0.091947 -0.059468   \n",
      "dashwood    -0.032218  0.006571  0.016224  0.040839 -0.056288  0.120090   \n",
      "long        -0.105495  0.028892 -0.019909  0.096834  0.047018  0.001583   \n",
      "settled      0.063002  0.012567  0.049860  0.023156 -0.057873 -0.056710   \n",
      "sussex       0.003106  0.014015 -0.039707  0.023411 -0.013063  0.032220   \n",
      "estate      -0.017975  0.026547 -0.040237 -0.020131  0.000982 -0.028110   \n",
      "\n",
      "                   6         7         8         9     ...           90  \\\n",
      "sense        0.006547 -0.001362  0.037365 -0.025102    ...    -0.052674   \n",
      "sensibility -0.000874 -0.001533 -0.023277 -0.019950    ...     0.027342   \n",
      "jane         0.055471  0.030597  0.031496  0.018551    ...     0.020993   \n",
      "austen       0.025887  0.013113  0.033299 -0.002323    ...     0.032379   \n",
      "family       0.073956  0.020873 -0.151854  0.035778    ...    -0.068219   \n",
      "dashwood    -0.057865 -0.020039 -0.123043 -0.050643    ...     0.051423   \n",
      "long         0.081155  0.027298  0.064231  0.002436    ...    -0.116203   \n",
      "settled      0.035323 -0.008371 -0.042132 -0.019844    ...     0.070969   \n",
      "sussex      -0.015443 -0.001524 -0.006623  0.007727    ...    -0.006622   \n",
      "estate      -0.029185  0.011853  0.031701 -0.021294    ...     0.014988   \n",
      "\n",
      "                   91        92        93        94        95        96  \\\n",
      "sense        0.014450 -0.017762  0.008652  0.047475 -0.034542  0.017161   \n",
      "sensibility -0.022255  0.019626 -0.014902 -0.039118 -0.033455 -0.007043   \n",
      "jane        -0.032856  0.060100  0.014890  0.026273 -0.048003 -0.028383   \n",
      "austen       0.017257  0.014311  0.026452 -0.037473  0.000549  0.036424   \n",
      "family       0.088284  0.041338  0.028144 -0.016191  0.103953 -0.083634   \n",
      "dashwood    -0.106755  0.014286  0.081828  0.007854  0.046641  0.047688   \n",
      "long         0.011706  0.072361  0.051146  0.043252  0.063868  0.060436   \n",
      "settled     -0.023768  0.038520  0.041737  0.054966 -0.007159  0.038435   \n",
      "sussex       0.010793  0.005547 -0.008153 -0.029084  0.015204  0.020022   \n",
      "estate      -0.015958  0.018564 -0.028281 -0.029234  0.048000 -0.016371   \n",
      "\n",
      "                   97        98        99  \n",
      "sense       -0.010340  0.021406  0.042508  \n",
      "sensibility  0.004151  0.004964  0.015171  \n",
      "jane         0.033392  0.023375 -0.034117  \n",
      "austen       0.001888  0.014608  0.020254  \n",
      "family       0.095132 -0.072324 -0.046607  \n",
      "dashwood    -0.071916 -0.001128  0.037706  \n",
      "long         0.096367 -0.052544  0.034873  \n",
      "settled      0.059803  0.061930  0.014194  \n",
      "sussex      -0.014672 -0.003320  0.021770  \n",
      "estate      -0.000959 -0.001991  0.007882  \n",
      "\n",
      "[10 rows x 100 columns]\n"
     ]
    }
   ],
   "source": [
    "print(word_embeddings.shape)\n",
    "print(pd.DataFrame(word_embeddings, index=idx2word.values()).head(10))"
   ]
  },
  {
   "cell_type": "code",
   "execution_count": 13,
   "metadata": {},
   "outputs": [
    {
     "name": "stdout",
     "output_type": "stream",
     "text": [
      "(10092, 10092)\n"
     ]
    }
   ],
   "source": [
    "similarity_matrix = cosine_similarity(word_embeddings)\n",
    "print(similarity_matrix.shape)"
   ]
  },
  {
   "cell_type": "code",
   "execution_count": 14,
   "metadata": {},
   "outputs": [
    {
     "name": "stdout",
     "output_type": "stream",
     "text": [
      "man ['young', 'correct', 'warm', 'undoubtedly', 'livings']\n",
      "miss ['earlier', 'calling', 'bates', 'woodhouse', 'elizabeth']\n",
      "sister ['particular', 'answer', 'least', 'make', 'join']\n",
      "woman ['demure', 'face', 'avowal', 'enough', 'fools']\n",
      "lady ['turf', 'husband', 'wednesday', 'remained', 'waste']\n",
      "kindness ['point', 'contingencies', 'ask', 'abroad', 'overpower']\n",
      "god ['knoll', 'pressingly', 'bashful', 'coupled', 'disclosing']\n",
      "folly ['knit', 'vaunted', 'honesty', 'prejudiced', 'agrees']\n",
      "fool ['badly', 'performer', 'dears', 'stept', 'drugs']\n"
     ]
    }
   ],
   "source": [
    "search_terms = ['man', 'miss', 'sister', 'woman', 'lady', 'kindness', 'god', 'man', 'folly', 'fool']\n",
    "similar_words = {term: [idx2word[idx] \\\n",
    "for idx in (-1 * similarity_matrix[word2idx[term]-1]).argsort()[1:6] + 1] \\\n",
    "for term in search_terms}\n",
    "\n",
    "for word in similar_words.keys():\n",
    "    print(word,similar_words[word])"
   ]
  },
  {
   "cell_type": "code",
   "execution_count": 15,
   "metadata": {},
   "outputs": [
    {
     "data": {
      "image/png": "[encoded data removed]",
      "text/plain": [
       "<Figure size 1008x576 with 1 Axes>"
      ]
     },
     "metadata": {
      "needs_background": "light"
     },
     "output_type": "display_data"
    }
   ],
   "source": [
    "tsne = TSNE(perplexity=3, n_components=2, init='pca', n_iter=5000, method='exact')\n",
    "np.set_printoptions(suppress=True)\n",
    "plot_only = 50\n",
    "T = tsne.fit_transform(word_embeddings[:plot_only, :])\n",
    "labels = [idx2word[i+1] for i in range(plot_only)]\n",
    "plt.figure(figsize=(14, 8))\n",
    "plt.scatter(T[:, 0], T[:, 1])\n",
    "for label, x, y in zip(labels, T[:, 0], T[:, 1]):\n",
    "    plt.annotate(label, xy=(x+1, y+1), xytext=(0, 0), textcoords='offset points', ha='right',va='bottom')"
   ]
  },
  {
   "cell_type": "code",
   "execution_count": null,
   "metadata": {},
   "outputs": [],
   "source": []
  }
 ],
 "metadata": {
  "kernelspec": {
   "display_name": "eenlp",
   "language": "python",
   "name": "myenv"
  },
  "language_info": {
   "codemirror_mode": {
    "name": "ipython",
    "version": 3
   },
   "file_extension": ".py",
   "mimetype": "text/x-python",
   "name": "python",
   "nbconvert_exporter": "python",
   "pygments_lexer": "ipython3",
   "version": "3.6.7"
  }
 },
 "nbformat": 4,
 "nbformat_minor": 2
}
