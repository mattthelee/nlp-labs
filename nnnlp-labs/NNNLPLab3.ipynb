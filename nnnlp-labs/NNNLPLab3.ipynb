{
  "nbformat": 4,
  "nbformat_minor": 0,
  "metadata": {
    "colab": {
      "name": "NNNLPLab3.ipynb",
      "version": "0.3.2",
      "provenance": [],
      "collapsed_sections": [],
      "include_colab_link": true
    },
    "kernelspec": {
      "display_name": "eenlp",
      "language": "python",
      "name": "myenv"
    },
    "accelerator": "GPU"
  },
  "cells": [
    {
      "cell_type": "markdown",
      "metadata": {
        "id": "view-in-github",
        "colab_type": "text"
      },
      "source": [
        "<a href=\"https://colab.research.google.com/github/mattthelee/nlp-labs/blob/master/nnnlp-labs/NNNLPLab3.ipynb\" target=\"_parent\"><img src=\"https://colab.research.google.com/assets/colab-badge.svg\" alt=\"Open In Colab\"/></a>"
      ]
    },
    {
      "metadata": {
        "colab_type": "text",
        "id": "hExKCzh6doIW"
      },
      "cell_type": "markdown",
      "source": [
        "# Lab 3 - Neural Network Classifier Using Simple Word Embeddings\n",
        "\n",
        "\n",
        "\n",
        "---\n",
        "\n",
        "\n",
        "\n",
        "\n",
        "\n",
        "\n",
        "\n",
        "\n",
        "\n",
        "\n",
        "\n",
        "\n",
        "\n"
      ]
    },
    {
      "metadata": {
        "colab_type": "text",
        "id": "HixoFOoCIJ7V"
      },
      "cell_type": "markdown",
      "source": [
        "In this session, we demonstrate how to solve a text classification task using simple \n",
        "feedforward neural network classifier. We will use IMDB Large Movie Review Dataset to train a binary classification model, able to predict whether a review is positive or negative. First, our network takes one-hot word vectors as input, averages them to make one vector and trains a \n",
        "fully-connected layer to predict the output. In the second part, we replace the one-hot vectors with the word embeddings and add a layer to see how much that improves the performance.\n",
        "\n",
        "We are going to use Keras Sequential API in this session. The Sequential API allows you to make models layer-by-layer. But it is not straightforward to define models where layers connect to more than just the previous and next layers. "
      ]
    },
    {
      "metadata": {
        "colab_type": "code",
        "id": "m8fpBfhBpupy",
        "outputId": "9819cc2b-e6fa-4f0d-b271-fa608a935cb2",
        "colab": {
          "base_uri": "https://localhost:8080/",
          "height": 802
        }
      },
      "cell_type": "code",
      "source": [
        "import keras\n",
        "import numpy as np\n",
        "from keras.layers import Lambda, GlobalAveragePooling1D, Dense, Embedding\n",
        "from keras import backend as K\n",
        "from keras.models import Sequential\n",
        "\n",
        "!apt-get install -y -qq software-properties-common python-software-properties module-init-tools\n",
        "!add-apt-repository -y ppa:alessandro-strada/ppa 2>&1 > /dev/null\n",
        "!apt-get update -qq 2>&1 > /dev/null\n",
        "!apt-get -y install -qq google-drive-ocamlfuse fuse\n",
        "from google.colab import auth\n",
        "auth.authenticate_user()\n",
        "from oauth2client.client import GoogleCredentials\n",
        "creds = GoogleCredentials.get_application_default()\n",
        "import getpass\n",
        "!google-drive-ocamlfuse -headless -id={creds.client_id} -secret={creds.client_secret} < /dev/null 2>&1 | grep URL\n",
        "vcode = getpass.getpass()\n",
        "!echo {vcode} | google-drive-ocamlfuse -headless -id={creds.client_id} -secret={creds.client_secret}\n",
        "\n",
        "import os\n",
        "!mkdir drive\n",
        "!google-drive-ocamlfuse drive\n",
        "!ls drive"
      ],
      "execution_count": 1,
      "outputs": [
        {
          "output_type": "stream",
          "text": [
            "Using TensorFlow backend.\n"
          ],
          "name": "stderr"
        },
        {
          "output_type": "stream",
          "text": [
            "E: Package 'python-software-properties' has no installation candidate\n",
            "Selecting previously unselected package google-drive-ocamlfuse.\n",
            "(Reading database ... 110851 files and directories currently installed.)\n",
            "Preparing to unpack .../google-drive-ocamlfuse_0.7.1-0ubuntu3~ubuntu18.04.1_amd64.deb ...\n",
            "Unpacking google-drive-ocamlfuse (0.7.1-0ubuntu3~ubuntu18.04.1) ...\n",
            "Setting up google-drive-ocamlfuse (0.7.1-0ubuntu3~ubuntu18.04.1) ...\n",
            "Processing triggers for man-db (2.8.3-2ubuntu0.1) ...\n",
            "Please, open the following URL in a web browser: https://accounts.google.com/o/oauth2/auth?client_id=32555940559.apps.googleusercontent.com&redirect_uri=urn%3Aietf%3Awg%3Aoauth%3A2.0%3Aoob&scope=https%3A%2F%2Fwww.googleapis.com%2Fauth%2Fdrive&response_type=code&access_type=offline&approval_prompt=force\n",
            "··········\n",
            "Please, open the following URL in a web browser: https://accounts.google.com/o/oauth2/auth?client_id=32555940559.apps.googleusercontent.com&redirect_uri=urn%3Aietf%3Awg%3Aoauth%3A2.0%3Aoob&scope=https%3A%2F%2Fwww.googleapis.com%2Fauth%2Fdrive&response_type=code&access_type=offline&approval_prompt=force\n",
            "Please enter the verification code: Access token retrieved correctly.\n",
            " awspersonalkey.gpg\n",
            " awspersonalkey.txt\n",
            "'Colab Notebooks'\n",
            "'Data Science Books.zip'\n",
            " document.tex\n",
            " glove.6B.300d.txt\n",
            " id_rsa.pub\n",
            "'India_China Backpacking.desktop'\n",
            "'Italy, Greece ,Turkey.desktop'\n",
            " leempubgpgkey.txt\n",
            "'Mags meeting 13_10_15.odt'\n",
            "'Marlo papers'\n",
            " mobilekey.pgp\n",
            " newlaptopkey2.pem.gpg\n",
            " personalStatementImperial13thjanV4.odt\n",
            " personalStatementImperial13thjanV4.odt.odt\n",
            "\"personalStatementImperial laura's comments.odt\"\n",
            "\"personalStatementImperial laura's comments.odt.odt\"\n",
            " personalStatementImperial.odt.odt\n",
            "'personalStatementImperial.odt.odt (b26b911f)'\n",
            "'Quantum Black - DevOps Engineer.docx'\n",
            "'Rome, Greece cycling.desktop'\n",
            "'SRCNN Presentation - Group O.pdf'\n",
            "'SRCNN Presentation - Group O.pdf (ffb6f50e)'\n",
            "'SRCNN Presentation - Group O.pptx'\n",
            "'Untitled document.odt'\n",
            "'Untitled document.odt (07de5fa4)'\n",
            "'Untitled document.odt (9ecf24a6)'\n",
            "'Untitled document.odt (e3127427)'\n",
            "'Untitled spreadsheet.ods'\n",
            "'Updatedby MumpersonalStatementImperial (002).odt.odt'\n",
            " xcel-chart.csv\n",
            " xcel-chart.csv.ods\n"
          ],
          "name": "stdout"
        }
      ]
    },
    {
      "metadata": {
        "id": "4Gp9J7CE-dQe",
        "colab_type": "code",
        "colab": {}
      },
      "cell_type": "code",
      "source": [
        ""
      ],
      "execution_count": 0,
      "outputs": []
    },
    {
      "metadata": {
        "colab_type": "text",
        "id": "cqvPQvgvPv1W"
      },
      "cell_type": "markdown",
      "source": [
        "### Downloading data"
      ]
    },
    {
      "metadata": {
        "colab_type": "text",
        "id": "EundMtGPpCdf"
      },
      "cell_type": "markdown",
      "source": [
        "The dataset we will be using is the IMDB Large Movie Review Dataset, which consists of 50000 labeled movie reviews. These are split into 25,000 reviews for training and 25,000 reviews for testing. The  dataset contains an even number of positive and negative reviews, so randomly guessing yields 50% accuracy. The data is preprocessed. For text classification, it is ususal to limit the size of the vocabulary to stop the dataset from becoming too sparse, creating possible overfitting. We keep the top 10,000 most frequently occurring words in the training data.\n"
      ]
    },
    {
      "metadata": {
        "colab_type": "code",
        "id": "NyuSzkafqNca",
        "colab": {
          "base_uri": "https://localhost:8080/",
          "height": 68
        },
        "outputId": "6a61101f-8a8f-4386-b283-e7f75f12646f"
      },
      "cell_type": "code",
      "source": [
        "imdb = keras.datasets.imdb\n",
        "(X_train, y_train), (X_test, y_test) = imdb.load_data(num_words=10000)"
      ],
      "execution_count": 2,
      "outputs": [
        {
          "output_type": "stream",
          "text": [
            "Downloading data from https://s3.amazonaws.com/text-datasets/imdb.npz\n",
            "17465344/17464789 [==============================] - 1s 0us/step\n",
            "17473536/17464789 [==============================] - 1s 0us/step\n"
          ],
          "name": "stdout"
        }
      ]
    },
    {
      "metadata": {
        "colab_type": "text",
        "id": "6U4iCV9-rmay"
      },
      "cell_type": "markdown",
      "source": [
        "We now can start playing around with the data, let’s first see the length:"
      ]
    },
    {
      "metadata": {
        "colab_type": "code",
        "id": "h-gjWRAuqg5s",
        "colab": {
          "base_uri": "https://localhost:8080/",
          "height": 34
        },
        "outputId": "fcd7f612-5f03-4d84-8036-ed4d6b10c3c6"
      },
      "cell_type": "code",
      "source": [
        "print(\"Training entries: {}, labels: {}\".format(len(X_train), len(y_train)))"
      ],
      "execution_count": 3,
      "outputs": [
        {
          "output_type": "stream",
          "text": [
            "Training entries: 25000, labels: 25000\n"
          ],
          "name": "stdout"
        }
      ]
    },
    {
      "metadata": {
        "colab_type": "text",
        "id": "MTRZrpcyr-4x"
      },
      "cell_type": "markdown",
      "source": [
        "The  reviews have been converted to integers and each integer represents a  word in a dictionary. "
      ]
    },
    {
      "metadata": {
        "colab_type": "code",
        "id": "79Ev72Kgq4XL",
        "colab": {
          "base_uri": "https://localhost:8080/",
          "height": 3723
        },
        "outputId": "222b51d6-a4f7-4579-bee0-c3a6e374f07a"
      },
      "cell_type": "code",
      "source": [
        " X_train[0]"
      ],
      "execution_count": 4,
      "outputs": [
        {
          "output_type": "execute_result",
          "data": {
            "text/plain": [
              "[1,\n",
              " 14,\n",
              " 22,\n",
              " 16,\n",
              " 43,\n",
              " 530,\n",
              " 973,\n",
              " 1622,\n",
              " 1385,\n",
              " 65,\n",
              " 458,\n",
              " 4468,\n",
              " 66,\n",
              " 3941,\n",
              " 4,\n",
              " 173,\n",
              " 36,\n",
              " 256,\n",
              " 5,\n",
              " 25,\n",
              " 100,\n",
              " 43,\n",
              " 838,\n",
              " 112,\n",
              " 50,\n",
              " 670,\n",
              " 2,\n",
              " 9,\n",
              " 35,\n",
              " 480,\n",
              " 284,\n",
              " 5,\n",
              " 150,\n",
              " 4,\n",
              " 172,\n",
              " 112,\n",
              " 167,\n",
              " 2,\n",
              " 336,\n",
              " 385,\n",
              " 39,\n",
              " 4,\n",
              " 172,\n",
              " 4536,\n",
              " 1111,\n",
              " 17,\n",
              " 546,\n",
              " 38,\n",
              " 13,\n",
              " 447,\n",
              " 4,\n",
              " 192,\n",
              " 50,\n",
              " 16,\n",
              " 6,\n",
              " 147,\n",
              " 2025,\n",
              " 19,\n",
              " 14,\n",
              " 22,\n",
              " 4,\n",
              " 1920,\n",
              " 4613,\n",
              " 469,\n",
              " 4,\n",
              " 22,\n",
              " 71,\n",
              " 87,\n",
              " 12,\n",
              " 16,\n",
              " 43,\n",
              " 530,\n",
              " 38,\n",
              " 76,\n",
              " 15,\n",
              " 13,\n",
              " 1247,\n",
              " 4,\n",
              " 22,\n",
              " 17,\n",
              " 515,\n",
              " 17,\n",
              " 12,\n",
              " 16,\n",
              " 626,\n",
              " 18,\n",
              " 2,\n",
              " 5,\n",
              " 62,\n",
              " 386,\n",
              " 12,\n",
              " 8,\n",
              " 316,\n",
              " 8,\n",
              " 106,\n",
              " 5,\n",
              " 4,\n",
              " 2223,\n",
              " 5244,\n",
              " 16,\n",
              " 480,\n",
              " 66,\n",
              " 3785,\n",
              " 33,\n",
              " 4,\n",
              " 130,\n",
              " 12,\n",
              " 16,\n",
              " 38,\n",
              " 619,\n",
              " 5,\n",
              " 25,\n",
              " 124,\n",
              " 51,\n",
              " 36,\n",
              " 135,\n",
              " 48,\n",
              " 25,\n",
              " 1415,\n",
              " 33,\n",
              " 6,\n",
              " 22,\n",
              " 12,\n",
              " 215,\n",
              " 28,\n",
              " 77,\n",
              " 52,\n",
              " 5,\n",
              " 14,\n",
              " 407,\n",
              " 16,\n",
              " 82,\n",
              " 2,\n",
              " 8,\n",
              " 4,\n",
              " 107,\n",
              " 117,\n",
              " 5952,\n",
              " 15,\n",
              " 256,\n",
              " 4,\n",
              " 2,\n",
              " 7,\n",
              " 3766,\n",
              " 5,\n",
              " 723,\n",
              " 36,\n",
              " 71,\n",
              " 43,\n",
              " 530,\n",
              " 476,\n",
              " 26,\n",
              " 400,\n",
              " 317,\n",
              " 46,\n",
              " 7,\n",
              " 4,\n",
              " 2,\n",
              " 1029,\n",
              " 13,\n",
              " 104,\n",
              " 88,\n",
              " 4,\n",
              " 381,\n",
              " 15,\n",
              " 297,\n",
              " 98,\n",
              " 32,\n",
              " 2071,\n",
              " 56,\n",
              " 26,\n",
              " 141,\n",
              " 6,\n",
              " 194,\n",
              " 7486,\n",
              " 18,\n",
              " 4,\n",
              " 226,\n",
              " 22,\n",
              " 21,\n",
              " 134,\n",
              " 476,\n",
              " 26,\n",
              " 480,\n",
              " 5,\n",
              " 144,\n",
              " 30,\n",
              " 5535,\n",
              " 18,\n",
              " 51,\n",
              " 36,\n",
              " 28,\n",
              " 224,\n",
              " 92,\n",
              " 25,\n",
              " 104,\n",
              " 4,\n",
              " 226,\n",
              " 65,\n",
              " 16,\n",
              " 38,\n",
              " 1334,\n",
              " 88,\n",
              " 12,\n",
              " 16,\n",
              " 283,\n",
              " 5,\n",
              " 16,\n",
              " 4472,\n",
              " 113,\n",
              " 103,\n",
              " 32,\n",
              " 15,\n",
              " 16,\n",
              " 5345,\n",
              " 19,\n",
              " 178,\n",
              " 32]"
            ]
          },
          "metadata": {
            "tags": []
          },
          "execution_count": 4
        }
      ]
    },
    {
      "metadata": {
        "colab_type": "text",
        "id": "Tvuu4KhStqei"
      },
      "cell_type": "markdown",
      "source": [
        "We can convert integers back to words by querying a dictionary object that contains the integer to string mapping:"
      ]
    },
    {
      "metadata": {
        "colab_type": "code",
        "id": "gMCH1OoDrSNR",
        "colab": {
          "base_uri": "https://localhost:8080/",
          "height": 68
        },
        "outputId": "90705293-264e-4747-948e-046647188c48"
      },
      "cell_type": "code",
      "source": [
        "\n",
        "word_index = imdb.get_word_index()"
      ],
      "execution_count": 5,
      "outputs": [
        {
          "output_type": "stream",
          "text": [
            "Downloading data from https://s3.amazonaws.com/text-datasets/imdb_word_index.json\n",
            "1646592/1641221 [==============================] - 1s 0us/step\n",
            "1654784/1641221 [==============================] - 1s 0us/step\n"
          ],
          "name": "stdout"
        }
      ]
    },
    {
      "metadata": {
        "colab_type": "text",
        "id": "5IreFXgruZot"
      },
      "cell_type": "markdown",
      "source": [
        "Index 1 represents the beginning of the sentence and the index 2 is assigned to all unknown tokens. Index 0 will be used for padding."
      ]
    },
    {
      "metadata": {
        "colab_type": "code",
        "id": "abIb7Fe5u3GQ",
        "colab": {}
      },
      "cell_type": "code",
      "source": [
        "\n",
        "word_index = {k:(v+3) for k,v in word_index.items()}\n",
        "word_index[\"<PAD>\"] = 0\n",
        "word_index[\"<START>\"] = 1\n",
        "word_index[\"<UNK>\"] = 2  \n",
        "word_index[\"<UNUSED>\"] = 3"
      ],
      "execution_count": 0,
      "outputs": []
    },
    {
      "metadata": {
        "colab_type": "text",
        "id": "9TnnSuspvC5b"
      },
      "cell_type": "markdown",
      "source": [
        "To reverse key and values in a dictionary:"
      ]
    },
    {
      "metadata": {
        "colab_type": "code",
        "id": "nKOiVVXQu-_I",
        "colab": {}
      },
      "cell_type": "code",
      "source": [
        "reverse_word_index = dict([(value, key) for (key, value) in word_index.items()])"
      ],
      "execution_count": 0,
      "outputs": []
    },
    {
      "metadata": {
        "colab_type": "text",
        "id": "ZmTJEm8xvUvW"
      },
      "cell_type": "markdown",
      "source": [
        "To view a word:"
      ]
    },
    {
      "metadata": {
        "colab_type": "code",
        "id": "SqN5jgVKvJJZ",
        "colab": {
          "base_uri": "https://localhost:8080/",
          "height": 34
        },
        "outputId": "c63caa27-0d24-4160-b954-ace383775b1f"
      },
      "cell_type": "code",
      "source": [
        "reverse_word_index[25]"
      ],
      "execution_count": 8,
      "outputs": [
        {
          "output_type": "execute_result",
          "data": {
            "text/plain": [
              "u'you'"
            ]
          },
          "metadata": {
            "tags": []
          },
          "execution_count": 8
        }
      ]
    },
    {
      "metadata": {
        "colab_type": "text",
        "id": "Q6QjrzgVvrYn"
      },
      "cell_type": "markdown",
      "source": [
        "And to recreate the whole sentence from our training data we define decode_review:\n"
      ]
    },
    {
      "metadata": {
        "colab_type": "code",
        "id": "wvrKeMgxvWlv",
        "colab": {}
      },
      "cell_type": "code",
      "source": [
        "def decode_review(text):\n",
        "    return ' '.join([reverse_word_index.get(i, '?') for i in text])"
      ],
      "execution_count": 0,
      "outputs": []
    },
    {
      "metadata": {
        "colab_type": "code",
        "id": "Sxg4YA_NvdRg",
        "colab": {
          "base_uri": "https://localhost:8080/",
          "height": 54
        },
        "outputId": "06eee753-d74e-40a4-c1b9-170ef1be7b85"
      },
      "cell_type": "code",
      "source": [
        "decode_review(X_train[10])"
      ],
      "execution_count": 10,
      "outputs": [
        {
          "output_type": "execute_result",
          "data": {
            "text/plain": [
              "u\"<START> french horror cinema has seen something of a revival over the last couple of years with great films such as inside and <UNK> romance <UNK> on to the scene <UNK> <UNK> the revival just slightly but stands head and shoulders over most modern horror titles and is surely one of the best french horror films ever made <UNK> was obviously shot on a low budget but this is made up for in far more ways than one by the originality of the film and this in turn is <UNK> by the excellent writing and acting that ensure the film is a winner the plot focuses on two main ideas prison and black magic the central character is a man named <UNK> sent to prison for fraud he is put in a cell with three others the quietly insane <UNK> body building <UNK> marcus and his retarded boyfriend daisy after a short while in the cell together they stumble upon a hiding place in the wall that contains an old <UNK> after <UNK> part of it they soon realise its magical powers and realise they may be able to use it to break through the prison walls br br black magic is a very interesting topic and i'm actually quite surprised that there aren't more films based on it as there's so much scope for things to do with it it's fair to say that <UNK> makes the best of it's <UNK> as despite it's <UNK> the film never actually feels restrained and manages to flow well throughout director eric <UNK> provides a great atmosphere for the film the fact that most of it takes place inside the central prison cell <UNK> that the film feels very claustrophobic and this immensely benefits the central idea of the prisoners wanting to use magic to break out of the cell it's very easy to get behind them it's often said that the unknown is the thing that really <UNK> people and this film proves that as the director <UNK> that we can never really be sure of exactly what is round the corner and this helps to ensure that <UNK> actually does manage to be quite frightening the film is memorable for a lot of reasons outside the central plot the characters are all very interesting in their own way and the fact that the book itself almost takes on its own character is very well done anyone worried that the film won't deliver by the end won't be disappointed either as the ending both makes sense and manages to be quite horrifying overall <UNK> is a truly great horror film and one of the best of the decade highly recommended viewing\""
            ]
          },
          "metadata": {
            "tags": []
          },
          "execution_count": 10
        }
      ]
    },
    {
      "metadata": {
        "colab_type": "text",
        "id": "c8gIzXncfaJK"
      },
      "cell_type": "markdown",
      "source": [
        "### Creating One-hot word vectors"
      ]
    },
    {
      "metadata": {
        "colab_type": "text",
        "id": "B9W4yb3rv_E0"
      },
      "cell_type": "markdown",
      "source": [
        "It is  common to use one-hot representation as input in Natural Language Processing tasks. In Keras, the Embedding layer takes an index as an input and convert it to one-hot vector with the length of the vocabulary size. Then multiplies these vectors by a normal weight matrix. But there is no way to only get a one-hot vector as the output of a layer in Keras. To solve this we use Lambda() layer and a function that creates the one-hot layer. "
      ]
    },
    {
      "metadata": {
        "colab_type": "code",
        "id": "RPO_pK9zH4C5",
        "colab": {}
      },
      "cell_type": "code",
      "source": [
        "def OneHot(input_dim=None, input_length=None):\n",
        "    \n",
        "    if input_dim is None or input_length is None:\n",
        "        raise TypeError(\"input_dim or input_length is not set\")\n",
        "\n",
        "    \n",
        "    def _one_hot(x, num_classes):\n",
        "        return K.one_hot(K.cast(x, 'uint8'),\n",
        "                          num_classes=num_classes)\n",
        "\n",
        "    return Lambda(_one_hot,\n",
        "                  arguments={'num_classes': input_dim},\n",
        "                  input_shape=(input_length,))"
      ],
      "execution_count": 0,
      "outputs": []
    },
    {
      "metadata": {
        "colab_type": "text",
        "id": "364d3MAw0ez9"
      },
      "cell_type": "markdown",
      "source": [
        "input_dim refers to the length of the one-hot vector and input_length refers to the length of the input sequence. Since the input to K.one_hot should be an integer tensor, we cast x to one (Keras passes around float tensors by default).\n",
        "\n"
      ]
    },
    {
      "metadata": {
        "colab_type": "text",
        "id": "VHz76GNA2M4r"
      },
      "cell_type": "markdown",
      "source": [
        " Each text sequence has in most cases different length of words. Here, we fill sequences with a pad token (0) to fit the size. This special tokens is then masked not to be accounted in averaging, loss calculation etc. We set the maximum length to 256."
      ]
    },
    {
      "metadata": {
        "colab_type": "text",
        "id": "9G_o7PsvgSFt"
      },
      "cell_type": "markdown",
      "source": [
        "### Preparing input data"
      ]
    },
    {
      "metadata": {
        "colab_type": "code",
        "id": "jiFn7sd_wF5j",
        "colab": {}
      },
      "cell_type": "code",
      "source": [
        "VOCAB_SIZE = 10000\n",
        "MAX_SEQUENCE_LENGTH = 256\n",
        "\n",
        "X_train_enc = keras.preprocessing.sequence.pad_sequences(X_train,\n",
        "                                                        value=word_index[\"<PAD>\"],\n",
        "                                                        padding='post',\n",
        "                                                        maxlen=MAX_SEQUENCE_LENGTH)\n",
        "\n",
        "X_test_enc = keras.preprocessing.sequence.pad_sequences(X_test,\n",
        "                                                       value=word_index[\"<PAD>\"],\n",
        "                                                       padding='post',\n",
        "                                                       maxlen=MAX_SEQUENCE_LENGTH)"
      ],
      "execution_count": 0,
      "outputs": []
    },
    {
      "metadata": {
        "colab_type": "text",
        "id": "kcjFH1wKF_7d"
      },
      "cell_type": "markdown",
      "source": [
        "And to view a padded review:"
      ]
    },
    {
      "metadata": {
        "colab_type": "code",
        "id": "zwH4dcfW_a18",
        "colab": {
          "base_uri": "https://localhost:8080/",
          "height": 357
        },
        "outputId": "79b72285-a159-42a9-a6a8-0070fbf0917c"
      },
      "cell_type": "code",
      "source": [
        "print(X_train_enc[1])\n",
        "print(len(X_train_enc[1]))"
      ],
      "execution_count": 13,
      "outputs": [
        {
          "output_type": "stream",
          "text": [
            "[   1  194 1153  194 8255   78  228    5    6 1463 4369 5012  134   26\n",
            "    4  715    8  118 1634   14  394   20   13  119  954  189  102    5\n",
            "  207  110 3103   21   14   69  188    8   30   23    7    4  249  126\n",
            "   93    4  114    9 2300 1523    5  647    4  116    9   35 8163    4\n",
            "  229    9  340 1322    4  118    9    4  130 4901   19    4 1002    5\n",
            "   89   29  952   46   37    4  455    9   45   43   38 1543 1905  398\n",
            "    4 1649   26 6853    5  163   11 3215    2    4 1153    9  194  775\n",
            "    7 8255    2  349 2637  148  605    2 8003   15  123  125   68    2\n",
            " 6853   15  349  165 4362   98    5    4  228    9   43    2 1157   15\n",
            "  299  120    5  120  174   11  220  175  136   50    9 4373  228 8255\n",
            "    5    2  656  245 2350    5    4 9837  131  152  491   18    2   32\n",
            " 7464 1212   14    9    6  371   78   22  625   64 1382    9    8  168\n",
            "  145   23    4 1690   15   16    4 1355    5   28    6   52  154  462\n",
            "   33   89   78  285   16  145   95    0    0    0    0    0    0    0\n",
            "    0    0    0    0    0    0    0    0    0    0    0    0    0    0\n",
            "    0    0    0    0    0    0    0    0    0    0    0    0    0    0\n",
            "    0    0    0    0    0    0    0    0    0    0    0    0    0    0\n",
            "    0    0    0    0    0    0    0    0    0    0    0    0    0    0\n",
            "    0    0    0    0]\n",
            "256\n"
          ],
          "name": "stdout"
        }
      ]
    },
    {
      "metadata": {
        "colab_type": "text",
        "id": "F1zcxFwNGepA"
      },
      "cell_type": "markdown",
      "source": [
        "Now we want to build the neural network model. We  are going to have a hidden layer with 16 hidden units. \n",
        "\n",
        "First, we want to transform each index to an embedded vector and then average all vectors to a single one. It has been showed that unweighted average of word vectors outperforms many complicated networks that model semantic and syntactic compositionality. As an example you can take a look at this: (http://anthology.aclweb.org/P/P15/P15-1162.pdf)\n",
        "\n",
        "To average we need to ignore padded zeros:"
      ]
    },
    {
      "metadata": {
        "colab_type": "code",
        "id": "Yi04MLIvJOGZ",
        "colab": {}
      },
      "cell_type": "code",
      "source": [
        "class GlobalAveragePooling1DMasked(GlobalAveragePooling1D):\n",
        "    def call(self, x, mask=None):\n",
        "        if mask != None:\n",
        "            return K.sum(x, axis=1) / K.sum(mask, axis=1)\n",
        "        else:\n",
        "            return super().call(x)\n"
      ],
      "execution_count": 0,
      "outputs": []
    },
    {
      "metadata": {
        "colab_type": "text",
        "id": "whgIIB5ggjna"
      },
      "cell_type": "markdown",
      "source": [
        "### Neural Network model using one-hot vectors"
      ]
    },
    {
      "metadata": {
        "colab_type": "text",
        "id": "jlOLnlnSJgrU"
      },
      "cell_type": "markdown",
      "source": [
        "The first layer is an one-hot layer. The second layer is to compute average on all word vectors in a sentence without considering padding. The  output vector is piped through a fully-connected layer. The last layer is connected with a single output node with the sigmoid activation function. The final value is a float between 0 and 1. \n",
        "The vocabulary count of the movie reviews (10000) is used as the input shape. At the end we visualize the model summary."
      ]
    },
    {
      "metadata": {
        "colab_type": "code",
        "id": "_Pn83gBbxiK7",
        "colab": {
          "base_uri": "https://localhost:8080/",
          "height": 272
        },
        "outputId": "55410c14-1158-40bc-860d-d6f75889326d"
      },
      "cell_type": "code",
      "source": [
        "# put your code here\n",
        "model = Sequential()\n",
        "model.add(OneHot(VOCAB_SIZE,MAX_SEQUENCE_LENGTH))\n",
        "#model.add(GlobalAveragePooling1DMasked())\n",
        "model.add(GlobalAveragePooling1D())\n",
        "model.add(Dense(16, activation='relu'))\n",
        "model.add(Dense(1, activation='sigmoid'))\n",
        "model.summary()"
      ],
      "execution_count": 15,
      "outputs": [
        {
          "output_type": "stream",
          "text": [
            "_________________________________________________________________\n",
            "Layer (type)                 Output Shape              Param #   \n",
            "=================================================================\n",
            "lambda_1 (Lambda)            (None, 256, 10000)        0         \n",
            "_________________________________________________________________\n",
            "global_average_pooling1d_1 ( (None, 10000)             0         \n",
            "_________________________________________________________________\n",
            "dense_1 (Dense)              (None, 16)                160016    \n",
            "_________________________________________________________________\n",
            "dense_2 (Dense)              (None, 1)                 17        \n",
            "=================================================================\n",
            "Total params: 160,033\n",
            "Trainable params: 160,033\n",
            "Non-trainable params: 0\n",
            "_________________________________________________________________\n"
          ],
          "name": "stdout"
        }
      ]
    },
    {
      "metadata": {
        "colab_type": "text",
        "id": "_Mz96xpCgvTj"
      },
      "cell_type": "markdown",
      "source": [
        "### Training the model"
      ]
    },
    {
      "metadata": {
        "colab_type": "text",
        "id": "F3HbW_IKLqwT"
      },
      "cell_type": "markdown",
      "source": [
        "To compile the model we need a loss function and an optimizer. We use binary_crossentropy loss function which is just a special case of categorical cross entropy. We also use Adam optimizer that can be used instead of the classical stochastic gradient descent procedure to update network weights iterative based in training data. You can read more about it here:\n",
        "(https://arxiv.org/abs/1412.6980v8\n",
        ")\n"
      ]
    },
    {
      "metadata": {
        "colab_type": "code",
        "id": "qh1PWTNMxjUw",
        "colab": {}
      },
      "cell_type": "code",
      "source": [
        "model.compile(optimizer='adam',\n",
        "              loss='binary_crossentropy',\n",
        "              metrics=['accuracy'])"
      ],
      "execution_count": 0,
      "outputs": []
    },
    {
      "metadata": {
        "colab_type": "text",
        "id": "E1jwQQqCN5Ia"
      },
      "cell_type": "markdown",
      "source": [
        "When training, we want to check the accuracy of the model on data it hasn't seen before. So we create a validation set:"
      ]
    },
    {
      "metadata": {
        "colab_type": "code",
        "id": "f5lAqzQlxjSM",
        "colab": {}
      },
      "cell_type": "code",
      "source": [
        "X_val = np.array(X_train_enc[:10000])\n",
        "partial_X_train = np.array(X_train_enc[10000:])\n",
        "\n",
        "y_val = np.array(y_train[:10000])\n",
        "partial_y_train = np.array(y_train[10000:])"
      ],
      "execution_count": 0,
      "outputs": []
    },
    {
      "metadata": {
        "colab_type": "text",
        "id": "E8Kpo5G3OJEY"
      },
      "cell_type": "markdown",
      "source": [
        "Then we start to train the model for 40 epochs in mini-batches of 512 samples and monitor the model's loss and accuracy on the validation set."
      ]
    },
    {
      "metadata": {
        "colab_type": "code",
        "id": "99_z39KAxjPi",
        "colab": {
          "base_uri": "https://localhost:8080/",
          "height": 1394
        },
        "outputId": "953fd655-6761-4bbd-a66a-0c10f6d51f1e"
      },
      "cell_type": "code",
      "source": [
        "history = model.fit(partial_X_train,\n",
        "                    partial_y_train,\n",
        "                    epochs=40,\n",
        "                    batch_size=512,\n",
        "                    validation_data=(X_val, y_val),\n",
        "                    verbose=1)"
      ],
      "execution_count": 18,
      "outputs": [
        {
          "output_type": "stream",
          "text": [
            "Train on 15000 samples, validate on 10000 samples\n",
            "Epoch 1/40\n",
            "15000/15000 [==============================] - 10s 666us/step - loss: 0.6924 - acc: 0.5159 - val_loss: 0.6916 - val_acc: 0.4998\n",
            "Epoch 2/40\n",
            "15000/15000 [==============================] - 8s 526us/step - loss: 0.6902 - acc: 0.5866 - val_loss: 0.6892 - val_acc: 0.6296\n",
            "Epoch 3/40\n",
            "15000/15000 [==============================] - 8s 526us/step - loss: 0.6876 - acc: 0.6603 - val_loss: 0.6865 - val_acc: 0.6651\n",
            "Epoch 4/40\n",
            "15000/15000 [==============================] - 8s 526us/step - loss: 0.6845 - acc: 0.6683 - val_loss: 0.6836 - val_acc: 0.6509\n",
            "Epoch 5/40\n",
            "15000/15000 [==============================] - 8s 526us/step - loss: 0.6810 - acc: 0.6741 - val_loss: 0.6801 - val_acc: 0.6601\n",
            "Epoch 6/40\n",
            "15000/15000 [==============================] - 8s 526us/step - loss: 0.6773 - acc: 0.6583 - val_loss: 0.6760 - val_acc: 0.6721\n",
            "Epoch 7/40\n",
            "15000/15000 [==============================] - 8s 526us/step - loss: 0.6729 - acc: 0.6669 - val_loss: 0.6719 - val_acc: 0.6734\n",
            "Epoch 8/40\n",
            "15000/15000 [==============================] - 8s 527us/step - loss: 0.6684 - acc: 0.6807 - val_loss: 0.6675 - val_acc: 0.6765\n",
            "Epoch 9/40\n",
            "15000/15000 [==============================] - 8s 526us/step - loss: 0.6634 - acc: 0.6847 - val_loss: 0.6633 - val_acc: 0.6776\n",
            "Epoch 10/40\n",
            "15000/15000 [==============================] - 8s 526us/step - loss: 0.6584 - acc: 0.6881 - val_loss: 0.6582 - val_acc: 0.6836\n",
            "Epoch 11/40\n",
            "15000/15000 [==============================] - 8s 525us/step - loss: 0.6531 - acc: 0.6904 - val_loss: 0.6532 - val_acc: 0.6855\n",
            "Epoch 12/40\n",
            "15000/15000 [==============================] - 8s 526us/step - loss: 0.6479 - acc: 0.6923 - val_loss: 0.6481 - val_acc: 0.6833\n",
            "Epoch 13/40\n",
            "15000/15000 [==============================] - 8s 525us/step - loss: 0.6426 - acc: 0.6946 - val_loss: 0.6430 - val_acc: 0.6863\n",
            "Epoch 14/40\n",
            "15000/15000 [==============================] - 8s 526us/step - loss: 0.6373 - acc: 0.6972 - val_loss: 0.6381 - val_acc: 0.6980\n",
            "Epoch 15/40\n",
            "15000/15000 [==============================] - 8s 525us/step - loss: 0.6318 - acc: 0.7010 - val_loss: 0.6330 - val_acc: 0.6990\n",
            "Epoch 16/40\n",
            "15000/15000 [==============================] - 8s 526us/step - loss: 0.6265 - acc: 0.7049 - val_loss: 0.6280 - val_acc: 0.7019\n",
            "Epoch 17/40\n",
            "15000/15000 [==============================] - 8s 525us/step - loss: 0.6213 - acc: 0.7058 - val_loss: 0.6236 - val_acc: 0.7022\n",
            "Epoch 18/40\n",
            "15000/15000 [==============================] - 8s 525us/step - loss: 0.6161 - acc: 0.7087 - val_loss: 0.6183 - val_acc: 0.7030\n",
            "Epoch 19/40\n",
            "15000/15000 [==============================] - 8s 525us/step - loss: 0.6112 - acc: 0.7099 - val_loss: 0.6137 - val_acc: 0.7032\n",
            "Epoch 20/40\n",
            "15000/15000 [==============================] - 8s 526us/step - loss: 0.6064 - acc: 0.7125 - val_loss: 0.6090 - val_acc: 0.7075\n",
            "Epoch 21/40\n",
            "15000/15000 [==============================] - 8s 526us/step - loss: 0.6014 - acc: 0.7171 - val_loss: 0.6046 - val_acc: 0.7117\n",
            "Epoch 22/40\n",
            "15000/15000 [==============================] - 8s 525us/step - loss: 0.5968 - acc: 0.7184 - val_loss: 0.6004 - val_acc: 0.7084\n",
            "Epoch 23/40\n",
            "15000/15000 [==============================] - 8s 525us/step - loss: 0.5925 - acc: 0.7183 - val_loss: 0.5961 - val_acc: 0.7138\n",
            "Epoch 24/40\n",
            "15000/15000 [==============================] - 8s 526us/step - loss: 0.5879 - acc: 0.7251 - val_loss: 0.5920 - val_acc: 0.7146\n",
            "Epoch 25/40\n",
            "15000/15000 [==============================] - 8s 525us/step - loss: 0.5838 - acc: 0.7230 - val_loss: 0.5880 - val_acc: 0.7204\n",
            "Epoch 26/40\n",
            "15000/15000 [==============================] - 8s 526us/step - loss: 0.5797 - acc: 0.7252 - val_loss: 0.5845 - val_acc: 0.7165\n",
            "Epoch 27/40\n",
            "15000/15000 [==============================] - 8s 526us/step - loss: 0.5759 - acc: 0.7267 - val_loss: 0.5810 - val_acc: 0.7235\n",
            "Epoch 28/40\n",
            "15000/15000 [==============================] - 8s 525us/step - loss: 0.5721 - acc: 0.7307 - val_loss: 0.5773 - val_acc: 0.7252\n",
            "Epoch 29/40\n",
            "15000/15000 [==============================] - 8s 525us/step - loss: 0.5686 - acc: 0.7321 - val_loss: 0.5738 - val_acc: 0.7257\n",
            "Epoch 30/40\n",
            "15000/15000 [==============================] - 8s 525us/step - loss: 0.5651 - acc: 0.7337 - val_loss: 0.5709 - val_acc: 0.7235\n",
            "Epoch 31/40\n",
            "15000/15000 [==============================] - 8s 526us/step - loss: 0.5622 - acc: 0.7315 - val_loss: 0.5675 - val_acc: 0.7294\n",
            "Epoch 32/40\n",
            "15000/15000 [==============================] - 8s 525us/step - loss: 0.5588 - acc: 0.7365 - val_loss: 0.5650 - val_acc: 0.7318\n",
            "Epoch 33/40\n",
            "15000/15000 [==============================] - 8s 526us/step - loss: 0.5559 - acc: 0.7373 - val_loss: 0.5618 - val_acc: 0.7326\n",
            "Epoch 34/40\n",
            "15000/15000 [==============================] - 8s 525us/step - loss: 0.5530 - acc: 0.7396 - val_loss: 0.5593 - val_acc: 0.7316\n",
            "Epoch 35/40\n",
            "15000/15000 [==============================] - 8s 526us/step - loss: 0.5506 - acc: 0.7403 - val_loss: 0.5567 - val_acc: 0.7355\n",
            "Epoch 36/40\n",
            "15000/15000 [==============================] - 8s 525us/step - loss: 0.5483 - acc: 0.7406 - val_loss: 0.5544 - val_acc: 0.7366\n",
            "Epoch 37/40\n",
            "15000/15000 [==============================] - 8s 525us/step - loss: 0.5459 - acc: 0.7417 - val_loss: 0.5526 - val_acc: 0.7365\n",
            "Epoch 38/40\n",
            "15000/15000 [==============================] - 8s 525us/step - loss: 0.5432 - acc: 0.7437 - val_loss: 0.5502 - val_acc: 0.7376\n",
            "Epoch 39/40\n",
            "15000/15000 [==============================] - 8s 525us/step - loss: 0.5411 - acc: 0.7439 - val_loss: 0.5484 - val_acc: 0.7389\n",
            "Epoch 40/40\n",
            "15000/15000 [==============================] - 8s 526us/step - loss: 0.5390 - acc: 0.7451 - val_loss: 0.5461 - val_acc: 0.7413\n"
          ],
          "name": "stdout"
        }
      ]
    },
    {
      "metadata": {
        "colab_type": "text",
        "id": "i_9a_rybhG5J"
      },
      "cell_type": "markdown",
      "source": [
        "### Evaluating the model"
      ]
    },
    {
      "metadata": {
        "colab_type": "text",
        "id": "EYLH8kOgOo9W"
      },
      "cell_type": "markdown",
      "source": [
        "To evaulate the model on test data:"
      ]
    },
    {
      "metadata": {
        "colab_type": "code",
        "id": "CFMt2Q7b3taP",
        "colab": {
          "base_uri": "https://localhost:8080/",
          "height": 34
        },
        "outputId": "c27fc9c9-16f9-42c2-8df0-56606b05f7ca"
      },
      "cell_type": "code",
      "source": [
        "results = model.evaluate(X_test_enc, y_test)"
      ],
      "execution_count": 19,
      "outputs": [
        {
          "output_type": "stream",
          "text": [
            "25000/25000 [==============================] - 9s 362us/step\n"
          ],
          "name": "stdout"
        }
      ]
    },
    {
      "metadata": {
        "colab_type": "code",
        "id": "9RrKiPHcAmQU",
        "colab": {
          "base_uri": "https://localhost:8080/",
          "height": 34
        },
        "outputId": "a5507639-cbbb-463d-a070-05afcdbbbaf0"
      },
      "cell_type": "code",
      "source": [
        "print(results)\n",
        "# loss, accuracay "
      ],
      "execution_count": 20,
      "outputs": [
        {
          "output_type": "stream",
          "text": [
            "[0.5458652648353577, 0.7398]\n"
          ],
          "name": "stdout"
        }
      ]
    },
    {
      "metadata": {
        "colab_type": "text",
        "id": "pW7IpHxMO6qp"
      },
      "cell_type": "markdown",
      "source": [
        "Our first model accuracy using one-hot vectors is \n",
        "\n",
        "\n",
        "\n"
      ]
    },
    {
      "metadata": {
        "colab_type": "text",
        "id": "OwZk_yoWhPJB"
      },
      "cell_type": "markdown",
      "source": [
        "### Plotting the accuracy graph"
      ]
    },
    {
      "metadata": {
        "colab_type": "text",
        "id": "JIDPH1J7PMzN"
      },
      "cell_type": "markdown",
      "source": [
        "To plot a graph of accuracy and loss over time we can use Matplotlib:"
      ]
    },
    {
      "metadata": {
        "colab_type": "code",
        "id": "LS9k2vvSAqB7",
        "outputId": "bba38812-90d0-4876-c3d2-a7344d472614",
        "colab": {
          "base_uri": "https://localhost:8080/",
          "height": 376
        }
      },
      "cell_type": "code",
      "source": [
        "import matplotlib.pyplot as plt\n",
        "\n",
        "history_dict = history.history\n",
        "\n",
        "acc = history_dict['acc']\n",
        "val_acc = history_dict['val_acc']\n",
        "loss = history_dict['loss']\n",
        "val_loss = history_dict['val_loss']\n",
        "\n",
        "epochs = range(1, len(acc) + 1)\n",
        "\n",
        "plt.plot(epochs, acc, 'bo', label='Training acc')\n",
        "plt.plot(epochs, val_acc, 'b', label='Validation acc')\n",
        "plt.title('Training and validation accuracy')\n",
        "plt.xlabel('Epochs')\n",
        "plt.ylabel('Accuracy')\n",
        "plt.legend()\n",
        "\n",
        "plt.show()"
      ],
      "execution_count": 21,
      "outputs": [
        {
          "output_type": "display_data",
          "data": {
            "image/png": "[encoded data removed]",
            "text/plain": [
              "<Figure size 576x396 with 1 Axes>"
            ]
          },
          "metadata": {
            "tags": []
          }
        }
      ]
    },
    {
      "metadata": {
        "colab_type": "text",
        "id": "a7OwOQw4h8RX"
      },
      "cell_type": "markdown",
      "source": [
        "### Neural Network model using word embeddings"
      ]
    },
    {
      "metadata": {
        "colab_type": "text",
        "id": "l-QzOMO_P4jc"
      },
      "cell_type": "markdown",
      "source": [
        "Now instead of one-hot vectors, we want to use embedding. We change our first layer in model1 to an Embedding layer. This layer takes the integer-encoded vocabulary and looks up the embedding vector for each word-index. These vectors are learned as the model trains. The vectors add a dimension to the output array. The resulting dimensions are: (batch, sequence, embedding)."
      ]
    },
    {
      "metadata": {
        "colab_type": "code",
        "id": "MFrCsL-NBFVL",
        "outputId": "4c0858af-9d38-437d-ae78-d2acbb28f71a",
        "colab": {
          "base_uri": "https://localhost:8080/",
          "height": 1683
        }
      },
      "cell_type": "code",
      "source": [
        "VOCAB_SIZE= 10000\n",
        "\n",
        "# put your code here\n",
        "model2 = Sequential()\n",
        "model2.add(Embedding(VOCAB_SIZE,64,input_length = MAX_SEQUENCE_LENGTH))\n",
        "#model2.add(OneHot(VOCAB_SIZE,MAX_SEQUENCE_LENGTH))\n",
        "#model2.add(GlobalAveragePooling1DMasked())\n",
        "model2.add(GlobalAveragePooling1D())\n",
        "model2.add(Dense(16, activation='relu'))\n",
        "model2.add(Dense(1, activation='sigmoid'))\n",
        "model2.summary()\n",
        "\n",
        "model2.compile(optimizer='adam',\n",
        "              loss='binary_crossentropy',\n",
        "              metrics=['accuracy'])\n",
        "\n",
        "X_val = np.array(X_train_enc[:10000])\n",
        "partial_X_train = np.array(X_train_enc[10000:])\n",
        "\n",
        "history2 = model2.fit(partial_X_train,\n",
        "                    partial_y_train,\n",
        "                    epochs=40,\n",
        "                    batch_size=512,\n",
        "                    validation_data=(X_val, y_val),\n",
        "                    verbose=1)\n",
        "\n",
        "results = model2.evaluate(X_test_enc, y_test)\n",
        "print(results)"
      ],
      "execution_count": 23,
      "outputs": [
        {
          "output_type": "stream",
          "text": [
            "_________________________________________________________________\n",
            "Layer (type)                 Output Shape              Param #   \n",
            "=================================================================\n",
            "embedding_1 (Embedding)      (None, 256, 64)           640000    \n",
            "_________________________________________________________________\n",
            "global_average_pooling1d_2 ( (None, 64)                0         \n",
            "_________________________________________________________________\n",
            "dense_3 (Dense)              (None, 16)                1040      \n",
            "_________________________________________________________________\n",
            "dense_4 (Dense)              (None, 1)                 17        \n",
            "=================================================================\n",
            "Total params: 641,057\n",
            "Trainable params: 641,057\n",
            "Non-trainable params: 0\n",
            "_________________________________________________________________\n",
            "Train on 15000 samples, validate on 10000 samples\n",
            "Epoch 1/40\n",
            "15000/15000 [==============================] - 1s 43us/step - loss: 0.6897 - acc: 0.6312 - val_loss: 0.6839 - val_acc: 0.7231\n",
            "Epoch 2/40\n",
            "15000/15000 [==============================] - 0s 22us/step - loss: 0.6725 - acc: 0.7307 - val_loss: 0.6590 - val_acc: 0.7442\n",
            "Epoch 3/40\n",
            "15000/15000 [==============================] - 0s 21us/step - loss: 0.6346 - acc: 0.7731 - val_loss: 0.6126 - val_acc: 0.7738\n",
            "Epoch 4/40\n",
            "15000/15000 [==============================] - 0s 21us/step - loss: 0.5737 - acc: 0.8097 - val_loss: 0.5484 - val_acc: 0.8094\n",
            "Epoch 5/40\n",
            "15000/15000 [==============================] - 0s 20us/step - loss: 0.5004 - acc: 0.8372 - val_loss: 0.4814 - val_acc: 0.8276\n",
            "Epoch 6/40\n",
            "15000/15000 [==============================] - 0s 21us/step - loss: 0.4306 - acc: 0.8615 - val_loss: 0.4257 - val_acc: 0.8473\n",
            "Epoch 7/40\n",
            "15000/15000 [==============================] - 0s 21us/step - loss: 0.3740 - acc: 0.8751 - val_loss: 0.3850 - val_acc: 0.8555\n",
            "Epoch 8/40\n",
            "15000/15000 [==============================] - 0s 21us/step - loss: 0.3319 - acc: 0.8866 - val_loss: 0.3576 - val_acc: 0.8631\n",
            "Epoch 9/40\n",
            "15000/15000 [==============================] - 0s 21us/step - loss: 0.2979 - acc: 0.8982 - val_loss: 0.3349 - val_acc: 0.8703\n",
            "Epoch 10/40\n",
            "15000/15000 [==============================] - 0s 21us/step - loss: 0.2710 - acc: 0.9061 - val_loss: 0.3192 - val_acc: 0.8754\n",
            "Epoch 11/40\n",
            "15000/15000 [==============================] - 0s 21us/step - loss: 0.2485 - acc: 0.9136 - val_loss: 0.3083 - val_acc: 0.8790\n",
            "Epoch 12/40\n",
            "15000/15000 [==============================] - 0s 21us/step - loss: 0.2293 - acc: 0.9209 - val_loss: 0.3016 - val_acc: 0.8780\n",
            "Epoch 13/40\n",
            "15000/15000 [==============================] - 0s 21us/step - loss: 0.2130 - acc: 0.9270 - val_loss: 0.2945 - val_acc: 0.8821\n",
            "Epoch 14/40\n",
            "15000/15000 [==============================] - 0s 22us/step - loss: 0.1979 - acc: 0.9330 - val_loss: 0.2900 - val_acc: 0.8826\n",
            "Epoch 15/40\n",
            "15000/15000 [==============================] - 0s 21us/step - loss: 0.1848 - acc: 0.9397 - val_loss: 0.2877 - val_acc: 0.8839\n",
            "Epoch 16/40\n",
            "15000/15000 [==============================] - 0s 21us/step - loss: 0.1729 - acc: 0.9457 - val_loss: 0.2862 - val_acc: 0.8847\n",
            "Epoch 17/40\n",
            "15000/15000 [==============================] - 0s 21us/step - loss: 0.1623 - acc: 0.9487 - val_loss: 0.2858 - val_acc: 0.8839\n",
            "Epoch 18/40\n",
            "15000/15000 [==============================] - 0s 21us/step - loss: 0.1527 - acc: 0.9539 - val_loss: 0.2862 - val_acc: 0.8848\n",
            "Epoch 19/40\n",
            "15000/15000 [==============================] - 0s 21us/step - loss: 0.1426 - acc: 0.9578 - val_loss: 0.2873 - val_acc: 0.8852\n",
            "Epoch 20/40\n",
            "15000/15000 [==============================] - 0s 22us/step - loss: 0.1346 - acc: 0.9609 - val_loss: 0.2887 - val_acc: 0.8848\n",
            "Epoch 21/40\n",
            "15000/15000 [==============================] - 0s 21us/step - loss: 0.1267 - acc: 0.9634 - val_loss: 0.2919 - val_acc: 0.8851\n",
            "Epoch 22/40\n",
            "15000/15000 [==============================] - 0s 21us/step - loss: 0.1194 - acc: 0.9668 - val_loss: 0.2948 - val_acc: 0.8839\n",
            "Epoch 23/40\n",
            "15000/15000 [==============================] - 0s 21us/step - loss: 0.1126 - acc: 0.9683 - val_loss: 0.2979 - val_acc: 0.8829\n",
            "Epoch 24/40\n",
            "15000/15000 [==============================] - 0s 21us/step - loss: 0.1064 - acc: 0.9717 - val_loss: 0.3029 - val_acc: 0.8819\n",
            "Epoch 25/40\n",
            "15000/15000 [==============================] - 0s 21us/step - loss: 0.1004 - acc: 0.9724 - val_loss: 0.3058 - val_acc: 0.8825\n",
            "Epoch 26/40\n",
            "15000/15000 [==============================] - 0s 20us/step - loss: 0.0942 - acc: 0.9767 - val_loss: 0.3106 - val_acc: 0.8817\n",
            "Epoch 27/40\n",
            "15000/15000 [==============================] - 0s 21us/step - loss: 0.0890 - acc: 0.9782 - val_loss: 0.3155 - val_acc: 0.8803\n",
            "Epoch 28/40\n",
            "15000/15000 [==============================] - 0s 21us/step - loss: 0.0841 - acc: 0.9797 - val_loss: 0.3210 - val_acc: 0.8801\n",
            "Epoch 29/40\n",
            "15000/15000 [==============================] - 0s 21us/step - loss: 0.0801 - acc: 0.9818 - val_loss: 0.3263 - val_acc: 0.8793\n",
            "Epoch 30/40\n",
            "15000/15000 [==============================] - 0s 21us/step - loss: 0.0753 - acc: 0.9838 - val_loss: 0.3317 - val_acc: 0.8786\n",
            "Epoch 31/40\n",
            "15000/15000 [==============================] - 0s 21us/step - loss: 0.0711 - acc: 0.9850 - val_loss: 0.3380 - val_acc: 0.8777\n",
            "Epoch 32/40\n",
            "15000/15000 [==============================] - 0s 21us/step - loss: 0.0671 - acc: 0.9859 - val_loss: 0.3441 - val_acc: 0.8782\n",
            "Epoch 33/40\n",
            "15000/15000 [==============================] - 0s 21us/step - loss: 0.0640 - acc: 0.9867 - val_loss: 0.3504 - val_acc: 0.8775\n",
            "Epoch 34/40\n",
            "15000/15000 [==============================] - 0s 21us/step - loss: 0.0603 - acc: 0.9885 - val_loss: 0.3570 - val_acc: 0.8763\n",
            "Epoch 35/40\n",
            "15000/15000 [==============================] - 0s 21us/step - loss: 0.0571 - acc: 0.9899 - val_loss: 0.3633 - val_acc: 0.8765\n",
            "Epoch 36/40\n",
            "15000/15000 [==============================] - 0s 21us/step - loss: 0.0536 - acc: 0.9906 - val_loss: 0.3700 - val_acc: 0.8763\n",
            "Epoch 37/40\n",
            "15000/15000 [==============================] - 0s 21us/step - loss: 0.0518 - acc: 0.9899 - val_loss: 0.3767 - val_acc: 0.8756\n",
            "Epoch 38/40\n",
            "15000/15000 [==============================] - 0s 21us/step - loss: 0.0481 - acc: 0.9919 - val_loss: 0.3837 - val_acc: 0.8752\n",
            "Epoch 39/40\n",
            "15000/15000 [==============================] - 0s 21us/step - loss: 0.0457 - acc: 0.9929 - val_loss: 0.3908 - val_acc: 0.8754\n",
            "Epoch 40/40\n",
            "15000/15000 [==============================] - 0s 21us/step - loss: 0.0424 - acc: 0.9933 - val_loss: 0.3988 - val_acc: 0.8717\n",
            "25000/25000 [==============================] - 1s 45us/step\n",
            "[0.4232503311538696, 0.8614]\n"
          ],
          "name": "stdout"
        }
      ]
    },
    {
      "metadata": {
        "colab_type": "code",
        "id": "I4zIPJDcTPq3",
        "colab": {
          "base_uri": "https://localhost:8080/",
          "height": 34
        },
        "outputId": "374914fa-28c2-49b6-a698-381a9a902037"
      },
      "cell_type": "code",
      "source": [
        "results = model2.evaluate(X_test_enc, y_test)"
      ],
      "execution_count": 24,
      "outputs": [
        {
          "output_type": "stream",
          "text": [
            "25000/25000 [==============================] - 1s 46us/step\n"
          ],
          "name": "stdout"
        }
      ]
    },
    {
      "metadata": {
        "colab_type": "code",
        "id": "waS96edDTRyL",
        "colab": {
          "base_uri": "https://localhost:8080/",
          "height": 34
        },
        "outputId": "e89bceea-9a28-4977-9744-7faca73b791f"
      },
      "cell_type": "code",
      "source": [
        "print (results)"
      ],
      "execution_count": 25,
      "outputs": [
        {
          "output_type": "stream",
          "text": [
            "[0.4232503311538696, 0.8614]\n"
          ],
          "name": "stdout"
        }
      ]
    },
    {
      "metadata": {
        "colab_type": "code",
        "id": "XB7aveVzTC5a",
        "colab": {
          "base_uri": "https://localhost:8080/",
          "height": 376
        },
        "outputId": "704fab73-18bf-4c2e-b40a-58bd87b5e1a1"
      },
      "cell_type": "code",
      "source": [
        "import matplotlib.pyplot as plt\n",
        "\n",
        "history_dict = history2.history\n",
        "\n",
        "acc = history_dict['acc']\n",
        "val_acc = history_dict['val_acc']\n",
        "loss = history_dict['loss']\n",
        "val_loss = history_dict['val_loss']\n",
        "\n",
        "epochs = range(1, len(acc) + 1)\n",
        "\n",
        "plt.plot(epochs, acc, 'bo', label='Training acc')\n",
        "plt.plot(epochs, val_acc, 'b', label='Validation acc')\n",
        "plt.title('Training and validation accuracy')\n",
        "plt.xlabel('Epochs')\n",
        "plt.ylabel('Accuracy')\n",
        "plt.legend()\n",
        "\n",
        "plt.show()"
      ],
      "execution_count": 26,
      "outputs": [
        {
          "output_type": "display_data",
          "data": {
            "image/png": "[encoded data removed]",
            "text/plain": [
              "<Figure size 576x396 with 1 Axes>"
            ]
          },
          "metadata": {
            "tags": []
          }
        }
      ]
    },
    {
      "metadata": {
        "colab_type": "text",
        "id": "7FBpTc_rXGvQ"
      },
      "cell_type": "markdown",
      "source": [
        "The accuracy of model2 is 87%. Using Embedding layer instead of one-hot layer improved the performance."
      ]
    },
    {
      "metadata": {
        "colab_type": "text",
        "id": "--020hfG6rN2"
      },
      "cell_type": "markdown",
      "source": [
        "### Using pre-trained word embeddings"
      ]
    },
    {
      "metadata": {
        "colab_type": "text",
        "id": "J4gBeOyi4gkM"
      },
      "cell_type": "markdown",
      "source": [
        "The Embedding layer can be used to load a pre-trained word embedding model. We are going to use GloVe embeddings, which you can read about it here (https://nlp.stanford.edu/projects/glove/). GloVe stands for \"Global Vectors for Word Representation\". It's a somewhat popular embedding technique based on factorizing a matrix of word co-occurence statistics. You can download GloVe and we can seed the Keras Embedding layer with weights from the pre-trained embedding for the words in your dataset.\n",
        "First, we need to read GloVe and map words to GloVe:\n"
      ]
    },
    {
      "metadata": {
        "colab_type": "code",
        "id": "f_PypdqG9Iis",
        "colab": {}
      },
      "cell_type": "code",
      "source": [
        "def readGloveFile(gloveFile):\n",
        "    with open(gloveFile, 'r') as f:\n",
        "        wordToGlove = {}  \n",
        "        wordToIndex = {}  \n",
        "        indexToWord = {}  \n",
        "\n",
        "        for line in f:\n",
        "            record = line.strip().split()\n",
        "            token = record[0] \n",
        "            wordToGlove[token] = np.array(record[1:], dtype=np.float64) \n",
        "            \n",
        "        tokens = sorted(wordToGlove.keys())\n",
        "        for idx, tok in enumerate(tokens):\n",
        "            kerasIdx = idx + 1  \n",
        "            wordToIndex[tok] = kerasIdx \n",
        "            indexToWord[kerasIdx] = tok \n",
        "\n",
        "    return wordToIndex, indexToWord, wordToGlove"
      ],
      "execution_count": 0,
      "outputs": []
    },
    {
      "metadata": {
        "colab_type": "text",
        "id": "ZcIZ3dq59bCh"
      },
      "cell_type": "markdown",
      "source": [
        "Now, we create our pre-trained Embedding layer:"
      ]
    },
    {
      "metadata": {
        "colab_type": "code",
        "id": "gembn7VM3ex8",
        "colab": {}
      },
      "cell_type": "code",
      "source": [
        "from keras.initializers import Constant\n",
        "def createPretrainedEmbeddingLayer(wordToGlove, wordToIndex, isTrainable):\n",
        "    vocabLen = len(wordToIndex) + 1  \n",
        "    embDim = next(iter(wordToGlove.values())).shape[0]  \n",
        "   \n",
        "    embeddingMatrix = np.zeros((vocabLen, embDim))  \n",
        "    for word, index in wordToIndex.items():\n",
        "        embeddingMatrix[index, :] = wordToGlove[word] \n",
        "\n",
        "    embeddingLayer = Embedding(vocabLen, embDim, embeddings_initializer=Constant(embeddingMatrix), trainable=isTrainable)\n",
        "    return embeddingLayer"
      ],
      "execution_count": 0,
      "outputs": []
    },
    {
      "metadata": {
        "colab_type": "text",
        "id": "HGxciLK4-xOr"
      },
      "cell_type": "markdown",
      "source": [
        "We freeze the weights. To create the model:"
      ]
    },
    {
      "metadata": {
        "colab_type": "code",
        "id": "PZCPUM0W_Drc",
        "colab": {}
      },
      "cell_type": "code",
      "source": [
        "wordToIndex, indexToWord, wordToGlove = readGloveFile(\"drive/glove.6B.300d.txt\") \n"
      ],
      "execution_count": 0,
      "outputs": []
    },
    {
      "metadata": {
        "id": "ym24vP3GILpR",
        "colab_type": "code",
        "colab": {}
      },
      "cell_type": "code",
      "source": [
        "\n",
        "preTrainedEmbeddingLayer = createPretrainedEmbeddingLayer(wordToGlove, wordToIndex, False)"
      ],
      "execution_count": 0,
      "outputs": []
    },
    {
      "metadata": {
        "id": "AUm4FaOoImf1",
        "colab_type": "code",
        "colab": {
          "base_uri": "https://localhost:8080/",
          "height": 231
        },
        "outputId": "24699359-2a06-4a5e-df74-ab3c156796b1"
      },
      "cell_type": "code",
      "source": [
        "# put your code here\n",
        "model3 = Sequential()\n",
        "model3.add(preTrainedEmbeddingLayer(VOCAB_SIZE,64))\n",
        "model3.add(GlobalAveragePooling1D())\n",
        "model3.add(Dense(16, activation='relu'))\n",
        "model3.add(Dense(1, activation='sigmoid'))\n",
        "model3.summary()\n",
        "\n",
        "model3.compile(optimizer='adam',\n",
        "              loss='binary_crossentropy',\n",
        "              metrics=['accuracy'])"
      ],
      "execution_count": 41,
      "outputs": [
        {
          "output_type": "error",
          "ename": "TypeError",
          "evalue": "ignored",
          "traceback": [
            "\u001b[0;31m\u001b[0m",
            "\u001b[0;31mTypeError\u001b[0mTraceback (most recent call last)",
            "\u001b[0;32m<ipython-input-41-550acbbda5df>\u001b[0m in \u001b[0;36m<module>\u001b[0;34m()\u001b[0m\n\u001b[1;32m      1\u001b[0m \u001b[0mmodel3\u001b[0m \u001b[0;34m=\u001b[0m \u001b[0mSequential\u001b[0m\u001b[0;34m(\u001b[0m\u001b[0;34m)\u001b[0m\u001b[0;34m\u001b[0m\u001b[0m\n\u001b[0;32m----> 2\u001b[0;31m \u001b[0mmodel3\u001b[0m\u001b[0;34m.\u001b[0m\u001b[0madd\u001b[0m\u001b[0;34m(\u001b[0m\u001b[0mpreTrainedEmbeddingLayer\u001b[0m\u001b[0;34m(\u001b[0m\u001b[0mVOCAB_SIZE\u001b[0m\u001b[0;34m,\u001b[0m\u001b[0;36m64\u001b[0m\u001b[0;34m)\u001b[0m\u001b[0;34m)\u001b[0m\u001b[0;34m\u001b[0m\u001b[0m\n\u001b[0m\u001b[1;32m      3\u001b[0m \u001b[0mmodel3\u001b[0m\u001b[0;34m.\u001b[0m\u001b[0madd\u001b[0m\u001b[0;34m(\u001b[0m\u001b[0mGlobalAveragePooling1D\u001b[0m\u001b[0;34m(\u001b[0m\u001b[0;34m)\u001b[0m\u001b[0;34m)\u001b[0m\u001b[0;34m\u001b[0m\u001b[0m\n\u001b[1;32m      4\u001b[0m \u001b[0mmodel3\u001b[0m\u001b[0;34m.\u001b[0m\u001b[0madd\u001b[0m\u001b[0;34m(\u001b[0m\u001b[0mDense\u001b[0m\u001b[0;34m(\u001b[0m\u001b[0;36m16\u001b[0m\u001b[0;34m,\u001b[0m \u001b[0mactivation\u001b[0m\u001b[0;34m=\u001b[0m\u001b[0;34m'relu'\u001b[0m\u001b[0;34m)\u001b[0m\u001b[0;34m)\u001b[0m\u001b[0;34m\u001b[0m\u001b[0m\n\u001b[1;32m      5\u001b[0m \u001b[0mmodel3\u001b[0m\u001b[0;34m.\u001b[0m\u001b[0madd\u001b[0m\u001b[0;34m(\u001b[0m\u001b[0mDense\u001b[0m\u001b[0;34m(\u001b[0m\u001b[0;36m1\u001b[0m\u001b[0;34m,\u001b[0m \u001b[0mactivation\u001b[0m\u001b[0;34m=\u001b[0m\u001b[0;34m'sigmoid'\u001b[0m\u001b[0;34m)\u001b[0m\u001b[0;34m)\u001b[0m\u001b[0;34m\u001b[0m\u001b[0m\n",
            "\u001b[0;31mTypeError\u001b[0m: __call__() takes exactly 2 arguments (3 given)"
          ]
        }
      ]
    },
    {
      "metadata": {
        "colab_type": "text",
        "id": "M-bZ5SCHiIMl"
      },
      "cell_type": "markdown",
      "source": [
        "### Adding another hidden layer to the network"
      ]
    },
    {
      "metadata": {
        "id": "jszxin21IKAR",
        "colab_type": "code",
        "colab": {}
      },
      "cell_type": "code",
      "source": [
        ""
      ],
      "execution_count": 0,
      "outputs": []
    },
    {
      "metadata": {
        "colab_type": "text",
        "id": "ZbZ6UBDfbjea"
      },
      "cell_type": "markdown",
      "source": [
        "In model4, we only add another dense layer to see if that improves the performance."
      ]
    },
    {
      "metadata": {
        "colab_type": "code",
        "id": "Vw0le1YjDdCa",
        "colab": {}
      },
      "cell_type": "code",
      "source": [
        "# put your code here\n",
        "model4 = Sequential()\n",
        "model4.add(preTrainedEmbeddingLayer(VOCAB_SIZE,64,input_length = MAX_SEQUENCE_LENGTH))\n",
        "model4.add(GlobalAveragePooling1D())\n",
        "model4.add(Dense(16, activation='relu'))\n",
        "model4.add(Dense(16, activation='relu'))\n",
        "model4.add(Dense(1, activation='sigmoid'))\n",
        "model4.summary()\n",
        "\n",
        "model4.compile(optimizer='adam',\n",
        "              loss='binary_crossentropy',\n",
        "              metrics=['accuracy'])"
      ],
      "execution_count": 0,
      "outputs": []
    },
    {
      "metadata": {
        "id": "LrZlKyr-Igch",
        "colab_type": "code",
        "colab": {}
      },
      "cell_type": "code",
      "source": [
        ""
      ],
      "execution_count": 0,
      "outputs": []
    },
    {
      "metadata": {
        "colab_type": "code",
        "id": "QtsdVeW7UgCu",
        "colab": {}
      },
      "cell_type": "code",
      "source": [
        "import matplotlib.pyplot as plt\n",
        "\n",
        "history_dict = history3.history\n",
        "\n",
        "acc = history_dict['acc']\n",
        "val_acc = history_dict['val_acc']\n",
        "loss = history_dict['loss']\n",
        "val_loss = history_dict['val_loss']\n",
        "\n",
        "epochs = range(1, len(acc) + 1)\n",
        "\n",
        "plt.plot(epochs, acc, 'bo', label='Training acc')\n",
        "plt.plot(epochs, val_acc, 'b', label='Validation acc')\n",
        "plt.title('Training and validation accuracy')\n",
        "plt.xlabel('Epochs')\n",
        "plt.ylabel('Accuracy')\n",
        "plt.legend()\n",
        "\n",
        "plt.show()"
      ],
      "execution_count": 0,
      "outputs": []
    },
    {
      "metadata": {
        "colab_type": "text",
        "id": "Kx--Ytk3ZbLo"
      },
      "cell_type": "markdown",
      "source": [
        "The accuracy of model3 with an additional layer is 85%. Adding more layers can help you to extract more features. But we can do that upto a certain extent. After some point, instead of extracting features, we tend to overfit the data. Overfitting can lead to errors in some or the other form like false positives. It is not easy to choose the number of units in a hidden layer or the number of hidden layers in a neural network. For many applications, one hidden layer is enough. As a general rule, the number of units in that hidden layer is between the number of inputs and the number of outputs.\n",
        " The best way to decide on the number of units and hidden layers is to try various parameters. Train several neural networks with different numbers of hidden layers and neurons, and monitor the performance of them. You will have to experiment using a series of different architectures. \n",
        "\n",
        "\n",
        "\n"
      ]
    },
    {
      "metadata": {
        "colab_type": "text",
        "id": "gn2GSV4ioyO2"
      },
      "cell_type": "markdown",
      "source": [
        "\n",
        "\n",
        "---\n",
        "\n"
      ]
    },
    {
      "metadata": {
        "colab_type": "code",
        "id": "XYC6DykEox2w",
        "colab": {}
      },
      "cell_type": "code",
      "source": [
        ""
      ],
      "execution_count": 0,
      "outputs": []
    },
    {
      "metadata": {
        "colab_type": "text",
        "id": "GsCJ01StlgCx"
      },
      "cell_type": "markdown",
      "source": [
        "This tutorial is substantially based on this document:\n",
        "https://www.tensorflow.org/tutorials/keras/basic_text_classification\n",
        "\n",
        "To read more about Sequential APIs you can go to: https://keras.io/getting-started/sequential-model-guide/\n",
        "\n",
        "The one-hot word vector layer is taken from:\n",
        "https://fdalvi.github.io/blog/2018-04-07-keras-sequential-onehot/\n"
      ]
    },
    {
      "metadata": {
        "colab_type": "code",
        "id": "jL0UovfaE9GE",
        "colab": {}
      },
      "cell_type": "code",
      "source": [
        ""
      ],
      "execution_count": 0,
      "outputs": []
    }
  ]
}