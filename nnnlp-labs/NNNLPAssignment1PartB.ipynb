{
 "cells": [
  {
   "cell_type": "markdown",
   "metadata": {
    "colab_type": "text",
    "id": "hExKCzh6doIW"
   },
   "source": [
    "# Lab 3 - Neural Network Classifier Using Simple Word Embeddings\n",
    "\n",
    "\n",
    "\n",
    "---\n",
    "\n",
    "\n",
    "\n",
    "\n",
    "\n",
    "\n",
    "\n",
    "\n",
    "\n",
    "\n",
    "\n",
    "\n",
    "\n"
   ]
  },
  {
   "cell_type": "markdown",
   "metadata": {
    "colab_type": "text",
    "id": "HixoFOoCIJ7V"
   },
   "source": [
    "In this session, we demonstrate how to solve a text classification task using simple \n",
    "feedforward neural network classifier. We will use IMDB Large Movie Review Dataset to train a binary classification model, able to predict whether a review is positive or negative. First, our network takes one-hot word vectors as input, averages them to make one vector and trains a \n",
    "fully-connected layer to predict the output. In the second part, we replace the one-hot vectors with the word embeddings and add a layer to see how much that improves the performance.\n",
    "\n",
    "We are going to use Keras Sequential API in this session. The Sequential API allows you to make models layer-by-layer. But it is not straightforward to define models where layers connect to more than just the previous and next layers. "
   ]
  },
  {
   "cell_type": "code",
   "execution_count": 1,
   "metadata": {
    "colab": {
     "base_uri": "https://localhost:8080/",
     "height": 34
    },
    "colab_type": "code",
    "id": "m8fpBfhBpupy",
    "outputId": "293577d0-b2e4-4c64-c312-25915b4a8af7"
   },
   "outputs": [
    {
     "name": "stderr",
     "output_type": "stream",
     "text": [
      "Using TensorFlow backend.\n",
      "/home/leem/anaconda3/envs/eenlp/lib/python3.6/importlib/_bootstrap.py:219: RuntimeWarning: numpy.dtype size changed, may indicate binary incompatibility. Expected 96, got 88\n",
      "  return f(*args, **kwds)\n",
      "/home/leem/anaconda3/envs/eenlp/lib/python3.6/importlib/_bootstrap.py:219: RuntimeWarning: numpy.dtype size changed, may indicate binary incompatibility. Expected 96, got 88\n",
      "  return f(*args, **kwds)\n"
     ]
    }
   ],
   "source": [
    "import keras\n",
    "import numpy as np\n",
    "from keras.layers import Lambda, GlobalAveragePooling1D, Dense, Embedding\n",
    "from keras import backend as K\n",
    "from keras.models import Sequential\n",
    "from keras.initializers import Constant\n"
   ]
  },
  {
   "cell_type": "markdown",
   "metadata": {
    "colab_type": "text",
    "id": "cqvPQvgvPv1W"
   },
   "source": [
    "### Downloading data"
   ]
  },
  {
   "cell_type": "markdown",
   "metadata": {
    "colab_type": "text",
    "id": "EundMtGPpCdf"
   },
   "source": [
    "The dataset we will be using is the IMDB Large Movie Review Dataset, which consists of 50000 labeled movie reviews. These are split into 25,000 reviews for training and 25,000 reviews for testing. The  dataset contains an even number of positive and negative reviews, so randomly guessing yields 50% accuracy. The data is preprocessed. For text classification, it is ususal to limit the size of the vocabulary to stop the dataset from becoming too sparse, creating possible overfitting. We keep the top 10,000 most frequently occurring words in the training data.\n"
   ]
  },
  {
   "cell_type": "code",
   "execution_count": 2,
   "metadata": {
    "colab": {
     "base_uri": "https://localhost:8080/",
     "height": 68
    },
    "colab_type": "code",
    "id": "NyuSzkafqNca",
    "outputId": "889d4249-98f8-420b-a1d5-8378ef5cc2e4"
   },
   "outputs": [],
   "source": [
    "imdb = keras.datasets.imdb\n",
    "(X_train, y_train), (X_test, y_test) = imdb.load_data(num_words=10000)"
   ]
  },
  {
   "cell_type": "markdown",
   "metadata": {
    "colab_type": "text",
    "id": "6U4iCV9-rmay"
   },
   "source": [
    "We now can start playing around with the data, let’s first see the length:"
   ]
  },
  {
   "cell_type": "code",
   "execution_count": 3,
   "metadata": {
    "colab": {
     "base_uri": "https://localhost:8080/",
     "height": 34
    },
    "colab_type": "code",
    "id": "h-gjWRAuqg5s",
    "outputId": "e1f24421-0304-470c-d831-16e99fa03b34"
   },
   "outputs": [
    {
     "name": "stdout",
     "output_type": "stream",
     "text": [
      "Training entries: 25000, labels: 25000\n"
     ]
    }
   ],
   "source": [
    "print(\"Training entries: {}, labels: {}\".format(len(X_train), len(y_train)))"
   ]
  },
  {
   "cell_type": "markdown",
   "metadata": {
    "colab_type": "text",
    "id": "MTRZrpcyr-4x"
   },
   "source": [
    "The  reviews have been converted to integers and each integer represents a  word in a dictionary. "
   ]
  },
  {
   "cell_type": "code",
   "execution_count": 4,
   "metadata": {
    "colab": {
     "base_uri": "https://localhost:8080/",
     "height": 3723
    },
    "colab_type": "code",
    "id": "79Ev72Kgq4XL",
    "outputId": "336a6705-501b-4b34-f95e-6c1a1147d29b"
   },
   "outputs": [
    {
     "data": {
      "text/plain": [
       "[1,\n",
       " 14,\n",
       " 22,\n",
       " 16,\n",
       " 43,\n",
       " 530,\n",
       " 973,\n",
       " 1622,\n",
       " 1385,\n",
       " 65,\n",
       " 458,\n",
       " 4468,\n",
       " 66,\n",
       " 3941,\n",
       " 4,\n",
       " 173,\n",
       " 36,\n",
       " 256,\n",
       " 5,\n",
       " 25,\n",
       " 100,\n",
       " 43,\n",
       " 838,\n",
       " 112,\n",
       " 50,\n",
       " 670,\n",
       " 2,\n",
       " 9,\n",
       " 35,\n",
       " 480,\n",
       " 284,\n",
       " 5,\n",
       " 150,\n",
       " 4,\n",
       " 172,\n",
       " 112,\n",
       " 167,\n",
       " 2,\n",
       " 336,\n",
       " 385,\n",
       " 39,\n",
       " 4,\n",
       " 172,\n",
       " 4536,\n",
       " 1111,\n",
       " 17,\n",
       " 546,\n",
       " 38,\n",
       " 13,\n",
       " 447,\n",
       " 4,\n",
       " 192,\n",
       " 50,\n",
       " 16,\n",
       " 6,\n",
       " 147,\n",
       " 2025,\n",
       " 19,\n",
       " 14,\n",
       " 22,\n",
       " 4,\n",
       " 1920,\n",
       " 4613,\n",
       " 469,\n",
       " 4,\n",
       " 22,\n",
       " 71,\n",
       " 87,\n",
       " 12,\n",
       " 16,\n",
       " 43,\n",
       " 530,\n",
       " 38,\n",
       " 76,\n",
       " 15,\n",
       " 13,\n",
       " 1247,\n",
       " 4,\n",
       " 22,\n",
       " 17,\n",
       " 515,\n",
       " 17,\n",
       " 12,\n",
       " 16,\n",
       " 626,\n",
       " 18,\n",
       " 2,\n",
       " 5,\n",
       " 62,\n",
       " 386,\n",
       " 12,\n",
       " 8,\n",
       " 316,\n",
       " 8,\n",
       " 106,\n",
       " 5,\n",
       " 4,\n",
       " 2223,\n",
       " 5244,\n",
       " 16,\n",
       " 480,\n",
       " 66,\n",
       " 3785,\n",
       " 33,\n",
       " 4,\n",
       " 130,\n",
       " 12,\n",
       " 16,\n",
       " 38,\n",
       " 619,\n",
       " 5,\n",
       " 25,\n",
       " 124,\n",
       " 51,\n",
       " 36,\n",
       " 135,\n",
       " 48,\n",
       " 25,\n",
       " 1415,\n",
       " 33,\n",
       " 6,\n",
       " 22,\n",
       " 12,\n",
       " 215,\n",
       " 28,\n",
       " 77,\n",
       " 52,\n",
       " 5,\n",
       " 14,\n",
       " 407,\n",
       " 16,\n",
       " 82,\n",
       " 2,\n",
       " 8,\n",
       " 4,\n",
       " 107,\n",
       " 117,\n",
       " 5952,\n",
       " 15,\n",
       " 256,\n",
       " 4,\n",
       " 2,\n",
       " 7,\n",
       " 3766,\n",
       " 5,\n",
       " 723,\n",
       " 36,\n",
       " 71,\n",
       " 43,\n",
       " 530,\n",
       " 476,\n",
       " 26,\n",
       " 400,\n",
       " 317,\n",
       " 46,\n",
       " 7,\n",
       " 4,\n",
       " 2,\n",
       " 1029,\n",
       " 13,\n",
       " 104,\n",
       " 88,\n",
       " 4,\n",
       " 381,\n",
       " 15,\n",
       " 297,\n",
       " 98,\n",
       " 32,\n",
       " 2071,\n",
       " 56,\n",
       " 26,\n",
       " 141,\n",
       " 6,\n",
       " 194,\n",
       " 7486,\n",
       " 18,\n",
       " 4,\n",
       " 226,\n",
       " 22,\n",
       " 21,\n",
       " 134,\n",
       " 476,\n",
       " 26,\n",
       " 480,\n",
       " 5,\n",
       " 144,\n",
       " 30,\n",
       " 5535,\n",
       " 18,\n",
       " 51,\n",
       " 36,\n",
       " 28,\n",
       " 224,\n",
       " 92,\n",
       " 25,\n",
       " 104,\n",
       " 4,\n",
       " 226,\n",
       " 65,\n",
       " 16,\n",
       " 38,\n",
       " 1334,\n",
       " 88,\n",
       " 12,\n",
       " 16,\n",
       " 283,\n",
       " 5,\n",
       " 16,\n",
       " 4472,\n",
       " 113,\n",
       " 103,\n",
       " 32,\n",
       " 15,\n",
       " 16,\n",
       " 5345,\n",
       " 19,\n",
       " 178,\n",
       " 32]"
      ]
     },
     "execution_count": 4,
     "metadata": {},
     "output_type": "execute_result"
    }
   ],
   "source": [
    " X_train[0]"
   ]
  },
  {
   "cell_type": "markdown",
   "metadata": {
    "colab_type": "text",
    "id": "Tvuu4KhStqei"
   },
   "source": [
    "We can convert integers back to words by querying a dictionary object that contains the integer to string mapping:"
   ]
  },
  {
   "cell_type": "code",
   "execution_count": 3,
   "metadata": {
    "colab": {
     "base_uri": "https://localhost:8080/",
     "height": 68
    },
    "colab_type": "code",
    "id": "gMCH1OoDrSNR",
    "outputId": "4b2a84c1-adfb-4f24-a8d3-0c112e36311e"
   },
   "outputs": [],
   "source": [
    "\n",
    "word_index = imdb.get_word_index()"
   ]
  },
  {
   "cell_type": "markdown",
   "metadata": {
    "colab_type": "text",
    "id": "5IreFXgruZot"
   },
   "source": [
    "Index 1 represents the beginning of the sentence and the index 2 is assigned to all unknown tokens. Index 0 will be used for padding."
   ]
  },
  {
   "cell_type": "code",
   "execution_count": 4,
   "metadata": {
    "colab": {},
    "colab_type": "code",
    "id": "abIb7Fe5u3GQ"
   },
   "outputs": [],
   "source": [
    "\n",
    "word_index = {k:(v+3) for k,v in word_index.items()}\n",
    "word_index[\"<PAD>\"] = 0\n",
    "word_index[\"<START>\"] = 1\n",
    "word_index[\"<UNK>\"] = 2  \n",
    "word_index[\"<UNUSED>\"] = 3"
   ]
  },
  {
   "cell_type": "markdown",
   "metadata": {
    "colab_type": "text",
    "id": "9TnnSuspvC5b"
   },
   "source": [
    "To reverse key and values in a dictionary:"
   ]
  },
  {
   "cell_type": "code",
   "execution_count": 5,
   "metadata": {
    "colab": {},
    "colab_type": "code",
    "id": "nKOiVVXQu-_I"
   },
   "outputs": [],
   "source": [
    "reverse_word_index = dict([(value, key) for (key, value) in word_index.items()])"
   ]
  },
  {
   "cell_type": "markdown",
   "metadata": {
    "colab_type": "text",
    "id": "ZmTJEm8xvUvW"
   },
   "source": [
    "To view a word:"
   ]
  },
  {
   "cell_type": "code",
   "execution_count": 17,
   "metadata": {
    "colab": {
     "base_uri": "https://localhost:8080/",
     "height": 34
    },
    "colab_type": "code",
    "id": "SqN5jgVKvJJZ",
    "outputId": "c46b8292-5fb0-4bdf-b5d2-61f2f3ffd6b9"
   },
   "outputs": [
    {
     "data": {
      "text/plain": [
       "'you'"
      ]
     },
     "execution_count": 17,
     "metadata": {},
     "output_type": "execute_result"
    }
   ],
   "source": [
    "reverse_word_index[25]"
   ]
  },
  {
   "cell_type": "markdown",
   "metadata": {
    "colab_type": "text",
    "id": "Q6QjrzgVvrYn"
   },
   "source": [
    "And to recreate the whole sentence from our training data we define decode_review:\n"
   ]
  },
  {
   "cell_type": "code",
   "execution_count": 18,
   "metadata": {
    "colab": {},
    "colab_type": "code",
    "id": "wvrKeMgxvWlv"
   },
   "outputs": [],
   "source": [
    "def decode_review(text):\n",
    "    return ' '.join([reverse_word_index.get(i, '?') for i in text])"
   ]
  },
  {
   "cell_type": "code",
   "execution_count": 10,
   "metadata": {
    "colab": {
     "base_uri": "https://localhost:8080/",
     "height": 54
    },
    "colab_type": "code",
    "id": "Sxg4YA_NvdRg",
    "outputId": "1ad1f84b-7f56-4a69-c01b-3064df58d3f4"
   },
   "outputs": [
    {
     "data": {
      "text/plain": [
       "\"<START> french horror cinema has seen something of a revival over the last couple of years with great films such as inside and <UNK> romance <UNK> on to the scene <UNK> <UNK> the revival just slightly but stands head and shoulders over most modern horror titles and is surely one of the best french horror films ever made <UNK> was obviously shot on a low budget but this is made up for in far more ways than one by the originality of the film and this in turn is <UNK> by the excellent writing and acting that ensure the film is a winner the plot focuses on two main ideas prison and black magic the central character is a man named <UNK> sent to prison for fraud he is put in a cell with three others the quietly insane <UNK> body building <UNK> marcus and his retarded boyfriend daisy after a short while in the cell together they stumble upon a hiding place in the wall that contains an old <UNK> after <UNK> part of it they soon realise its magical powers and realise they may be able to use it to break through the prison walls br br black magic is a very interesting topic and i'm actually quite surprised that there aren't more films based on it as there's so much scope for things to do with it it's fair to say that <UNK> makes the best of it's <UNK> as despite it's <UNK> the film never actually feels restrained and manages to flow well throughout director eric <UNK> provides a great atmosphere for the film the fact that most of it takes place inside the central prison cell <UNK> that the film feels very claustrophobic and this immensely benefits the central idea of the prisoners wanting to use magic to break out of the cell it's very easy to get behind them it's often said that the unknown is the thing that really <UNK> people and this film proves that as the director <UNK> that we can never really be sure of exactly what is round the corner and this helps to ensure that <UNK> actually does manage to be quite frightening the film is memorable for a lot of reasons outside the central plot the characters are all very interesting in their own way and the fact that the book itself almost takes on its own character is very well done anyone worried that the film won't deliver by the end won't be disappointed either as the ending both makes sense and manages to be quite horrifying overall <UNK> is a truly great horror film and one of the best of the decade highly recommended viewing\""
      ]
     },
     "execution_count": 10,
     "metadata": {},
     "output_type": "execute_result"
    }
   ],
   "source": [
    "decode_review(X_train[10])"
   ]
  },
  {
   "cell_type": "markdown",
   "metadata": {
    "colab_type": "text",
    "id": "c8gIzXncfaJK"
   },
   "source": [
    "### Creating One-hot word vectors"
   ]
  },
  {
   "cell_type": "markdown",
   "metadata": {
    "colab_type": "text",
    "id": "B9W4yb3rv_E0"
   },
   "source": [
    "It is  common to use one-hot representation as input in Natural Language Processing tasks. In Keras, the Embedding layer takes an index as an input and convert it to one-hot vector with the length of the vocabulary size. Then multiplies these vectors by a normal weight matrix. But there is no way to only get a one-hot vector as the output of a layer in Keras. To solve this we use Lambda() layer and a function that creates the one-hot layer. "
   ]
  },
  {
   "cell_type": "code",
   "execution_count": 11,
   "metadata": {
    "colab": {},
    "colab_type": "code",
    "id": "RPO_pK9zH4C5"
   },
   "outputs": [],
   "source": [
    "def OneHot(input_dim=None, input_length=None):\n",
    "    \n",
    "    if input_dim is None or input_length is None:\n",
    "        raise TypeError(\"input_dim or input_length is not set\")\n",
    "\n",
    "    \n",
    "    def _one_hot(x, num_classes):\n",
    "        return K.one_hot(K.cast(x, 'uint8'),\n",
    "                          num_classes=num_classes)\n",
    "\n",
    "    return Lambda(_one_hot,\n",
    "                  arguments={'num_classes': input_dim},\n",
    "                  input_shape=(input_length,))"
   ]
  },
  {
   "cell_type": "markdown",
   "metadata": {
    "colab_type": "text",
    "id": "364d3MAw0ez9"
   },
   "source": [
    "input_dim refers to the length of the one-hot vector and input_length refers to the length of the input sequence. Since the input to K.one_hot should be an integer tensor, we cast x to one (Keras passes around float tensors by default).\n",
    "\n"
   ]
  },
  {
   "cell_type": "markdown",
   "metadata": {
    "colab_type": "text",
    "id": "VHz76GNA2M4r"
   },
   "source": [
    " Each text sequence has in most cases different length of words. Here, we fill sequences with a pad token (0) to fit the size. This special tokens is then masked not to be accounted in averaging, loss calculation etc. We set the maximum length to 256."
   ]
  },
  {
   "cell_type": "markdown",
   "metadata": {
    "colab_type": "text",
    "id": "9G_o7PsvgSFt"
   },
   "source": [
    "### Preparing input data"
   ]
  },
  {
   "cell_type": "code",
   "execution_count": 6,
   "metadata": {
    "colab": {},
    "colab_type": "code",
    "id": "jiFn7sd_wF5j"
   },
   "outputs": [],
   "source": [
    "VOCAB_SIZE = 10000\n",
    "MAX_SEQUENCE_LENGTH = 256\n",
    "\n",
    "X_train_enc = keras.preprocessing.sequence.pad_sequences(X_train,\n",
    "                                                        value=word_index[\"<PAD>\"],\n",
    "                                                        padding='post',\n",
    "                                                        maxlen=MAX_SEQUENCE_LENGTH)\n",
    "\n",
    "X_test_enc = keras.preprocessing.sequence.pad_sequences(X_test,\n",
    "                                                       value=word_index[\"<PAD>\"],\n",
    "                                                       padding='post',\n",
    "                                                       maxlen=MAX_SEQUENCE_LENGTH)"
   ]
  },
  {
   "cell_type": "markdown",
   "metadata": {
    "colab_type": "text",
    "id": "kcjFH1wKF_7d"
   },
   "source": [
    "And to view a padded review:"
   ]
  },
  {
   "cell_type": "code",
   "execution_count": 13,
   "metadata": {
    "colab": {
     "base_uri": "https://localhost:8080/",
     "height": 357
    },
    "colab_type": "code",
    "id": "zwH4dcfW_a18",
    "outputId": "ef0facb0-9237-4cea-9568-f5faeceaa3c2"
   },
   "outputs": [
    {
     "name": "stdout",
     "output_type": "stream",
     "text": [
      "[   1  194 1153  194 8255   78  228    5    6 1463 4369 5012  134   26\n",
      "    4  715    8  118 1634   14  394   20   13  119  954  189  102    5\n",
      "  207  110 3103   21   14   69  188    8   30   23    7    4  249  126\n",
      "   93    4  114    9 2300 1523    5  647    4  116    9   35 8163    4\n",
      "  229    9  340 1322    4  118    9    4  130 4901   19    4 1002    5\n",
      "   89   29  952   46   37    4  455    9   45   43   38 1543 1905  398\n",
      "    4 1649   26 6853    5  163   11 3215    2    4 1153    9  194  775\n",
      "    7 8255    2  349 2637  148  605    2 8003   15  123  125   68    2\n",
      " 6853   15  349  165 4362   98    5    4  228    9   43    2 1157   15\n",
      "  299  120    5  120  174   11  220  175  136   50    9 4373  228 8255\n",
      "    5    2  656  245 2350    5    4 9837  131  152  491   18    2   32\n",
      " 7464 1212   14    9    6  371   78   22  625   64 1382    9    8  168\n",
      "  145   23    4 1690   15   16    4 1355    5   28    6   52  154  462\n",
      "   33   89   78  285   16  145   95    0    0    0    0    0    0    0\n",
      "    0    0    0    0    0    0    0    0    0    0    0    0    0    0\n",
      "    0    0    0    0    0    0    0    0    0    0    0    0    0    0\n",
      "    0    0    0    0    0    0    0    0    0    0    0    0    0    0\n",
      "    0    0    0    0    0    0    0    0    0    0    0    0    0    0\n",
      "    0    0    0    0]\n",
      "256\n"
     ]
    }
   ],
   "source": [
    "print(X_train_enc[1])\n",
    "print(len(X_train_enc[1]))"
   ]
  },
  {
   "cell_type": "markdown",
   "metadata": {
    "colab_type": "text",
    "id": "F1zcxFwNGepA"
   },
   "source": [
    "Now we want to build the neural network model. We  are going to have a hidden layer with 16 hidden units. \n",
    "\n",
    "First, we want to transform each index to an embedded vector and then average all vectors to a single one. It has been showed that unweighted average of word vectors outperforms many complicated networks that model semantic and syntactic compositionality. As an example you can take a look at this: (http://anthology.aclweb.org/P/P15/P15-1162.pdf)\n",
    "\n",
    "To average we need to ignore padded zeros:"
   ]
  },
  {
   "cell_type": "code",
   "execution_count": 15,
   "metadata": {
    "colab": {},
    "colab_type": "code",
    "id": "Yi04MLIvJOGZ"
   },
   "outputs": [],
   "source": [
    "class GlobalAveragePooling1DMasked(GlobalAveragePooling1D):\n",
    "    def call(self, x, mask=None):\n",
    "        if mask != None:\n",
    "            return K.sum(x, axis=1) / K.sum(mask, axis=1)\n",
    "        else:\n",
    "            return super().call(x)\n"
   ]
  },
  {
   "cell_type": "markdown",
   "metadata": {
    "colab_type": "text",
    "id": "whgIIB5ggjna"
   },
   "source": [
    "### Neural Network model using one-hot vectors"
   ]
  },
  {
   "cell_type": "markdown",
   "metadata": {
    "colab_type": "text",
    "id": "jlOLnlnSJgrU"
   },
   "source": [
    "The first layer is an one-hot layer. The second layer is to compute average on all word vectors in a sentence without considering padding. The  output vector is piped through a fully-connected layer. The last layer is connected with a single output node with the sigmoid activation function. The final value is a float between 0 and 1. \n",
    "The vocabulary count of the movie reviews (10000) is used as the input shape. At the end we visualize the model summary."
   ]
  },
  {
   "cell_type": "code",
   "execution_count": 15,
   "metadata": {
    "colab": {
     "base_uri": "https://localhost:8080/",
     "height": 272
    },
    "colab_type": "code",
    "id": "_Pn83gBbxiK7",
    "outputId": "d6e6f950-8e0a-41f9-f928-a55ade3c2fdc"
   },
   "outputs": [
    {
     "name": "stdout",
     "output_type": "stream",
     "text": [
      "_________________________________________________________________\n",
      "Layer (type)                 Output Shape              Param #   \n",
      "=================================================================\n",
      "lambda_1 (Lambda)            (None, 256, 10000)        0         \n",
      "_________________________________________________________________\n",
      "global_average_pooling1d_mas (None, 10000)             0         \n",
      "_________________________________________________________________\n",
      "dense_1 (Dense)              (None, 16)                160016    \n",
      "_________________________________________________________________\n",
      "dense_2 (Dense)              (None, 1)                 17        \n",
      "=================================================================\n",
      "Total params: 160,033\n",
      "Trainable params: 160,033\n",
      "Non-trainable params: 0\n",
      "_________________________________________________________________\n"
     ]
    }
   ],
   "source": [
    "# put your code here\n",
    "model = Sequential()\n",
    "model.add(OneHot(VOCAB_SIZE,MAX_SEQUENCE_LENGTH))\n",
    "model.add(GlobalAveragePooling1DMasked())\n",
    "#model.add(GlobalAveragePooling1D())\n",
    "model.add(Dense(16, activation='relu'))\n",
    "model.add(Dense(1, activation='sigmoid'))\n"
   ]
  },
  {
   "cell_type": "markdown",
   "metadata": {},
   "source": [
    "## PartB Q1: Model Summary"
   ]
  },
  {
   "cell_type": "code",
   "execution_count": 20,
   "metadata": {},
   "outputs": [
    {
     "name": "stdout",
     "output_type": "stream",
     "text": [
      "_________________________________________________________________\n",
      "Layer (type)                 Output Shape              Param #   \n",
      "=================================================================\n",
      "lambda_1 (Lambda)            (None, 256, 10000)        0         \n",
      "_________________________________________________________________\n",
      "global_average_pooling1d_mas (None, 10000)             0         \n",
      "_________________________________________________________________\n",
      "dense_1 (Dense)              (None, 16)                160016    \n",
      "_________________________________________________________________\n",
      "dense_2 (Dense)              (None, 1)                 17        \n",
      "=================================================================\n",
      "Total params: 160,033\n",
      "Trainable params: 160,033\n",
      "Non-trainable params: 0\n",
      "_________________________________________________________________\n"
     ]
    }
   ],
   "source": [
    "model.summary()"
   ]
  },
  {
   "cell_type": "markdown",
   "metadata": {
    "colab_type": "text",
    "id": "_Mz96xpCgvTj"
   },
   "source": [
    "### Training the model"
   ]
  },
  {
   "cell_type": "markdown",
   "metadata": {
    "colab_type": "text",
    "id": "F3HbW_IKLqwT"
   },
   "source": [
    "To compile the model we need a loss function and an optimizer. We use binary_crossentropy loss function which is just a special case of categorical cross entropy. We also use Adam optimizer that can be used instead of the classical stochastic gradient descent procedure to update network weights iterative based in training data. You can read more about it here:\n",
    "(https://arxiv.org/abs/1412.6980v8\n",
    ")\n"
   ]
  },
  {
   "cell_type": "code",
   "execution_count": 16,
   "metadata": {
    "colab": {},
    "colab_type": "code",
    "id": "qh1PWTNMxjUw"
   },
   "outputs": [],
   "source": [
    "model.compile(optimizer='adam',\n",
    "              loss='binary_crossentropy',\n",
    "              metrics=['accuracy'])"
   ]
  },
  {
   "cell_type": "markdown",
   "metadata": {
    "colab_type": "text",
    "id": "E1jwQQqCN5Ia"
   },
   "source": [
    "When training, we want to check the accuracy of the model on data it hasn't seen before. So we create a validation set:"
   ]
  },
  {
   "cell_type": "code",
   "execution_count": 7,
   "metadata": {
    "colab": {},
    "colab_type": "code",
    "id": "f5lAqzQlxjSM"
   },
   "outputs": [],
   "source": [
    "X_val = np.array(X_train_enc[:10000])\n",
    "partial_X_train = np.array(X_train_enc[10000:])\n",
    "\n",
    "y_val = np.array(y_train[:10000])\n",
    "partial_y_train = np.array(y_train[10000:])"
   ]
  },
  {
   "cell_type": "markdown",
   "metadata": {
    "colab_type": "text",
    "id": "E8Kpo5G3OJEY"
   },
   "source": [
    "Then we start to train the model for 40 epochs in mini-batches of 512 samples and monitor the model's loss and accuracy on the validation set.\n",
    "### N.B. Batch size reduced to 32 to fit on my GPU's memory"
   ]
  },
  {
   "cell_type": "code",
   "execution_count": 19,
   "metadata": {
    "colab": {
     "base_uri": "https://localhost:8080/",
     "height": 1394
    },
    "colab_type": "code",
    "id": "99_z39KAxjPi",
    "outputId": "57e8193a-15ff-4868-e1d5-f72ae61014fe"
   },
   "outputs": [
    {
     "name": "stdout",
     "output_type": "stream",
     "text": [
      "Train on 15000 samples, validate on 10000 samples\n",
      "Epoch 1/40\n",
      "15000/15000 [==============================] - 40s 3ms/step - loss: 0.6869 - acc: 0.5899 - val_loss: 0.6775 - val_acc: 0.6797\n",
      "Epoch 2/40\n",
      "15000/15000 [==============================] - 41s 3ms/step - loss: 0.6622 - acc: 0.6788 - val_loss: 0.6482 - val_acc: 0.6971\n",
      "Epoch 3/40\n",
      "15000/15000 [==============================] - 41s 3ms/step - loss: 0.6283 - acc: 0.7056 - val_loss: 0.6153 - val_acc: 0.7105\n",
      "Epoch 4/40\n",
      "15000/15000 [==============================] - 40s 3ms/step - loss: 0.5968 - acc: 0.7193 - val_loss: 0.5884 - val_acc: 0.7214\n",
      "Epoch 5/40\n",
      "15000/15000 [==============================] - 40s 3ms/step - loss: 0.5729 - acc: 0.7301 - val_loss: 0.5691 - val_acc: 0.7233\n",
      "Epoch 6/40\n",
      "15000/15000 [==============================] - 41s 3ms/step - loss: 0.5541 - acc: 0.7387 - val_loss: 0.5529 - val_acc: 0.7392\n",
      "Epoch 7/40\n",
      "15000/15000 [==============================] - 40s 3ms/step - loss: 0.5410 - acc: 0.7446 - val_loss: 0.5427 - val_acc: 0.7420\n",
      "Epoch 8/40\n",
      "15000/15000 [==============================] - 40s 3ms/step - loss: 0.5310 - acc: 0.7471 - val_loss: 0.5338 - val_acc: 0.7473\n",
      "Epoch 9/40\n",
      "15000/15000 [==============================] - 40s 3ms/step - loss: 0.5236 - acc: 0.7513 - val_loss: 0.5288 - val_acc: 0.7458\n",
      "Epoch 10/40\n",
      "15000/15000 [==============================] - 40s 3ms/step - loss: 0.5186 - acc: 0.7541 - val_loss: 0.5244 - val_acc: 0.7468\n",
      "Epoch 11/40\n",
      "15000/15000 [==============================] - 39s 3ms/step - loss: 0.5146 - acc: 0.7553 - val_loss: 0.5213 - val_acc: 0.7495\n",
      "Epoch 12/40\n",
      "15000/15000 [==============================] - 41s 3ms/step - loss: 0.5119 - acc: 0.7539 - val_loss: 0.5191 - val_acc: 0.7500\n",
      "Epoch 13/40\n",
      "15000/15000 [==============================] - 41s 3ms/step - loss: 0.5096 - acc: 0.7566 - val_loss: 0.5211 - val_acc: 0.7440\n",
      "Epoch 14/40\n",
      "15000/15000 [==============================] - 40s 3ms/step - loss: 0.5084 - acc: 0.7571 - val_loss: 0.5170 - val_acc: 0.7500\n",
      "Epoch 15/40\n",
      "15000/15000 [==============================] - 40s 3ms/step - loss: 0.5068 - acc: 0.7581 - val_loss: 0.5156 - val_acc: 0.7516\n",
      "Epoch 16/40\n",
      "15000/15000 [==============================] - 40s 3ms/step - loss: 0.5059 - acc: 0.7574 - val_loss: 0.5153 - val_acc: 0.7514\n",
      "Epoch 17/40\n",
      "15000/15000 [==============================] - 41s 3ms/step - loss: 0.5052 - acc: 0.7579 - val_loss: 0.5185 - val_acc: 0.7511\n",
      "Epoch 18/40\n",
      "15000/15000 [==============================] - 40s 3ms/step - loss: 0.5047 - acc: 0.7590 - val_loss: 0.5153 - val_acc: 0.7544\n",
      "Epoch 19/40\n",
      "15000/15000 [==============================] - 41s 3ms/step - loss: 0.5040 - acc: 0.7581 - val_loss: 0.5143 - val_acc: 0.7525\n",
      "Epoch 20/40\n",
      "15000/15000 [==============================] - 40s 3ms/step - loss: 0.5032 - acc: 0.7589 - val_loss: 0.5210 - val_acc: 0.7437\n",
      "Epoch 21/40\n",
      "15000/15000 [==============================] - 40s 3ms/step - loss: 0.5035 - acc: 0.7563 - val_loss: 0.5156 - val_acc: 0.7546\n",
      "Epoch 22/40\n",
      "15000/15000 [==============================] - 40s 3ms/step - loss: 0.5029 - acc: 0.7588 - val_loss: 0.5150 - val_acc: 0.7503\n",
      "Epoch 23/40\n",
      "15000/15000 [==============================] - 40s 3ms/step - loss: 0.5029 - acc: 0.7560 - val_loss: 0.5140 - val_acc: 0.7529\n",
      "Epoch 24/40\n",
      "15000/15000 [==============================] - 42s 3ms/step - loss: 0.5027 - acc: 0.7563 - val_loss: 0.5139 - val_acc: 0.7539\n",
      "Epoch 25/40\n",
      "15000/15000 [==============================] - 40s 3ms/step - loss: 0.5024 - acc: 0.7575 - val_loss: 0.5143 - val_acc: 0.7545\n",
      "Epoch 26/40\n",
      "15000/15000 [==============================] - 40s 3ms/step - loss: 0.5020 - acc: 0.7589 - val_loss: 0.5138 - val_acc: 0.7534\n",
      "Epoch 27/40\n",
      "15000/15000 [==============================] - 41s 3ms/step - loss: 0.5025 - acc: 0.7565 - val_loss: 0.5139 - val_acc: 0.7544\n",
      "Epoch 28/40\n",
      "15000/15000 [==============================] - 40s 3ms/step - loss: 0.5023 - acc: 0.7590 - val_loss: 0.5140 - val_acc: 0.7530\n",
      "Epoch 29/40\n",
      "15000/15000 [==============================] - 40s 3ms/step - loss: 0.5018 - acc: 0.7582 - val_loss: 0.5156 - val_acc: 0.7505\n",
      "Epoch 30/40\n",
      "15000/15000 [==============================] - 39s 3ms/step - loss: 0.5018 - acc: 0.7571 - val_loss: 0.5149 - val_acc: 0.7517\n",
      "Epoch 31/40\n",
      "15000/15000 [==============================] - 39s 3ms/step - loss: 0.5011 - acc: 0.7590 - val_loss: 0.5135 - val_acc: 0.7542\n",
      "Epoch 32/40\n",
      "15000/15000 [==============================] - 40s 3ms/step - loss: 0.5005 - acc: 0.7568 - val_loss: 0.5156 - val_acc: 0.7508\n",
      "Epoch 33/40\n",
      "15000/15000 [==============================] - 40s 3ms/step - loss: 0.4998 - acc: 0.7603 - val_loss: 0.5118 - val_acc: 0.7538\n",
      "Epoch 34/40\n",
      "15000/15000 [==============================] - 41s 3ms/step - loss: 0.4991 - acc: 0.7589 - val_loss: 0.5136 - val_acc: 0.7517\n",
      "Epoch 35/40\n",
      "15000/15000 [==============================] - 40s 3ms/step - loss: 0.4987 - acc: 0.7605 - val_loss: 0.5109 - val_acc: 0.7532\n",
      "Epoch 36/40\n",
      "15000/15000 [==============================] - 39s 3ms/step - loss: 0.4985 - acc: 0.7585 - val_loss: 0.5124 - val_acc: 0.7510\n",
      "Epoch 37/40\n",
      "15000/15000 [==============================] - 40s 3ms/step - loss: 0.4983 - acc: 0.7592 - val_loss: 0.5102 - val_acc: 0.7524\n",
      "Epoch 38/40\n",
      "15000/15000 [==============================] - 40s 3ms/step - loss: 0.4970 - acc: 0.7597 - val_loss: 0.5122 - val_acc: 0.7507\n",
      "Epoch 39/40\n",
      "15000/15000 [==============================] - 40s 3ms/step - loss: 0.4971 - acc: 0.7589 - val_loss: 0.5096 - val_acc: 0.7516\n",
      "Epoch 40/40\n",
      "15000/15000 [==============================] - 40s 3ms/step - loss: 0.4961 - acc: 0.7619 - val_loss: 0.5094 - val_acc: 0.7535\n"
     ]
    }
   ],
   "source": [
    "history = model.fit(partial_X_train,\n",
    "                    partial_y_train,\n",
    "                    epochs=40,\n",
    "                    batch_size=32,\n",
    "                    validation_data=(X_val, y_val),\n",
    "                    verbose=1)"
   ]
  },
  {
   "cell_type": "markdown",
   "metadata": {
    "colab_type": "text",
    "id": "i_9a_rybhG5J"
   },
   "source": [
    "### Evaluating the model"
   ]
  },
  {
   "cell_type": "markdown",
   "metadata": {
    "colab_type": "text",
    "id": "EYLH8kOgOo9W"
   },
   "source": [
    "To evaulate the model on test data:"
   ]
  },
  {
   "cell_type": "code",
   "execution_count": 21,
   "metadata": {
    "colab": {
     "base_uri": "https://localhost:8080/",
     "height": 34
    },
    "colab_type": "code",
    "id": "CFMt2Q7b3taP",
    "outputId": "fd4add12-baaf-45d1-ca61-7aa222ce5a62"
   },
   "outputs": [
    {
     "name": "stdout",
     "output_type": "stream",
     "text": [
      "25000/25000 [==============================] - 41s 2ms/step\n"
     ]
    }
   ],
   "source": [
    "results = model.evaluate(X_test_enc, y_test)"
   ]
  },
  {
   "cell_type": "code",
   "execution_count": 22,
   "metadata": {
    "colab": {
     "base_uri": "https://localhost:8080/",
     "height": 34
    },
    "colab_type": "code",
    "id": "9RrKiPHcAmQU",
    "outputId": "7dceab60-c2c3-4db1-c72a-d2dd1cda03ec"
   },
   "outputs": [
    {
     "name": "stdout",
     "output_type": "stream",
     "text": [
      "[0.5106474744510651, 0.7512]\n"
     ]
    }
   ],
   "source": [
    "print(results)\n",
    "# loss, accuracay "
   ]
  },
  {
   "cell_type": "markdown",
   "metadata": {
    "colab_type": "text",
    "id": "pW7IpHxMO6qp"
   },
   "source": [
    "Our first model accuracy using one-hot vectors is \n",
    "\n",
    "\n",
    "\n"
   ]
  },
  {
   "cell_type": "markdown",
   "metadata": {
    "colab_type": "text",
    "id": "OwZk_yoWhPJB"
   },
   "source": [
    "## PartB Q1: The accuracy graph"
   ]
  },
  {
   "cell_type": "markdown",
   "metadata": {
    "colab_type": "text",
    "id": "JIDPH1J7PMzN"
   },
   "source": [
    "To plot a graph of accuracy and loss over time we can use Matplotlib:"
   ]
  },
  {
   "cell_type": "code",
   "execution_count": 25,
   "metadata": {
    "colab": {
     "base_uri": "https://localhost:8080/",
     "height": 376
    },
    "colab_type": "code",
    "id": "LS9k2vvSAqB7",
    "outputId": "8b292455-8672-4dcb-f931-6ebcd04db983"
   },
   "outputs": [
    {
     "data": {
      "image/png": "[encoded data removed]",
      "text/plain": [
       "<Figure size 432x288 with 1 Axes>"
      ]
     },
     "metadata": {
      "needs_background": "light"
     },
     "output_type": "display_data"
    }
   ],
   "source": [
    "import matplotlib.pyplot as plt\n",
    "\n",
    "history_dict = history.history\n",
    "\n",
    "acc = history_dict['acc']\n",
    "val_acc = history_dict['val_acc']\n",
    "loss = history_dict['loss']\n",
    "val_loss = history_dict['val_loss']\n",
    "\n",
    "epochs = range(1, len(acc) + 1)\n",
    "\n",
    "plt.plot(epochs, acc, 'bo', label='Training acc')\n",
    "plt.plot(epochs, val_acc, 'b', label='Validation acc')\n",
    "plt.title('Training and validation accuracy')\n",
    "plt.xlabel('Epochs')\n",
    "plt.ylabel('Accuracy')\n",
    "plt.legend()\n",
    "\n",
    "plt.show()"
   ]
  },
  {
   "cell_type": "markdown",
   "metadata": {
    "colab_type": "text",
    "id": "a7OwOQw4h8RX"
   },
   "source": [
    "### Neural Network model using word embeddings"
   ]
  },
  {
   "cell_type": "markdown",
   "metadata": {
    "colab_type": "text",
    "id": "l-QzOMO_P4jc"
   },
   "source": [
    "Now instead of one-hot vectors, we want to use embedding. We change our first layer in model1 to an Embedding layer. This layer takes the integer-encoded vocabulary and looks up the embedding vector for each word-index. These vectors are learned as the model trains. The vectors add a dimension to the output array. The resulting dimensions are: (batch, sequence, embedding).\n",
    "\n",
    "N.B. I have reduced batch size and number of epochs as my laptop runs into memory issues. "
   ]
  },
  {
   "cell_type": "code",
   "execution_count": 26,
   "metadata": {
    "colab": {
     "base_uri": "https://localhost:8080/",
     "height": 1683
    },
    "colab_type": "code",
    "id": "MFrCsL-NBFVL",
    "outputId": "382afaa0-3c6f-4089-ac46-18cc1366614e"
   },
   "outputs": [
    {
     "name": "stdout",
     "output_type": "stream",
     "text": [
      "_________________________________________________________________\n",
      "Layer (type)                 Output Shape              Param #   \n",
      "=================================================================\n",
      "embedding_2 (Embedding)      (None, 256, 300)          3000000   \n",
      "_________________________________________________________________\n",
      "global_average_pooling1d_mas (None, 300)               0         \n",
      "_________________________________________________________________\n",
      "dense_5 (Dense)              (None, 16)                4816      \n",
      "_________________________________________________________________\n",
      "dense_6 (Dense)              (None, 1)                 17        \n",
      "=================================================================\n",
      "Total params: 3,004,833\n",
      "Trainable params: 3,004,833\n",
      "Non-trainable params: 0\n",
      "_________________________________________________________________\n",
      "Train on 15000 samples, validate on 10000 samples\n",
      "Epoch 1/20\n",
      "15000/15000 [==============================] - 7s 435us/step - loss: 0.5436 - acc: 0.7488 - val_loss: 0.3505 - val_acc: 0.8660\n",
      "Epoch 2/20\n",
      "15000/15000 [==============================] - 6s 415us/step - loss: 0.2706 - acc: 0.8945 - val_loss: 0.2916 - val_acc: 0.8775\n",
      "Epoch 3/20\n",
      "15000/15000 [==============================] - 6s 415us/step - loss: 0.1895 - acc: 0.9305 - val_loss: 0.2947 - val_acc: 0.8789\n",
      "Epoch 4/20\n",
      "15000/15000 [==============================] - 7s 436us/step - loss: 0.1434 - acc: 0.9522 - val_loss: 0.3073 - val_acc: 0.8774\n",
      "Epoch 5/20\n",
      "15000/15000 [==============================] - 7s 443us/step - loss: 0.1104 - acc: 0.9657 - val_loss: 0.3347 - val_acc: 0.8765\n",
      "Epoch 6/20\n",
      "15000/15000 [==============================] - 6s 410us/step - loss: 0.0828 - acc: 0.9768 - val_loss: 0.3650 - val_acc: 0.8750\n",
      "Epoch 7/20\n",
      "15000/15000 [==============================] - 6s 410us/step - loss: 0.0635 - acc: 0.9836 - val_loss: 0.4033 - val_acc: 0.8740\n",
      "Epoch 8/20\n",
      "15000/15000 [==============================] - 6s 405us/step - loss: 0.0468 - acc: 0.9897 - val_loss: 0.4454 - val_acc: 0.8710\n",
      "Epoch 9/20\n",
      "15000/15000 [==============================] - 6s 412us/step - loss: 0.0354 - acc: 0.9926 - val_loss: 0.5042 - val_acc: 0.8640\n",
      "Epoch 10/20\n",
      "15000/15000 [==============================] - 7s 436us/step - loss: 0.0274 - acc: 0.9949 - val_loss: 0.5385 - val_acc: 0.8636\n",
      "Epoch 11/20\n",
      "15000/15000 [==============================] - 6s 417us/step - loss: 0.0198 - acc: 0.9970 - val_loss: 0.5816 - val_acc: 0.8634\n",
      "Epoch 12/20\n",
      "15000/15000 [==============================] - 6s 415us/step - loss: 0.0142 - acc: 0.9980 - val_loss: 0.6244 - val_acc: 0.8610\n",
      "Epoch 13/20\n",
      "15000/15000 [==============================] - 6s 420us/step - loss: 0.0106 - acc: 0.9988 - val_loss: 0.6692 - val_acc: 0.8611\n",
      "Epoch 14/20\n",
      "15000/15000 [==============================] - 6s 409us/step - loss: 0.0071 - acc: 0.9995 - val_loss: 0.7191 - val_acc: 0.8595\n",
      "Epoch 15/20\n",
      "15000/15000 [==============================] - 6s 409us/step - loss: 0.0048 - acc: 0.9999 - val_loss: 0.7416 - val_acc: 0.8596\n",
      "Epoch 16/20\n",
      "15000/15000 [==============================] - 7s 436us/step - loss: 0.0034 - acc: 0.9997 - val_loss: 0.7755 - val_acc: 0.8594\n",
      "Epoch 17/20\n",
      "15000/15000 [==============================] - 6s 406us/step - loss: 0.0024 - acc: 0.9999 - val_loss: 0.8112 - val_acc: 0.8578\n",
      "Epoch 18/20\n",
      "15000/15000 [==============================] - 6s 429us/step - loss: 0.0019 - acc: 0.9999 - val_loss: 0.8355 - val_acc: 0.8582\n",
      "Epoch 19/20\n",
      "15000/15000 [==============================] - 6s 422us/step - loss: 0.0017 - acc: 0.9999 - val_loss: 0.8747 - val_acc: 0.8539\n",
      "Epoch 20/20\n",
      "15000/15000 [==============================] - 6s 409us/step - loss: 0.0016 - acc: 0.9999 - val_loss: 0.8857 - val_acc: 0.8565\n",
      "25000/25000 [==============================] - 2s 67us/step\n",
      "[0.9491539215886593, 0.84404]\n"
     ]
    }
   ],
   "source": [
    "VOCAB_SIZE= 10000\n",
    "\n",
    "# put the code here\n",
    "model2 = Sequential()\n",
    "model2.add(Embedding(VOCAB_SIZE, 300,input_length=MAX_SEQUENCE_LENGTH))\n",
    "model2.add(GlobalAveragePooling1DMasked())\n",
    "#model2.add(GlobalAveragePooling1D())\n",
    "model2.add(Dense(16, activation='relu'))\n",
    "model2.add(Dense(1, activation='sigmoid'))\n",
    "model2.summary()\n",
    "\n",
    "model2.compile(optimizer='adam',\n",
    "              loss='binary_crossentropy',\n",
    "              metrics=['accuracy'])\n",
    "\n",
    "X_val = np.array(X_train_enc[:10000])\n",
    "partial_X_train = np.array(X_train_enc[10000:])\n",
    "\n",
    "history2 = model2.fit(partial_X_train,\n",
    "                    partial_y_train,\n",
    "                    epochs=20,\n",
    "                    batch_size=64,\n",
    "                    validation_data=(X_val, y_val),\n",
    "                    verbose=1)\n",
    "\n",
    "results = model2.evaluate(X_test_enc, y_test)\n",
    "print(results)"
   ]
  },
  {
   "cell_type": "code",
   "execution_count": 27,
   "metadata": {
    "colab": {
     "base_uri": "https://localhost:8080/",
     "height": 34
    },
    "colab_type": "code",
    "id": "I4zIPJDcTPq3",
    "outputId": "6bbb65d5-cb08-431a-b95a-9ad30f5d0712"
   },
   "outputs": [
    {
     "name": "stdout",
     "output_type": "stream",
     "text": [
      "25000/25000 [==============================] - 2s 66us/step\n"
     ]
    }
   ],
   "source": [
    "results = model2.evaluate(X_test_enc, y_test)"
   ]
  },
  {
   "cell_type": "code",
   "execution_count": 28,
   "metadata": {
    "colab": {
     "base_uri": "https://localhost:8080/",
     "height": 34
    },
    "colab_type": "code",
    "id": "waS96edDTRyL",
    "outputId": "4212ea31-bdab-4520-8398-b19b9dddc3f1"
   },
   "outputs": [
    {
     "name": "stdout",
     "output_type": "stream",
     "text": [
      "[0.9491539215886593, 0.84404]\n"
     ]
    }
   ],
   "source": [
    "print (results)"
   ]
  },
  {
   "cell_type": "code",
   "execution_count": 29,
   "metadata": {
    "colab": {
     "base_uri": "https://localhost:8080/",
     "height": 376
    },
    "colab_type": "code",
    "id": "XB7aveVzTC5a",
    "outputId": "b0ff35d1-b09a-494d-a9e5-30682d8f7310"
   },
   "outputs": [
    {
     "data": {
      "image/png": "[encoded data removed]",
      "text/plain": [
       "<Figure size 432x288 with 1 Axes>"
      ]
     },
     "metadata": {
      "needs_background": "light"
     },
     "output_type": "display_data"
    }
   ],
   "source": [
    "import matplotlib.pyplot as plt\n",
    "\n",
    "history_dict = history2.history\n",
    "\n",
    "acc = history_dict['acc']\n",
    "val_acc = history_dict['val_acc']\n",
    "loss = history_dict['loss']\n",
    "val_loss = history_dict['val_loss']\n",
    "\n",
    "epochs = range(1, len(acc) + 1)\n",
    "\n",
    "plt.plot(epochs, acc, 'bo', label='Training acc')\n",
    "plt.plot(epochs, val_acc, 'b', label='Validation acc')\n",
    "plt.title('Training and validation accuracy')\n",
    "plt.xlabel('Epochs')\n",
    "plt.ylabel('Accuracy')\n",
    "plt.legend()\n",
    "\n",
    "plt.show()"
   ]
  },
  {
   "cell_type": "markdown",
   "metadata": {
    "colab_type": "text",
    "id": "7FBpTc_rXGvQ"
   },
   "source": [
    "The best validation accuracy of model2 is 88%. Using Embedding layer instead of one-hot layer improved the performance."
   ]
  },
  {
   "cell_type": "markdown",
   "metadata": {
    "colab_type": "text",
    "id": "--020hfG6rN2"
   },
   "source": [
    "## Part B Q2: Using pre-trained word embeddings\n",
    "Rather than using the embeddings learnt from Part A I have used the Glove embeddings as advised by the demonstrator. "
   ]
  },
  {
   "cell_type": "markdown",
   "metadata": {
    "colab_type": "text",
    "id": "J4gBeOyi4gkM"
   },
   "source": [
    "The Embedding layer can be used to load a pre-trained word embedding model. We are going to use GloVe embeddings, which you can read about it here (https://nlp.stanford.edu/projects/glove/). GloVe stands for \"Global Vectors for Word Representation\". It's a somewhat popular embedding technique based on factorizing a matrix of word co-occurence statistics. You can download GloVe and we can seed the Keras Embedding layer with weights from the pre-trained embedding for the words in your dataset.\n",
    "First, we need to read GloVe and map words to GloVe:\n"
   ]
  },
  {
   "cell_type": "code",
   "execution_count": 10,
   "metadata": {
    "colab": {},
    "colab_type": "code",
    "id": "f_PypdqG9Iis"
   },
   "outputs": [],
   "source": [
    "def readGloveFile(gloveFile):\n",
    "    with open(gloveFile, 'r') as f:\n",
    "        wordToGlove = {}  \n",
    "        wordToIndex = {}  \n",
    "        indexToWord = {}  \n",
    "\n",
    "        for line in f:\n",
    "            record = line.strip().split()\n",
    "            token = record[0] \n",
    "            wordToGlove[token] = np.array(record[1:], dtype=np.float64) \n",
    "            \n",
    "        tokens = sorted(wordToGlove.keys())\n",
    "        for idx, tok in enumerate(tokens):\n",
    "            kerasIdx = idx + 1  \n",
    "            wordToIndex[tok] = kerasIdx \n",
    "            indexToWord[kerasIdx] = tok \n",
    "\n",
    "    return wordToIndex, indexToWord, wordToGlove"
   ]
  },
  {
   "cell_type": "markdown",
   "metadata": {
    "colab_type": "text",
    "id": "ZcIZ3dq59bCh"
   },
   "source": [
    "Now, we create our pre-trained Embedding layer:"
   ]
  },
  {
   "cell_type": "code",
   "execution_count": 11,
   "metadata": {
    "colab": {},
    "colab_type": "code",
    "id": "gembn7VM3ex8"
   },
   "outputs": [],
   "source": [
    "def createPretrainedEmbeddingLayer(wordToGlove, wordToIndex, isTrainable):\n",
    "    vocabLen = len(wordToIndex) + 1  \n",
    "    embDim = next(iter(wordToGlove.values())).shape[0]  \n",
    "   \n",
    "    embeddingMatrix = np.zeros((vocabLen, embDim))  \n",
    "    for word, index in wordToIndex.items():\n",
    "        embeddingMatrix[index, :] = wordToGlove[word] \n",
    "\n",
    "    embeddingLayer = Embedding(vocabLen, embDim, embeddings_initializer=Constant(embeddingMatrix), trainable=isTrainable)\n",
    "    return embeddingLayer"
   ]
  },
  {
   "cell_type": "markdown",
   "metadata": {
    "colab_type": "text",
    "id": "HGxciLK4-xOr"
   },
   "source": [
    "We freeze the weights. To create the model:"
   ]
  },
  {
   "cell_type": "code",
   "execution_count": null,
   "metadata": {
    "colab": {
     "base_uri": "https://localhost:8080/",
     "height": 72,
     "resources": {
      "http://localhost:8080/nbextensions/google.colab/files.js": {
       "data": "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",
       "headers": [
        [
         "content-type",
         "application/javascript"
        ]
       ],
       "ok": true,
       "status": 200,
       "status_text": ""
      }
     }
    },
    "colab_type": "code",
    "id": "_5u8VGBvSDZF",
    "outputId": "c40c3630-d0b4-45b6-ccd2-2117b77c5c1c"
   },
   "outputs": [],
   "source": []
  },
  {
   "cell_type": "code",
   "execution_count": 12,
   "metadata": {
    "colab": {
     "base_uri": "https://localhost:8080/",
     "height": 299
    },
    "colab_type": "code",
    "id": "PZCPUM0W_Drc",
    "outputId": "66bef8d0-285b-4f75-98d8-9d1dfab9671e"
   },
   "outputs": [],
   "source": [
    "# put the code here\n",
    "# Glove file was downloaded from here: https://nlp.stanford.edu/projects/glove/\n",
    "wordToIndex, indexToWord, wordToGlove = readGloveFile('glove.6B.50d.txt')\n"
   ]
  },
  {
   "cell_type": "code",
   "execution_count": null,
   "metadata": {},
   "outputs": [],
   "source": [
    "myembeddingLayer = createPretrainedEmbeddingLayer(wordToGlove, wordToIndex, False)"
   ]
  },
  {
   "cell_type": "code",
   "execution_count": 22,
   "metadata": {
    "colab": {},
    "colab_type": "code",
    "id": "XQorY4m4SB1a"
   },
   "outputs": [
    {
     "name": "stdout",
     "output_type": "stream",
     "text": [
      "_________________________________________________________________\n",
      "Layer (type)                 Output Shape              Param #   \n",
      "=================================================================\n",
      "embedding_1 (Embedding)      (None, None, 50)          20000050  \n",
      "_________________________________________________________________\n",
      "global_average_pooling1d_mas (None, 50)                0         \n",
      "_________________________________________________________________\n",
      "dense_5 (Dense)              (None, 16)                816       \n",
      "_________________________________________________________________\n",
      "dense_6 (Dense)              (None, 1)                 17        \n",
      "=================================================================\n",
      "Total params: 20,000,883\n",
      "Trainable params: 833\n",
      "Non-trainable params: 20,000,050\n",
      "_________________________________________________________________\n",
      "Train on 15000 samples, validate on 10000 samples\n",
      "Epoch 1/20\n",
      "15000/15000 [==============================] - 4s 289us/step - loss: 0.6890 - acc: 0.5410 - val_loss: 0.6851 - val_acc: 0.5594\n",
      "Epoch 2/20\n",
      "15000/15000 [==============================] - 1s 57us/step - loss: 0.6806 - acc: 0.5719 - val_loss: 0.6790 - val_acc: 0.5776\n",
      "Epoch 3/20\n",
      "15000/15000 [==============================] - 1s 54us/step - loss: 0.6750 - acc: 0.5792 - val_loss: 0.6747 - val_acc: 0.5854\n",
      "Epoch 4/20\n",
      "15000/15000 [==============================] - 1s 66us/step - loss: 0.6699 - acc: 0.5907 - val_loss: 0.6770 - val_acc: 0.5662\n",
      "Epoch 5/20\n",
      "15000/15000 [==============================] - 1s 58us/step - loss: 0.6668 - acc: 0.5972 - val_loss: 0.6692 - val_acc: 0.5880\n",
      "Epoch 6/20\n",
      "15000/15000 [==============================] - 1s 69us/step - loss: 0.6632 - acc: 0.6023 - val_loss: 0.6667 - val_acc: 0.5994\n",
      "Epoch 7/20\n",
      "15000/15000 [==============================] - 1s 57us/step - loss: 0.6608 - acc: 0.6067 - val_loss: 0.6643 - val_acc: 0.5995\n",
      "Epoch 8/20\n",
      "15000/15000 [==============================] - 1s 56us/step - loss: 0.6590 - acc: 0.6096 - val_loss: 0.6641 - val_acc: 0.5998\n",
      "Epoch 9/20\n",
      "15000/15000 [==============================] - 1s 58us/step - loss: 0.6575 - acc: 0.6107 - val_loss: 0.6627 - val_acc: 0.6008\n",
      "Epoch 10/20\n",
      "15000/15000 [==============================] - 1s 58us/step - loss: 0.6558 - acc: 0.6175 - val_loss: 0.6624 - val_acc: 0.6012\n",
      "Epoch 11/20\n",
      "15000/15000 [==============================] - 1s 56us/step - loss: 0.6545 - acc: 0.6173 - val_loss: 0.6624 - val_acc: 0.6005\n",
      "Epoch 12/20\n",
      "15000/15000 [==============================] - 1s 58us/step - loss: 0.6536 - acc: 0.6166 - val_loss: 0.6606 - val_acc: 0.6029\n",
      "Epoch 13/20\n",
      "15000/15000 [==============================] - 1s 65us/step - loss: 0.6531 - acc: 0.6172 - val_loss: 0.6599 - val_acc: 0.6040\n",
      "Epoch 14/20\n",
      "15000/15000 [==============================] - 1s 57us/step - loss: 0.6521 - acc: 0.6182 - val_loss: 0.6591 - val_acc: 0.6060\n",
      "Epoch 15/20\n",
      "15000/15000 [==============================] - 1s 57us/step - loss: 0.6520 - acc: 0.6193 - val_loss: 0.6591 - val_acc: 0.6030\n",
      "Epoch 16/20\n",
      "15000/15000 [==============================] - 1s 59us/step - loss: 0.6511 - acc: 0.6210 - val_loss: 0.6590 - val_acc: 0.6068\n",
      "Epoch 17/20\n",
      "15000/15000 [==============================] - 1s 56us/step - loss: 0.6503 - acc: 0.6217 - val_loss: 0.6592 - val_acc: 0.6029\n",
      "Epoch 18/20\n",
      "15000/15000 [==============================] - 1s 57us/step - loss: 0.6495 - acc: 0.6252 - val_loss: 0.6577 - val_acc: 0.6081\n",
      "Epoch 19/20\n",
      "15000/15000 [==============================] - 1s 58us/step - loss: 0.6487 - acc: 0.6245 - val_loss: 0.6595 - val_acc: 0.6064\n",
      "Epoch 20/20\n",
      "15000/15000 [==============================] - 1s 57us/step - loss: 0.6484 - acc: 0.6268 - val_loss: 0.6571 - val_acc: 0.6083\n",
      "25000/25000 [==============================] - 1s 35us/step\n",
      "[0.6501887453651428, 0.61976]\n"
     ]
    }
   ],
   "source": [
    "model3 = Sequential()\n",
    "model3.add(myembeddingLayer)\n",
    "model3.add(GlobalAveragePooling1DMasked())\n",
    "#model2.add(GlobalAveragePooling1D())\n",
    "model3.add(Dense(16, activation='relu'))\n",
    "model3.add(Dense(1, activation='sigmoid'))\n",
    "model3.summary()\n",
    "\n",
    "model3.compile(optimizer='adam',\n",
    "              loss='binary_crossentropy',\n",
    "              metrics=['accuracy'])\n",
    "\n",
    "X_val = np.array(X_train_enc[:10000])\n",
    "partial_X_train = np.array(X_train_enc[10000:])\n",
    "\n",
    "history3 = model3.fit(partial_X_train,\n",
    "                    partial_y_train,\n",
    "                    epochs=40,\n",
    "                    batch_size=64,\n",
    "                    validation_data=(X_val, y_val),\n",
    "                    verbose=1)\n",
    "\n",
    "results = model3.evaluate(X_test_enc, y_test)\n",
    "print(results)"
   ]
  },
  {
   "cell_type": "code",
   "execution_count": 24,
   "metadata": {},
   "outputs": [
    {
     "data": {
      "image/png": "[encoded data removed]",
      "text/plain": [
       "<Figure size 432x288 with 1 Axes>"
      ]
     },
     "metadata": {
      "needs_background": "light"
     },
     "output_type": "display_data"
    }
   ],
   "source": [
    "import matplotlib.pyplot as plt\n",
    "\n",
    "history_dict = history3.history\n",
    "\n",
    "acc = history_dict['acc']\n",
    "val_acc = history_dict['val_acc']\n",
    "loss = history_dict['loss']\n",
    "val_loss = history_dict['val_loss']\n",
    "\n",
    "epochs = range(1, len(acc) + 1)\n",
    "\n",
    "plt.plot(epochs, acc, 'bo', label='Training acc')\n",
    "plt.plot(epochs, val_acc, 'b', label='Validation acc')\n",
    "plt.title('Training and validation accuracy')\n",
    "plt.xlabel('Epochs')\n",
    "plt.ylabel('Accuracy')\n",
    "plt.legend()\n",
    "\n",
    "plt.show()"
   ]
  },
  {
   "cell_type": "markdown",
   "metadata": {},
   "source": [
    "## PartB Q3: Initialising with pretrained embeddings but training embeddings too\n",
    "In this section I unfreeze the embedding layer so it will also be trained. N.B. Number of epochs was reduced due to computational limitations. The embedding layers have around 20 million trainable parameters which make them slow to train. "
   ]
  },
  {
   "cell_type": "code",
   "execution_count": 13,
   "metadata": {},
   "outputs": [],
   "source": [
    "myTrainableEmbeddingLayer = createPretrainedEmbeddingLayer(wordToGlove, wordToIndex, True)"
   ]
  },
  {
   "cell_type": "code",
   "execution_count": 16,
   "metadata": {
    "colab": {},
    "colab_type": "code",
    "id": "XQorY4m4SB1a"
   },
   "outputs": [
    {
     "name": "stdout",
     "output_type": "stream",
     "text": [
      "_________________________________________________________________\n",
      "Layer (type)                 Output Shape              Param #   \n",
      "=================================================================\n",
      "embedding_1 (Embedding)      (None, None, 50)          20000050  \n",
      "_________________________________________________________________\n",
      "global_average_pooling1d_mas (None, 50)                0         \n",
      "_________________________________________________________________\n",
      "dense_1 (Dense)              (None, 16)                816       \n",
      "_________________________________________________________________\n",
      "dense_2 (Dense)              (None, 1)                 17        \n",
      "=================================================================\n",
      "Total params: 20,000,883\n",
      "Trainable params: 20,000,883\n",
      "Non-trainable params: 0\n",
      "_________________________________________________________________\n",
      "Train on 15000 samples, validate on 10000 samples\n",
      "Epoch 1/20\n",
      "15000/15000 [==============================] - 26s 2ms/step - loss: 0.6809 - acc: 0.5944 - val_loss: 0.6548 - val_acc: 0.6822\n",
      "Epoch 2/20\n",
      "15000/15000 [==============================] - 24s 2ms/step - loss: 0.5749 - acc: 0.7484 - val_loss: 0.4946 - val_acc: 0.7981\n",
      "Epoch 3/20\n",
      "15000/15000 [==============================] - 24s 2ms/step - loss: 0.4035 - acc: 0.8449 - val_loss: 0.3679 - val_acc: 0.8518\n",
      "Epoch 4/20\n",
      "15000/15000 [==============================] - 25s 2ms/step - loss: 0.3071 - acc: 0.8795 - val_loss: 0.3226 - val_acc: 0.8696\n",
      "Epoch 5/20\n",
      "15000/15000 [==============================] - 25s 2ms/step - loss: 0.2569 - acc: 0.9019 - val_loss: 0.3037 - val_acc: 0.8764\n",
      "Epoch 6/20\n",
      "15000/15000 [==============================] - 25s 2ms/step - loss: 0.2240 - acc: 0.9153 - val_loss: 0.2950 - val_acc: 0.8807\n",
      "Epoch 7/20\n",
      "15000/15000 [==============================] - 25s 2ms/step - loss: 0.1959 - acc: 0.9279 - val_loss: 0.2913 - val_acc: 0.8838\n",
      "Epoch 8/20\n",
      "15000/15000 [==============================] - 25s 2ms/step - loss: 0.1732 - acc: 0.9381 - val_loss: 0.2934 - val_acc: 0.8818\n",
      "Epoch 9/20\n",
      "15000/15000 [==============================] - 25s 2ms/step - loss: 0.1550 - acc: 0.9459 - val_loss: 0.3007 - val_acc: 0.8819\n",
      "Epoch 10/20\n",
      "15000/15000 [==============================] - 25s 2ms/step - loss: 0.1388 - acc: 0.9539 - val_loss: 0.3012 - val_acc: 0.8839\n",
      "Epoch 11/20\n",
      "15000/15000 [==============================] - 25s 2ms/step - loss: 0.1236 - acc: 0.9604 - val_loss: 0.3099 - val_acc: 0.8834\n",
      "Epoch 12/20\n",
      "15000/15000 [==============================] - 25s 2ms/step - loss: 0.1103 - acc: 0.9657 - val_loss: 0.3207 - val_acc: 0.8816\n",
      "Epoch 13/20\n",
      "15000/15000 [==============================] - 25s 2ms/step - loss: 0.0998 - acc: 0.9693 - val_loss: 0.3352 - val_acc: 0.8797\n",
      "Epoch 14/20\n",
      "15000/15000 [==============================] - 25s 2ms/step - loss: 0.0881 - acc: 0.9747 - val_loss: 0.3477 - val_acc: 0.8791\n",
      "Epoch 15/20\n",
      "15000/15000 [==============================] - 25s 2ms/step - loss: 0.0787 - acc: 0.9792 - val_loss: 0.3675 - val_acc: 0.8772\n",
      "Epoch 16/20\n",
      "15000/15000 [==============================] - 25s 2ms/step - loss: 0.0699 - acc: 0.9815 - val_loss: 0.3793 - val_acc: 0.8764\n",
      "Epoch 17/20\n",
      "15000/15000 [==============================] - 25s 2ms/step - loss: 0.0620 - acc: 0.9841 - val_loss: 0.3971 - val_acc: 0.8768\n",
      "Epoch 18/20\n",
      "15000/15000 [==============================] - 25s 2ms/step - loss: 0.0537 - acc: 0.9874 - val_loss: 0.4166 - val_acc: 0.8755\n",
      "Epoch 19/20\n",
      "15000/15000 [==============================] - 25s 2ms/step - loss: 0.0475 - acc: 0.9893 - val_loss: 0.4456 - val_acc: 0.8712\n",
      "Epoch 20/20\n",
      "15000/15000 [==============================] - 25s 2ms/step - loss: 0.0422 - acc: 0.9909 - val_loss: 0.4616 - val_acc: 0.8713\n",
      "25000/25000 [==============================] - 1s 47us/step\n",
      "[0.4961006179356575, 0.85732]\n"
     ]
    }
   ],
   "source": [
    "model5 = Sequential()\n",
    "model5.add(myTrainableEmbeddingLayer)\n",
    "model5.add(GlobalAveragePooling1DMasked())\n",
    "#model2.add(GlobalAveragePooling1D())\n",
    "model5.add(Dense(16, activation='relu'))\n",
    "model5.add(Dense(1, activation='sigmoid'))\n",
    "model5.summary()\n",
    "\n",
    "model5.compile(optimizer='adam',\n",
    "              loss='binary_crossentropy',\n",
    "              metrics=['accuracy'])\n",
    "\n",
    "history5 = model5.fit(partial_X_train,\n",
    "                    partial_y_train,\n",
    "                    epochs=20,\n",
    "                    batch_size=64,\n",
    "                    validation_data=(X_val, y_val),\n",
    "                    verbose=1)\n",
    "\n",
    "results = model5.evaluate(X_test_enc, y_test)\n",
    "print(results)"
   ]
  },
  {
   "cell_type": "code",
   "execution_count": 18,
   "metadata": {},
   "outputs": [
    {
     "data": {
      "image/png": "[encoded data removed]",
      "text/plain": [
       "<Figure size 432x288 with 1 Axes>"
      ]
     },
     "metadata": {
      "needs_background": "light"
     },
     "output_type": "display_data"
    }
   ],
   "source": [
    "import matplotlib.pyplot as plt\n",
    "\n",
    "history_dict = history5.history\n",
    "\n",
    "acc = history_dict['acc']\n",
    "val_acc = history_dict['val_acc']\n",
    "loss = history_dict['loss']\n",
    "val_loss = history_dict['val_loss']\n",
    "\n",
    "epochs = range(1, len(acc) + 1)\n",
    "\n",
    "plt.plot(epochs, acc, 'bo', label='Training acc')\n",
    "plt.plot(epochs, val_acc, 'b', label='Validation acc')\n",
    "plt.title('Training and validation accuracy')\n",
    "plt.xlabel('Epochs')\n",
    "plt.ylabel('Accuracy')\n",
    "plt.legend()\n",
    "\n",
    "plt.show()"
   ]
  },
  {
   "cell_type": "markdown",
   "metadata": {
    "colab_type": "text",
    "id": "M-bZ5SCHiIMl"
   },
   "source": [
    "## PartB Q4: Adding another hidden layer to the network"
   ]
  },
  {
   "cell_type": "markdown",
   "metadata": {
    "colab_type": "text",
    "id": "ZbZ6UBDfbjea"
   },
   "source": [
    "In model4, we only add another dense layer to see if that improves the performance. "
   ]
  },
  {
   "cell_type": "code",
   "execution_count": 27,
   "metadata": {
    "colab": {},
    "colab_type": "code",
    "id": "Vw0le1YjDdCa"
   },
   "outputs": [
    {
     "name": "stdout",
     "output_type": "stream",
     "text": [
      "_________________________________________________________________\n",
      "Layer (type)                 Output Shape              Param #   \n",
      "=================================================================\n",
      "embedding_1 (Embedding)      (None, None, 50)          20000050  \n",
      "_________________________________________________________________\n",
      "global_average_pooling1d_mas (None, 50)                0         \n",
      "_________________________________________________________________\n",
      "dense_10 (Dense)             (None, 16)                816       \n",
      "_________________________________________________________________\n",
      "dense_11 (Dense)             (None, 16)                272       \n",
      "_________________________________________________________________\n",
      "dense_12 (Dense)             (None, 1)                 17        \n",
      "=================================================================\n",
      "Total params: 20,001,155\n",
      "Trainable params: 1,105\n",
      "Non-trainable params: 20,000,050\n",
      "_________________________________________________________________\n",
      "Train on 15000 samples, validate on 10000 samples\n",
      "Epoch 1/40\n",
      "15000/15000 [==============================] - 1s 88us/step - loss: 0.6867 - acc: 0.5501 - val_loss: 0.6840 - val_acc: 0.5529\n",
      "Epoch 2/40\n",
      "15000/15000 [==============================] - 1s 64us/step - loss: 0.6768 - acc: 0.5781 - val_loss: 0.6735 - val_acc: 0.5836\n",
      "Epoch 3/40\n",
      "15000/15000 [==============================] - 1s 59us/step - loss: 0.6699 - acc: 0.5881 - val_loss: 0.6695 - val_acc: 0.5909\n",
      "Epoch 4/40\n",
      "15000/15000 [==============================] - 1s 68us/step - loss: 0.6633 - acc: 0.6018 - val_loss: 0.6724 - val_acc: 0.5846\n",
      "Epoch 5/40\n",
      "15000/15000 [==============================] - 1s 61us/step - loss: 0.6615 - acc: 0.6021 - val_loss: 0.6634 - val_acc: 0.5967\n",
      "Epoch 6/40\n",
      "15000/15000 [==============================] - 1s 61us/step - loss: 0.6571 - acc: 0.6141 - val_loss: 0.6638 - val_acc: 0.5992\n",
      "Epoch 7/40\n",
      "15000/15000 [==============================] - 1s 63us/step - loss: 0.6550 - acc: 0.6142 - val_loss: 0.6610 - val_acc: 0.6010\n",
      "Epoch 8/40\n",
      "15000/15000 [==============================] - 1s 62us/step - loss: 0.6532 - acc: 0.6179 - val_loss: 0.6707 - val_acc: 0.5879\n",
      "Epoch 9/40\n",
      "15000/15000 [==============================] - 1s 60us/step - loss: 0.6526 - acc: 0.6195 - val_loss: 0.6613 - val_acc: 0.6075\n",
      "Epoch 10/40\n",
      "15000/15000 [==============================] - 1s 62us/step - loss: 0.6513 - acc: 0.6212 - val_loss: 0.6580 - val_acc: 0.6074\n",
      "Epoch 11/40\n",
      "15000/15000 [==============================] - 1s 62us/step - loss: 0.6499 - acc: 0.6213 - val_loss: 0.6629 - val_acc: 0.5979\n",
      "Epoch 12/40\n",
      "15000/15000 [==============================] - 1s 63us/step - loss: 0.6509 - acc: 0.6189 - val_loss: 0.6561 - val_acc: 0.6110\n",
      "Epoch 13/40\n",
      "15000/15000 [==============================] - 1s 63us/step - loss: 0.6485 - acc: 0.6256 - val_loss: 0.6565 - val_acc: 0.6121\n",
      "Epoch 14/40\n",
      "15000/15000 [==============================] - 1s 62us/step - loss: 0.6470 - acc: 0.6275 - val_loss: 0.6554 - val_acc: 0.6108\n",
      "Epoch 15/40\n",
      "15000/15000 [==============================] - 1s 64us/step - loss: 0.6474 - acc: 0.6252 - val_loss: 0.6614 - val_acc: 0.5999\n",
      "Epoch 16/40\n",
      "15000/15000 [==============================] - 1s 61us/step - loss: 0.6458 - acc: 0.6291 - val_loss: 0.6545 - val_acc: 0.6103\n",
      "Epoch 17/40\n",
      "15000/15000 [==============================] - 1s 71us/step - loss: 0.6456 - acc: 0.6271 - val_loss: 0.6543 - val_acc: 0.6104\n",
      "Epoch 18/40\n",
      "15000/15000 [==============================] - 1s 61us/step - loss: 0.6443 - acc: 0.6305 - val_loss: 0.6544 - val_acc: 0.6161\n",
      "Epoch 19/40\n",
      "15000/15000 [==============================] - 1s 61us/step - loss: 0.6441 - acc: 0.6283 - val_loss: 0.6529 - val_acc: 0.6136\n",
      "Epoch 20/40\n",
      "15000/15000 [==============================] - 1s 69us/step - loss: 0.6443 - acc: 0.6322 - val_loss: 0.6576 - val_acc: 0.6047\n",
      "Epoch 21/40\n",
      "15000/15000 [==============================] - 1s 62us/step - loss: 0.6422 - acc: 0.6318 - val_loss: 0.6532 - val_acc: 0.6182\n",
      "Epoch 22/40\n",
      "15000/15000 [==============================] - 1s 59us/step - loss: 0.6432 - acc: 0.6299 - val_loss: 0.6524 - val_acc: 0.6167\n",
      "Epoch 23/40\n",
      "15000/15000 [==============================] - 1s 58us/step - loss: 0.6425 - acc: 0.6328 - val_loss: 0.6523 - val_acc: 0.6170\n",
      "Epoch 24/40\n",
      "15000/15000 [==============================] - 1s 60us/step - loss: 0.6422 - acc: 0.6318 - val_loss: 0.6525 - val_acc: 0.6188\n",
      "Epoch 25/40\n",
      "15000/15000 [==============================] - 1s 58us/step - loss: 0.6425 - acc: 0.6298 - val_loss: 0.6514 - val_acc: 0.6196\n",
      "Epoch 26/40\n",
      "15000/15000 [==============================] - 1s 61us/step - loss: 0.6406 - acc: 0.6354 - val_loss: 0.6522 - val_acc: 0.6182\n",
      "Epoch 27/40\n",
      "15000/15000 [==============================] - 1s 59us/step - loss: 0.6410 - acc: 0.6338 - val_loss: 0.6537 - val_acc: 0.6087\n",
      "Epoch 28/40\n",
      "15000/15000 [==============================] - 1s 60us/step - loss: 0.6416 - acc: 0.6333 - val_loss: 0.6596 - val_acc: 0.6037\n",
      "Epoch 29/40\n",
      "15000/15000 [==============================] - 1s 68us/step - loss: 0.6407 - acc: 0.6334 - val_loss: 0.6534 - val_acc: 0.6165\n",
      "Epoch 30/40\n",
      "15000/15000 [==============================] - 1s 60us/step - loss: 0.6402 - acc: 0.6317 - val_loss: 0.6523 - val_acc: 0.6100\n",
      "Epoch 31/40\n",
      "15000/15000 [==============================] - 1s 59us/step - loss: 0.6412 - acc: 0.6327 - val_loss: 0.6551 - val_acc: 0.6145\n",
      "Epoch 32/40\n",
      "15000/15000 [==============================] - 1s 58us/step - loss: 0.6396 - acc: 0.6338 - val_loss: 0.6623 - val_acc: 0.5999\n",
      "Epoch 33/40\n",
      "15000/15000 [==============================] - 1s 70us/step - loss: 0.6405 - acc: 0.6331 - val_loss: 0.6514 - val_acc: 0.6144\n",
      "Epoch 34/40\n",
      "15000/15000 [==============================] - 1s 68us/step - loss: 0.6392 - acc: 0.6343 - val_loss: 0.6506 - val_acc: 0.6208\n",
      "Epoch 35/40\n",
      "15000/15000 [==============================] - 1s 62us/step - loss: 0.6392 - acc: 0.6366 - val_loss: 0.6517 - val_acc: 0.6202\n",
      "Epoch 36/40\n",
      "15000/15000 [==============================] - 1s 63us/step - loss: 0.6414 - acc: 0.6312 - val_loss: 0.6513 - val_acc: 0.6186\n",
      "Epoch 37/40\n",
      "15000/15000 [==============================] - 1s 63us/step - loss: 0.6386 - acc: 0.6376 - val_loss: 0.6506 - val_acc: 0.6193\n",
      "Epoch 38/40\n",
      "15000/15000 [==============================] - 1s 67us/step - loss: 0.6389 - acc: 0.6367 - val_loss: 0.6591 - val_acc: 0.6046\n",
      "Epoch 39/40\n",
      "15000/15000 [==============================] - 1s 63us/step - loss: 0.6380 - acc: 0.6376 - val_loss: 0.6526 - val_acc: 0.6169\n",
      "Epoch 40/40\n",
      "15000/15000 [==============================] - 1s 63us/step - loss: 0.6381 - acc: 0.6374 - val_loss: 0.6501 - val_acc: 0.6140\n",
      "25000/25000 [==============================] - 1s 35us/step\n",
      "[0.6447576189422607, 0.62576]\n"
     ]
    }
   ],
   "source": [
    "# put your code here\n",
    "model4 = Sequential()\n",
    "model4.add(myTrainableEmbeddingLayer)\n",
    "model4.add(GlobalAveragePooling1DMasked())\n",
    "#model2.add(GlobalAveragePooling1D())\n",
    "model4.add(Dense(16, activation='relu'))\n",
    "model4.add(Dense(16, activation='relu'))\n",
    "model4.add(Dense(1, activation='sigmoid'))\n",
    "model4.summary()\n",
    "\n",
    "model4.compile(optimizer='adam',\n",
    "              loss='binary_crossentropy',\n",
    "              metrics=['accuracy'])\n",
    "\n",
    "X_val = np.array(X_train_enc[:10000])\n",
    "partial_X_train = np.array(X_train_enc[10000:])\n",
    "\n",
    "history4 = model4.fit(partial_X_train,\n",
    "                    partial_y_train,\n",
    "                    epochs=40,\n",
    "                    batch_size=64,\n",
    "                    validation_data=(X_val, y_val),\n",
    "                    verbose=1)\n",
    "\n",
    "results = model4.evaluate(X_test_enc, y_test)\n",
    "print(results)"
   ]
  },
  {
   "cell_type": "code",
   "execution_count": 28,
   "metadata": {
    "colab": {},
    "colab_type": "code",
    "id": "QtsdVeW7UgCu"
   },
   "outputs": [
    {
     "data": {
      "image/png": "[encoded data removed]",
      "text/plain": [
       "<Figure size 432x288 with 1 Axes>"
      ]
     },
     "metadata": {
      "needs_background": "light"
     },
     "output_type": "display_data"
    }
   ],
   "source": [
    "import matplotlib.pyplot as plt\n",
    "\n",
    "history_dict = history4.history\n",
    "\n",
    "acc = history_dict['acc']\n",
    "val_acc = history_dict['val_acc']\n",
    "loss = history_dict['loss']\n",
    "val_loss = history_dict['val_loss']\n",
    "\n",
    "epochs = range(1, len(acc) + 1)\n",
    "\n",
    "plt.plot(epochs, acc, 'bo', label='Training acc')\n",
    "plt.plot(epochs, val_acc, 'b', label='Validation acc')\n",
    "plt.title('Training and validation accuracy')\n",
    "plt.xlabel('Epochs')\n",
    "plt.ylabel('Accuracy')\n",
    "plt.legend()\n",
    "\n",
    "plt.show()"
   ]
  },
  {
   "cell_type": "markdown",
   "metadata": {
    "colab_type": "text",
    "id": "gn2GSV4ioyO2"
   },
   "source": [
    "\n",
    "\n",
    "---\n",
    "\n"
   ]
  },
  {
   "cell_type": "code",
   "execution_count": null,
   "metadata": {
    "colab": {},
    "colab_type": "code",
    "id": "XYC6DykEox2w"
   },
   "outputs": [],
   "source": []
  },
  {
   "cell_type": "code",
   "execution_count": null,
   "metadata": {
    "colab": {},
    "colab_type": "code",
    "id": "jL0UovfaE9GE"
   },
   "outputs": [],
   "source": []
  }
 ],
 "metadata": {
  "accelerator": "GPU",
  "colab": {
   "collapsed_sections": [],
   "name": "NNNLPLab3.ipynb",
   "provenance": [],
   "version": "0.3.2"
  },
  "kernelspec": {
   "display_name": "eenlp",
   "language": "python",
   "name": "myenv"
  },
  "language_info": {
   "codemirror_mode": {
    "name": "ipython",
    "version": 3
   },
   "file_extension": ".py",
   "mimetype": "text/x-python",
   "name": "python",
   "nbconvert_exporter": "python",
   "pygments_lexer": "ipython3",
   "version": "3.6.7"
  }
 },
 "nbformat": 4,
 "nbformat_minor": 1
}
