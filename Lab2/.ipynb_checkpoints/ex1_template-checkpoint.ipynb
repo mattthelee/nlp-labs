{
 "cells": [
  {
   "cell_type": "code",
   "execution_count": 38,
   "metadata": {},
   "outputs": [],
   "source": [
    "import csv                               # csv reader\n",
    "from sklearn.svm import LinearSVC\n",
    "from nltk.classify import SklearnClassifier\n",
    "from random import shuffle\n",
    "from sklearn.pipeline import Pipeline\n",
    "from sklearn.metrics import precision_recall_fscore_support\n",
    "from sklearn.metrics import confusion_matrix\n",
    "import numpy as np\n"
   ]
  },
  {
   "cell_type": "code",
   "execution_count": 19,
   "metadata": {},
   "outputs": [],
   "source": [
    "# load data from a file and append it to the rawData\n",
    "def loadData(path, Text=None):\n",
    "    with open(path) as f:\n",
    "        reader = csv.reader(f, delimiter='\\t')\n",
    "        # We want to skip the first line as it is the column title\n",
    "        next(reader)\n",
    "        for line in reader:\n",
    "            (Id, Text, Label) = parseReview(line)\n",
    "            rawData.append((Id, Text, Label))\n",
    "            preprocessedData.append((Id, preProcess(Text), Label))\n",
    "        \n",
    "def splitData(percentage):\n",
    "    dataSamples = len(rawData)\n",
    "    halfOfData = int(len(rawData)/2)\n",
    "    trainingSamples = int((percentage*dataSamples)/2)\n",
    "    for (_, Text, Label) in rawData[:trainingSamples] + rawData[halfOfData:halfOfData+trainingSamples]:\n",
    "        trainData.append((toFeatureVector(preProcess(Text)),Label))\n",
    "    for (_, Text, Label) in rawData[trainingSamples:halfOfData] + rawData[halfOfData+trainingSamples:]:\n",
    "        testData.append((toFeatureVector(preProcess(Text)),Label))"
   ]
  },
  {
   "cell_type": "code",
   "execution_count": 3,
   "metadata": {},
   "outputs": [],
   "source": [
    "# QUESTION 1\n",
    "\n",
    "# Convert line from input file into an id/text/label tuple\n",
    "def parseReview(reviewLine):\n",
    "    # Should return a triple of an integer, a string containing the review, and a string indicating the label\n",
    "    \n",
    "    id = int(reviewLine[0])\n",
    "    text = str(reviewLine[8])\n",
    "    label = str(reviewLine[1])\n",
    "    #print(id,text,label)\n",
    "    #print(type(id),type(text),type(label))\n",
    "    return (id, text, label)\n"
   ]
  },
  {
   "cell_type": "code",
   "execution_count": 4,
   "metadata": {},
   "outputs": [
    {
     "name": "stdout",
     "output_type": "stream",
     "text": [
      "[nltk_data] Downloading package stopwords to /home/leem/nltk_data...\n",
      "[nltk_data]   Package stopwords is already up-to-date!\n"
     ]
    }
   ],
   "source": [
    "# TEXT PREPROCESSING AND FEATURE VECTORIZATION\n",
    "import contractions\n",
    "from nltk.corpus import stopwords\n",
    "from nltk.stem.porter import PorterStemmer\n",
    "import nltk\n",
    "nltk.download('stopwords')\n",
    "\n",
    "# Input: a string of one review\n",
    "def preProcess(text):\n",
    "    # Initialisation steps:\n",
    "    #print(text)\n",
    "    new_text = []\n",
    "    stop_words = set(stopwords.words('english'))\n",
    "    porter = PorterStemmer()\n",
    "    \n",
    "    # replace i'd with i would and other similar contractions\n",
    "    text = contractions.fix(text) \n",
    "    # split by whitespace\n",
    "    tokens = text.split()\n",
    "    for token in tokens:\n",
    "        # Loop through words and remove capital letters\n",
    "        new_token = token.lower()\n",
    "        # If token is a stop word we don't want to include it\n",
    "        if new_token in stop_words:\n",
    "            continue;\n",
    "        # Use the porter algorithm to stem the word e.g. rationalise -> rational\n",
    "        new_text.append(porter.stem(new_token))\n",
    "        \n",
    "    # Should return a list of tokens\n",
    "    return new_text"
   ]
  },
  {
   "cell_type": "code",
   "execution_count": 5,
   "metadata": {},
   "outputs": [],
   "source": [
    "# QUESTION 2\n",
    "featureDict = {} # A global dictionary of features\n",
    "\n",
    "def toFeatureVector(tokens):\n",
    "    # Should return a dictionary containing features as keys, and weights as values\n",
    "    featureVec = {}\n",
    "    #TODO add more complex weighting system\n",
    "    for token in tokens:\n",
    "        # For each token, we want to increment the global feature count\n",
    "        #print('token:',token)\n",
    "        if token in featureDict:\n",
    "            featureDict[token] += 1\n",
    "        else:\n",
    "            featureDict[token] = 1\n",
    "        # We want to add the token to the dictionary to create a simple vector\n",
    "        if token in featureVec:\n",
    "            featureVec[token] += 1\n",
    "        else:\n",
    "            featureVec[token] = 1\n",
    "\n",
    "    return featureVec"
   ]
  },
  {
   "cell_type": "code",
   "execution_count": 6,
   "metadata": {},
   "outputs": [],
   "source": [
    "# TRAINING AND VALIDATING OUR CLASSIFIER\n",
    "def trainClassifier(trainData):\n",
    "    print(\"Training Classifier...\")\n",
    "    pipeline =  Pipeline([('svc', LinearSVC())])\n",
    "    return SklearnClassifier(pipeline).train(trainData)"
   ]
  },
  {
   "cell_type": "code",
   "execution_count": 54,
   "metadata": {},
   "outputs": [],
   "source": [
    "# QUESTION 3\n",
    "\n",
    "def crossValidate(dataset, folds):\n",
    "    shuffle(dataset)\n",
    "    data = prepData(dataset)\n",
    "    # Initialise an empty confusion matrix\n",
    "    totalConfusionMatrix = np.zeros((2,2))\n",
    "    \n",
    "    testDataLen = int(len(data)/folds)\n",
    "    for i in range(0,len(data),testDataLen):\n",
    "        testEnd = i+testDataLen\n",
    "        testingData = data[i:testEnd]\n",
    "        trainingData = data[:i] + data[testEnd:]\n",
    "        #print(\"Split:\", i, \"No train data:\",len(trainingData),\"No test data:\",len(testingData),\"Scores below\")\n",
    "        classifier = trainClassifier(trainingData)\n",
    "        yPred = [predictVector(x[0], classifier) for x in testingData]\n",
    "        yTrue = [x[1] for x in testingData]\n",
    "        #results = precision_recall_fscore_support(yTrue, yPred)\n",
    "        confusionMatrix = confusion_matrix(yTrue,yPred)\n",
    "        totalConfusionMatrix = np.add(confusionMatrix, totalConfusionMatrix)\n",
    "        \n",
    "    #print(totalConfusionMatrix)\n",
    "    averagePrecision = totalConfusionMatrix[0][0] / (totalConfusionMatrix[0][0] + totalConfusionMatrix[0][1])\n",
    "    averageRecall = totalConfusionMatrix[0][0] / (totalConfusionMatrix[0][0] + totalConfusionMatrix[1][0])\n",
    "    averageF1Score = 2*averagePrecision*averageRecall / (averagePrecision + averageRecall)\n",
    "    averageAccuracy = (totalConfusionMatrix[0][0] + totalConfusionMatrix[1][1])/ float(np.sum(totalConfusionMatrix))\n",
    "    cv_results = (averagePrecision,averageRecall,averageF1Score,averageAccuracy)\n",
    "    \n",
    "    return cv_results\n",
    "\n",
    "def prepData(data):\n",
    "    newData = []\n",
    "    for (_, Text, Label) in data:\n",
    "        newData.append((toFeatureVector(preProcess(Text)),Label))\n",
    "    return newData"
   ]
  },
  {
   "cell_type": "code",
   "execution_count": 24,
   "metadata": {},
   "outputs": [],
   "source": [
    "# PREDICTING LABELS GIVEN A CLASSIFIER\n",
    "\n",
    "# Takes in a list of strings as review samples and returns list of predictions\n",
    "def predictLabels(reviewSamples, classifier):\n",
    "    return classifier.classify_many(map(lambda t: toFeatureVector(preProcess(t[1])), reviewSamples))\n",
    "\n",
    "# Takes in string as a review sample and returns a prediction\n",
    "def predictLabel(reviewSample, classifier):\n",
    "    return classifier.classify(toFeatureVector(preProcess(reviewSample)))\n",
    "\n",
    "# More efficient to use lambda function and simply pass the vector to this predict func\n",
    "def predictVector(textVec, classifier):\n",
    "    return classifier.classify(textVec)"
   ]
  },
  {
   "cell_type": "code",
   "execution_count": 20,
   "metadata": {},
   "outputs": [
    {
     "name": "stdout",
     "output_type": "stream",
     "text": [
      "Now 0 rawData, 0 trainData, 0 testData\n",
      "Preparing the dataset...\n",
      "Now 21000 rawData, 0 trainData, 0 testData\n",
      "Preparing training and test data...\n",
      "Now 21000 rawData, 16800 trainData, 4200 testData\n",
      "Training Samples: \n",
      "16800\n",
      "Features: \n",
      "68481\n"
     ]
    }
   ],
   "source": [
    "# MAIN\n",
    "\n",
    "# loading reviews\n",
    "rawData = []          # the filtered data from the dataset file (should be 21000 samples)\n",
    "preprocessedData = [] # the preprocessed reviews (just to see how your preprocessing is doing)\n",
    "trainData = []        # the training data as a percentage of the total dataset (currently 80%, or 16800 samples)\n",
    "testData = []         # the test data as a percentage of the total dataset (currently 20%, or 4200 samples)\n",
    "\n",
    "# the output classes\n",
    "fakeLabel = 'fake'\n",
    "realLabel = 'real'\n",
    "\n",
    "# references to the data files\n",
    "reviewPath = 'amazon_reviews.txt'\n",
    "\n",
    "## Do the actual stuff\n",
    "# We parse the dataset and put it in a raw data list\n",
    "print(\"Now %d rawData, %d trainData, %d testData\" % (len(rawData), len(trainData), len(testData)),\n",
    "      \"Preparing the dataset...\",sep='\\n')\n",
    "loadData(reviewPath) \n",
    "# We split the raw dataset into a set of training data and a set of test data (80/20)\n",
    "print(\"Now %d rawData, %d trainData, %d testData\" % (len(rawData), len(trainData), len(testData)),\n",
    "      \"Preparing training and test data...\",sep='\\n')\n",
    "splitData(0.8)\n",
    "# We print the number of training samples and the number of features\n",
    "print(\"Now %d rawData, %d trainData, %d testData\" % (len(rawData), len(trainData), len(testData)),\n",
    "      \"Training Samples: \", len(trainData), \"Features: \", len(featureDict), sep='\\n')"
   ]
  },
  {
   "cell_type": "code",
   "execution_count": 23,
   "metadata": {},
   "outputs": [
    {
     "name": "stdout",
     "output_type": "stream",
     "text": [
      "{'realiz': 1, 'hen': 1, 'compani': 1, 'come': 1, 'look': 1, 'orient': 1, 'fit': 1, 'would': 1, 'differ': 1, 'ethnic': 1, 'bodi': 1, 'type,': 1, 'even': 1, 'though': 1, 'order': 1, 'medium': 2, 'larg': 1, 'may': 1, 'small': 1, 'american': 1, 'standards--': 1, 'small.': 1, 'need': 1, 'send': 1, 'back': 1}\n"
     ]
    }
   ],
   "source": [
    "#TODO fix the classifier as it's classifying everything as label2\n",
    "testThing = trainData[-1:] + trainData[:1]\n",
    "#testThing.append(trainData[:1000])\n",
    "#simpleClassifier = trainClassifier(trainData)\n",
    "print(testThing[0][0])\n",
    "#yTest = testThing\n",
    "#rawthing = [parseReview(x) for x in rawData]\n",
    "#simpleClassifier = trainClassifier(rawthing)\n",
    "#predictLabel(trainData[0][0], simpleClassifier)\n",
    "#predictLabel(rawData[0][1],simpleClassifier)\n"
   ]
  },
  {
   "cell_type": "code",
   "execution_count": 55,
   "metadata": {},
   "outputs": [
    {
     "name": "stdout",
     "output_type": "stream",
     "text": [
      "Training Classifier...\n",
      "Training Classifier...\n",
      "Training Classifier...\n",
      "Training Classifier...\n",
      "Training Classifier...\n",
      "Training Classifier...\n",
      "Training Classifier...\n",
      "Training Classifier...\n",
      "Training Classifier...\n",
      "Training Classifier...\n",
      "Precision: 0.6148571428571429 Recall: 0.5927830318611698 F1Score: 0.6036183441634332 Accuracy: 0.5962380952380952\n"
     ]
    }
   ],
   "source": [
    "myResults = crossValidate(rawData,10)\n",
    "print(f\"Precision: {myResults[0]} Recall: {myResults[1]} F1Score: {myResults[2]} Accuracy: {myResults[3]}\")"
   ]
  },
  {
   "cell_type": "markdown",
   "metadata": {},
   "source": [
    "Without stemming words, removal of stop words and lowering of word case, the model achieved:\n",
    "\n",
    "With stemming, removal of stop words and lowering of word case the model achieved: \n",
    "Precision: 0.6148571428571429 Recall: 0.5927830318611698 F1Score: 0.6036183441634332 Accuracy: 0.5962380952380952"
   ]
  },
  {
   "cell_type": "code",
   "execution_count": null,
   "metadata": {},
   "outputs": [],
   "source": []
  }
 ],
 "metadata": {
  "kernelspec": {
   "display_name": "Python 3",
   "language": "python",
   "name": "python3"
  },
  "language_info": {
   "codemirror_mode": {
    "name": "ipython",
    "version": 3
   },
   "file_extension": ".py",
   "mimetype": "text/x-python",
   "name": "python",
   "nbconvert_exporter": "python",
   "pygments_lexer": "ipython3",
   "version": "3.6.5"
  }
 },
 "nbformat": 4,
 "nbformat_minor": 2
}
